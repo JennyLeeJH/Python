{
 "cells": [
  {
   "cell_type": "code",
   "execution_count": 5,
   "id": "c374e857-19a6-44e0-b739-44b024cdf387",
   "metadata": {},
   "outputs": [],
   "source": [
    "html_doc = \"\"\"<html><head><title>The Dormouse's story</title></head>\n",
    "<body>\n",
    "<p class=\"title\"><b>The Dormouse's story</b></p>\n",
    "\n",
    "<p class=\"story\">Once upon a time there were three little sisters; and their names were\n",
    "<a href=\"http://example.com/elsie\" class=\"sister\" id=\"link1\">Elsie</a>,\n",
    "<a href=\"http://example.com/lacie\" class=\"sister\" id=\"link2\">Lacie</a> and\n",
    "<a href=\"http://example.com/tillie\" class=\"sister\" id=\"link3\">Tillie</a>;\n",
    "and they lived at the bottom of a well.</p>\n",
    "\n",
    "<p class=\"story\">...</p>\n",
    "\"\"\""
   ]
  },
  {
   "cell_type": "code",
   "execution_count": 6,
   "id": "b3086623-9e5f-45f2-b9d1-5037cced772a",
   "metadata": {},
   "outputs": [],
   "source": [
    "from bs4 import BeautifulSoup"
   ]
  },
  {
   "cell_type": "code",
   "execution_count": 32,
   "id": "1b556a50-2ad1-4c37-917d-755b1046be87",
   "metadata": {},
   "outputs": [],
   "source": [
    "soup = BeautifulSoup(html_doc,'lxml') \n",
    "# soup = BeautifulSoup(html_doc,'html.parser') 둘 다 사용 가능하지만 lxml이 속도가 더 빠르다!"
   ]
  },
  {
   "cell_type": "code",
   "execution_count": 33,
   "id": "7f3f967c-2051-4a96-9819-e96d926be889",
   "metadata": {
    "collapsed": true,
    "jupyter": {
     "outputs_hidden": true
    },
    "tags": []
   },
   "outputs": [
    {
     "name": "stdout",
     "output_type": "stream",
     "text": [
      "<html>\n",
      " <head>\n",
      "  <title>\n",
      "   The Dormouse's story\n",
      "  </title>\n",
      " </head>\n",
      " <body>\n",
      "  <p class=\"title\">\n",
      "   <b>\n",
      "    The Dormouse's story\n",
      "   </b>\n",
      "  </p>\n",
      "  <p class=\"story\">\n",
      "   Once upon a time there were three little sisters; and their names were\n",
      "   <a class=\"sister\" href=\"http://example.com/elsie\" id=\"link1\">\n",
      "    Elsie\n",
      "   </a>\n",
      "   ,\n",
      "   <a class=\"sister\" href=\"http://example.com/lacie\" id=\"link2\">\n",
      "    Lacie\n",
      "   </a>\n",
      "   and\n",
      "   <a class=\"sister\" href=\"http://example.com/tillie\" id=\"link3\">\n",
      "    Tillie\n",
      "   </a>\n",
      "   ;\n",
      "and they lived at the bottom of a well.\n",
      "  </p>\n",
      "  <p class=\"story\">\n",
      "   ...\n",
      "  </p>\n",
      " </body>\n",
      "</html>\n"
     ]
    }
   ],
   "source": [
    "print(soup.prettify())"
   ]
  },
  {
   "cell_type": "code",
   "execution_count": 34,
   "id": "dec47bc0-caf6-4464-9b79-cbb9408ec81d",
   "metadata": {},
   "outputs": [
    {
     "data": {
      "text/plain": [
       "<title>The Dormouse's story</title>"
      ]
     },
     "execution_count": 34,
     "metadata": {},
     "output_type": "execute_result"
    }
   ],
   "source": [
    "soup.title"
   ]
  },
  {
   "cell_type": "code",
   "execution_count": 35,
   "id": "7dbb6ab9-f705-4fe2-b0ca-6c07ebbc6e44",
   "metadata": {},
   "outputs": [
    {
     "data": {
      "text/plain": [
       "<p class=\"title\"><b>The Dormouse's story</b></p>"
      ]
     },
     "execution_count": 35,
     "metadata": {},
     "output_type": "execute_result"
    }
   ],
   "source": [
    "soup.p"
   ]
  },
  {
   "cell_type": "code",
   "execution_count": 36,
   "id": "b617e398-aa9a-4e2c-8c76-446258ac1b76",
   "metadata": {},
   "outputs": [
    {
     "data": {
      "text/plain": [
       "'title'"
      ]
     },
     "execution_count": 36,
     "metadata": {},
     "output_type": "execute_result"
    }
   ],
   "source": [
    "soup.title.name"
   ]
  },
  {
   "cell_type": "code",
   "execution_count": 37,
   "id": "a5c0d106-6c7e-4a3b-8536-4bd4e6189b7b",
   "metadata": {},
   "outputs": [
    {
     "data": {
      "text/plain": [
       "\"The Dormouse's story\""
      ]
     },
     "execution_count": 37,
     "metadata": {},
     "output_type": "execute_result"
    }
   ],
   "source": [
    "soup.title.string # string은 태그 안쪽의 글자를 의미"
   ]
  },
  {
   "cell_type": "code",
   "execution_count": 38,
   "id": "f44c576f-acef-41a4-b36c-663b4136276d",
   "metadata": {},
   "outputs": [
    {
     "data": {
      "text/plain": [
       "\"The Dormouse's story\""
      ]
     },
     "execution_count": 38,
     "metadata": {},
     "output_type": "execute_result"
    }
   ],
   "source": [
    "soup.title.text # 구조적으로 달라지면 안보일 수도 있다..?"
   ]
  },
  {
   "cell_type": "code",
   "execution_count": 39,
   "id": "1485e4a8-60c4-4787-99e1-827bb17ecd99",
   "metadata": {},
   "outputs": [
    {
     "data": {
      "text/plain": [
       "'head'"
      ]
     },
     "execution_count": 39,
     "metadata": {},
     "output_type": "execute_result"
    }
   ],
   "source": [
    "soup.title.parent.name"
   ]
  },
  {
   "cell_type": "code",
   "execution_count": 40,
   "id": "8e7b8366-ec88-450c-b79b-3700cf0826fb",
   "metadata": {},
   "outputs": [
    {
     "data": {
      "text/plain": [
       "<p class=\"title\"><b>The Dormouse's story</b></p>"
      ]
     },
     "execution_count": 40,
     "metadata": {},
     "output_type": "execute_result"
    }
   ],
   "source": [
    "soup.p # 맨 처음의 p태그"
   ]
  },
  {
   "cell_type": "code",
   "execution_count": 41,
   "id": "747c47a9-e768-4788-aeaf-6e4c5dc4f041",
   "metadata": {},
   "outputs": [
    {
     "data": {
      "text/plain": [
       "['title']"
      ]
     },
     "execution_count": 41,
     "metadata": {},
     "output_type": "execute_result"
    }
   ],
   "source": [
    "soup.p['class'] # 답을 여러개 가질 수 있기 때문에 list로 리턴한다."
   ]
  },
  {
   "cell_type": "code",
   "execution_count": 42,
   "id": "d36c6d8c-4ccc-4a25-9222-b549e5bde196",
   "metadata": {},
   "outputs": [
    {
     "data": {
      "text/plain": [
       "<a class=\"sister\" href=\"http://example.com/elsie\" id=\"link1\">Elsie</a>"
      ]
     },
     "execution_count": 42,
     "metadata": {},
     "output_type": "execute_result"
    }
   ],
   "source": [
    "soup.a"
   ]
  },
  {
   "cell_type": "code",
   "execution_count": 43,
   "id": "8fe7b375-0225-4e18-93eb-0d0e15eea64b",
   "metadata": {},
   "outputs": [
    {
     "data": {
      "text/plain": [
       "'link1'"
      ]
     },
     "execution_count": 43,
     "metadata": {},
     "output_type": "execute_result"
    }
   ],
   "source": [
    "soup.a['id']"
   ]
  },
  {
   "cell_type": "code",
   "execution_count": 44,
   "id": "29dde19a-fdd8-4aa6-9b88-4762be218995",
   "metadata": {},
   "outputs": [
    {
     "data": {
      "text/plain": [
       "[<a class=\"sister\" href=\"http://example.com/elsie\" id=\"link1\">Elsie</a>,\n",
       " <a class=\"sister\" href=\"http://example.com/lacie\" id=\"link2\">Lacie</a>,\n",
       " <a class=\"sister\" href=\"http://example.com/tillie\" id=\"link3\">Tillie</a>]"
      ]
     },
     "execution_count": 44,
     "metadata": {},
     "output_type": "execute_result"
    }
   ],
   "source": [
    "soup.find_all('a') # a 인풋 태그를 다 찾아라! 리스트로 리턴!"
   ]
  },
  {
   "cell_type": "code",
   "execution_count": 45,
   "id": "c196d663-04ac-43e2-b181-e15d6af388a0",
   "metadata": {},
   "outputs": [
    {
     "name": "stdout",
     "output_type": "stream",
     "text": [
      "http://example.com/elsie\n",
      "http://example.com/lacie\n",
      "http://example.com/tillie\n"
     ]
    }
   ],
   "source": [
    "for link in soup.find_all('a'):\n",
    "    print(link['href'])"
   ]
  },
  {
   "cell_type": "code",
   "execution_count": 46,
   "id": "50bef133-dd84-4701-b7bf-794c7187b41d",
   "metadata": {},
   "outputs": [
    {
     "data": {
      "text/plain": [
       "<a class=\"sister\" href=\"http://example.com/elsie\" id=\"link1\">Elsie</a>"
      ]
     },
     "execution_count": 46,
     "metadata": {},
     "output_type": "execute_result"
    }
   ],
   "source": [
    "soup.find('a') # 맨 처음 나오는 a 태그 하나만 리턴"
   ]
  },
  {
   "cell_type": "code",
   "execution_count": 47,
   "id": "33e53663-6e76-42c1-98d8-8d9042ddbe20",
   "metadata": {},
   "outputs": [
    {
     "data": {
      "text/plain": [
       "<a class=\"sister\" href=\"http://example.com/lacie\" id=\"link2\">Lacie</a>"
      ]
     },
     "execution_count": 47,
     "metadata": {},
     "output_type": "execute_result"
    }
   ],
   "source": [
    "soup.find(id = 'link2') # id값이 link2인 데이터를 찾아준다."
   ]
  },
  {
   "cell_type": "code",
   "execution_count": 48,
   "id": "59b60365-3bf9-4122-822f-c3fce1a236f5",
   "metadata": {},
   "outputs": [
    {
     "data": {
      "text/plain": [
       "\"The Dormouse's story\\n\\nThe Dormouse's story\\nOnce upon a time there were three little sisters; and their names were\\nElsie,\\nLacie and\\nTillie;\\nand they lived at the bottom of a well.\\n...\\n\""
      ]
     },
     "execution_count": 48,
     "metadata": {},
     "output_type": "execute_result"
    }
   ],
   "source": [
    "soup.get_text() # 텍스트 안에 문자들 리턴"
   ]
  },
  {
   "cell_type": "code",
   "execution_count": 49,
   "id": "f2170db6-e622-4768-b14d-14ce7877b4d1",
   "metadata": {},
   "outputs": [],
   "source": [
    "soup.string # 구조상으로 태그 안에 안에 있을 경우 리턴값 안나온다!"
   ]
  },
  {
   "cell_type": "code",
   "execution_count": 50,
   "id": "9edc7e4b-0790-4239-bfb8-25037c51d8b7",
   "metadata": {},
   "outputs": [
    {
     "data": {
      "text/plain": [
       "\"The Dormouse's story\\n\\nThe Dormouse's story\\nOnce upon a time there were three little sisters; and their names were\\nElsie,\\nLacie and\\nTillie;\\nand they lived at the bottom of a well.\\n...\\n\""
      ]
     },
     "execution_count": 50,
     "metadata": {},
     "output_type": "execute_result"
    }
   ],
   "source": [
    "soup.text # string 과 달리 text는 가능"
   ]
  },
  {
   "cell_type": "code",
   "execution_count": 51,
   "id": "a7f07f90-033a-430e-a159-b7b20fed91ab",
   "metadata": {},
   "outputs": [
    {
     "data": {
      "text/plain": [
       "bs4.element.Tag"
      ]
     },
     "execution_count": 51,
     "metadata": {},
     "output_type": "execute_result"
    }
   ],
   "source": [
    "type(soup.title)"
   ]
  },
  {
   "cell_type": "code",
   "execution_count": 52,
   "id": "09867575-7423-49b4-af6f-19f78ade7dc0",
   "metadata": {},
   "outputs": [
    {
     "data": {
      "text/plain": [
       "'title'"
      ]
     },
     "execution_count": 52,
     "metadata": {},
     "output_type": "execute_result"
    }
   ],
   "source": [
    "soup.title.name"
   ]
  },
  {
   "cell_type": "code",
   "execution_count": 53,
   "id": "9f005173-9b68-49aa-a3d6-d9dc6a66da4b",
   "metadata": {},
   "outputs": [],
   "source": [
    "soup.title.name = 'title1'"
   ]
  },
  {
   "cell_type": "code",
   "execution_count": 54,
   "id": "f4116b71-dc92-45d1-ba91-c317ad2a89fe",
   "metadata": {},
   "outputs": [
    {
     "data": {
      "text/plain": [
       "<html><head><title1>The Dormouse's story</title1></head>\n",
       "<body>\n",
       "<p class=\"title\"><b>The Dormouse's story</b></p>\n",
       "<p class=\"story\">Once upon a time there were three little sisters; and their names were\n",
       "<a class=\"sister\" href=\"http://example.com/elsie\" id=\"link1\">Elsie</a>,\n",
       "<a class=\"sister\" href=\"http://example.com/lacie\" id=\"link2\">Lacie</a> and\n",
       "<a class=\"sister\" href=\"http://example.com/tillie\" id=\"link3\">Tillie</a>;\n",
       "and they lived at the bottom of a well.</p>\n",
       "<p class=\"story\">...</p>\n",
       "</body></html>"
      ]
     },
     "execution_count": 54,
     "metadata": {},
     "output_type": "execute_result"
    }
   ],
   "source": [
    "soup"
   ]
  },
  {
   "cell_type": "code",
   "execution_count": 62,
   "id": "3b2fd6eb-5bc8-4120-85e0-47f4fe692077",
   "metadata": {},
   "outputs": [],
   "source": [
    "soup.title1.name = 'title'"
   ]
  },
  {
   "cell_type": "code",
   "execution_count": 63,
   "id": "e433d4da-f3eb-4f73-b6c2-ab83474c774b",
   "metadata": {},
   "outputs": [
    {
     "data": {
      "text/plain": [
       "<html><head><title>The Dormouse's story</title></head>\n",
       "<body>\n",
       "<p class=\"title\"><b>The Dormouse's story</b></p>\n",
       "<p class=\"story\">Once upon a time there were three little sisters; and their names were\n",
       "<a class=\"sister\" href=\"http://example.com/elsie\" id=\"link1\">Elsie</a>,\n",
       "<a class=\"sister\" href=\"http://example.com/lacie\" id=\"link2\">Lacie</a> and\n",
       "<a class=\"sister\" href=\"http://example.com/tillie\" id=\"link3\">Tillie</a>;\n",
       "and they lived at the bottom of a well.</p>\n",
       "<p class=\"story\">...</p>\n",
       "</body></html>"
      ]
     },
     "execution_count": 63,
     "metadata": {},
     "output_type": "execute_result"
    }
   ],
   "source": [
    "soup"
   ]
  },
  {
   "cell_type": "code",
   "execution_count": 65,
   "id": "7a97a272-d018-4916-a3d9-31e9febb4723",
   "metadata": {},
   "outputs": [],
   "source": [
    "tag = soup.a"
   ]
  },
  {
   "cell_type": "code",
   "execution_count": 66,
   "id": "fcdba009-8c53-44f3-b024-b589d7d204ed",
   "metadata": {},
   "outputs": [
    {
     "data": {
      "text/plain": [
       "['sister']"
      ]
     },
     "execution_count": 66,
     "metadata": {},
     "output_type": "execute_result"
    }
   ],
   "source": [
    "tag['class']"
   ]
  },
  {
   "cell_type": "code",
   "execution_count": 67,
   "id": "bcc6260b-f5ea-4f31-a490-1ee5cf3c0684",
   "metadata": {},
   "outputs": [
    {
     "data": {
      "text/plain": [
       "'http://example.com/elsie'"
      ]
     },
     "execution_count": 67,
     "metadata": {},
     "output_type": "execute_result"
    }
   ],
   "source": [
    "tag['href']"
   ]
  },
  {
   "cell_type": "code",
   "execution_count": 69,
   "id": "ffa7d14d-b095-431f-947f-9fabcfc43b2e",
   "metadata": {},
   "outputs": [
    {
     "data": {
      "text/plain": [
       "{'href': 'http://example.com/elsie', 'class': ['sister'], 'id': 'link1'}"
      ]
     },
     "execution_count": 69,
     "metadata": {},
     "output_type": "execute_result"
    }
   ],
   "source": [
    "tag.attrs #딕셔너리로 뽑는다"
   ]
  },
  {
   "cell_type": "code",
   "execution_count": 73,
   "id": "2290dd41-d026-42c9-b135-3b4a6c1437b5",
   "metadata": {},
   "outputs": [
    {
     "name": "stdout",
     "output_type": "stream",
     "text": [
      "href:http://example.com/elsie\n",
      "class:['sister']\n",
      "id:link1\n"
     ]
    }
   ],
   "source": [
    "for item in tag.attrs:\n",
    "    print(item, end=':') #key값만 출력\n",
    "    print(tag[item]) #key로 value 값 출력"
   ]
  },
  {
   "cell_type": "code",
   "execution_count": 84,
   "id": "e43e70d3-07ef-43d3-aa1c-ebba144672ec",
   "metadata": {},
   "outputs": [],
   "source": [
    "# 네이버 환율 페이지 통화명\n",
    "url = 'https://finance.naver.com/marketindex/exchangeList.naver'"
   ]
  },
  {
   "cell_type": "code",
   "execution_count": 76,
   "id": "c32735e5-d536-45f1-856a-c67361579525",
   "metadata": {},
   "outputs": [],
   "source": [
    "import requests\n",
    "from bs4 import BeautifulSoup"
   ]
  },
  {
   "cell_type": "code",
   "execution_count": 77,
   "id": "a3178394-98ca-4911-a030-5c91e1cd4cef",
   "metadata": {},
   "outputs": [],
   "source": [
    "res = requests.get(url).text"
   ]
  },
  {
   "cell_type": "code",
   "execution_count": 78,
   "id": "cb52941b-28ae-4a2f-8d85-8c1e81fb77e9",
   "metadata": {
    "collapsed": true,
    "jupyter": {
     "outputs_hidden": true
    },
    "tags": []
   },
   "outputs": [
    {
     "data": {
      "text/plain": [
       "'<html lang=\\'ko\\'>\\n<head>\\n<title>네이버 금융</title>\\n<meta http-equiv=\\'Content-Type\\' content=\\'text/html; charset=euc-kr\\'>\\n<meta http-equiv=\"Content-Script-Type\" content=\"text/javascript\">\\n<meta http-equiv=\"Content-Style-Type\" content=\"text/css\">\\n<link rel=\"stylesheet\" type=\"text/css\" href=\"https://ssl.pstatic.net/imgstock/static.pc/20220615142521/css/finance.css\">\\n\\n<script language=\"javascript\">document.domain=\"naver.com\";</script>\\n<script type=\"text/javascript\" src=\"https://ssl.pstatic.net/imgstock/static.pc/20220615142521/js/info/jindo.min.ns.1.5.3.euckr.js\"></script>\\n<script type=\"text/javascript\" src=\"https://ssl.pstatic.net/imgstock/static.pc/20220615142521/js/lcslog.js\"></script>\\n</head>\\n<body>\\n<div class=\"tbl_area\">\\n\\t<table border=\"1\" class=\"tbl_exchange\" summary=\"환전 고시 환율 리스트\">\\n\\t<caption>환전 고시 환율</caption>\\n\\t<colgroup>\\n\\t\\t<col width=\"162\">\\n\\t\\t<col width=\"92\">\\n\\t\\t<col width=\"92\">\\n\\t\\t<col width=\"92\">\\n\\t\\t<col width=\"93\">\\n\\t\\t<col width=\"92\">\\n\\t\\t<col width=\"90\">\\n\\t</colgroup>\\n\\t<thead>\\n\\t<tr>\\n\\t<th rowspan=\"2\" \\n\\t\\n\\t\\t\\n\\t\\t class=\"th_ex1\"\\n\\t\\n\\t>\\n\\t<a href=\"#\" onClick=\"javascript:changeOrder(\\'exchange\\'); return false;\"><span>통화명</span></a></th>\\n\\t<th rowspan=\"2\" class=\"th_ex2\"><span>매매기준율</span></th>\\n\\t<th colspan=\"2\" class=\"th_ex3\"><span>현찰</span></th>\\n\\t<th colspan=\"2\" class=\"th_ex4\"><span>송금</span></th>\\n\\t<th rowspan=\"2\" class=\"th_ex6\"><span>미화환산율</span></th>\\n\\t</tr>\\n\\t<tr>\\n\\t<th class=\"th_ex7\"><span>사실 때 </span></th>\\n\\t<th class=\"th_ex8\"><span>파실 때 </span></th>\\n\\t<th class=\"th_ex9\"><span>보내실 때 </span></th>\\n\\t<th class=\"th_ex10\"><span>받으실 때</span></th>\\n\\t</tr>\\n\\t\\t</thead>\\n\\t\\t\\t<tbody>\\n\\t\\t\\t\\t\\n\\t\\t\\t\\t<tr>\\n\\t\\t\\t\\t<td class=\"tit\"><a href=\"/marketindex/exchangeDetail.naver?marketindexCd=FX_USDKRW\" target=\"_parent\" onclick=\"parent.clickcr(this, \\'exl.exlist\\', \\'FX_USDKRW\\', \\'1\\', event);\">\\n\\t\\t\\t\\t\\n\\t\\t\\t\\t\\t\\n\\t\\t\\t\\t\\t\\n\\t\\t\\t\\t\\t\\n\\t\\t\\t\\t\\t미국 USD\\n\\t\\t\\t\\t\\n\\t\\t\\t\\t</a></td>\\n\\t\\t\\t\\t<td class=\"sale\">1,297.40</td>\\n\\t\\t\\t\\t<td>1,320.10</td>\\n\\t\\t\\t\\t<td>1,274.70</td>\\n\\t\\t\\t\\t<td>1,310.10</td>\\n\\t\\t\\t\\t<td>1,284.70</td>\\n\\t\\t\\t\\t<td>1.000</td>\\n\\t\\t\\t\\t</tr>\\n\\t\\t\\t\\t\\n\\t\\t\\t\\t<tr>\\n\\t\\t\\t\\t<td class=\"tit\"><a href=\"/marketindex/exchangeDetail.naver?marketindexCd=FX_EURKRW\" target=\"_parent\" onclick=\"parent.clickcr(this, \\'exl.exlist\\', \\'FX_EURKRW\\', \\'2\\', event);\">\\n\\t\\t\\t\\t\\n\\t\\t\\t\\t\\t\\n\\t\\t\\t\\t\\t\\n\\t\\t\\t\\t\\t\\n\\t\\t\\t\\t\\t유럽연합 EUR\\n\\t\\t\\t\\t\\n\\t\\t\\t\\t</a></td>\\n\\t\\t\\t\\t<td class=\"sale\">1,353.58</td>\\n\\t\\t\\t\\t<td>1,380.51</td>\\n\\t\\t\\t\\t<td>1,326.65</td>\\n\\t\\t\\t\\t<td>1,367.11</td>\\n\\t\\t\\t\\t<td>1,340.05</td>\\n\\t\\t\\t\\t<td>1.043</td>\\n\\t\\t\\t\\t</tr>\\n\\t\\t\\t\\t\\n\\t\\t\\t\\t<tr>\\n\\t\\t\\t\\t<td class=\"tit\"><a href=\"/marketindex/exchangeDetail.naver?marketindexCd=FX_JPYKRW\" target=\"_parent\" onclick=\"parent.clickcr(this, \\'exl.exlist\\', \\'FX_JPYKRW\\', \\'3\\', event);\">\\n\\t\\t\\t\\t\\n\\t\\t\\t\\t\\t일본 JPY (100엔)\\n\\t\\t\\t\\t\\t\\n\\t\\t\\t\\t\\t\\n\\t\\t\\t\\t\\t\\n\\t\\t\\t\\t\\n\\t\\t\\t\\t</a></td>\\n\\t\\t\\t\\t<td class=\"sale\">960.79</td>\\n\\t\\t\\t\\t<td>977.60</td>\\n\\t\\t\\t\\t<td>943.98</td>\\n\\t\\t\\t\\t<td>970.20</td>\\n\\t\\t\\t\\t<td>951.38</td>\\n\\t\\t\\t\\t<td>0.741</td>\\n\\t\\t\\t\\t</tr>\\n\\t\\t\\t\\t\\n\\t\\t\\t\\t<tr>\\n\\t\\t\\t\\t<td class=\"tit\"><a href=\"/marketindex/exchangeDetail.naver?marketindexCd=FX_CNYKRW\" target=\"_parent\" onclick=\"parent.clickcr(this, \\'exl.exlist\\', \\'FX_CNYKRW\\', \\'4\\', event);\">\\n\\t\\t\\t\\t\\n\\t\\t\\t\\t\\t\\n\\t\\t\\t\\t\\t\\n\\t\\t\\t\\t\\t\\n\\t\\t\\t\\t\\t중국 CNY\\n\\t\\t\\t\\t\\n\\t\\t\\t\\t</a></td>\\n\\t\\t\\t\\t<td class=\"sale\">193.69</td>\\n\\t\\t\\t\\t<td>203.37</td>\\n\\t\\t\\t\\t<td>184.01</td>\\n\\t\\t\\t\\t<td>195.62</td>\\n\\t\\t\\t\\t<td>191.76</td>\\n\\t\\t\\t\\t<td>0.149</td>\\n\\t\\t\\t\\t</tr>\\n\\t\\t\\t\\t\\n\\t\\t\\t\\t<tr>\\n\\t\\t\\t\\t<td class=\"tit\"><a href=\"/marketindex/exchangeDetail.naver?marketindexCd=FX_HKDKRW\" target=\"_parent\" onclick=\"parent.clickcr(this, \\'exl.exlist\\', \\'FX_HKDKRW\\', \\'5\\', event);\">\\n\\t\\t\\t\\t\\n\\t\\t\\t\\t\\t\\n\\t\\t\\t\\t\\t\\n\\t\\t\\t\\t\\t\\n\\t\\t\\t\\t\\t홍콩 HKD\\n\\t\\t\\t\\t\\n\\t\\t\\t\\t</a></td>\\n\\t\\t\\t\\t<td class=\"sale\">165.32</td>\\n\\t\\t\\t\\t<td>168.57</td>\\n\\t\\t\\t\\t<td>162.07</td>\\n\\t\\t\\t\\t<td>166.97</td>\\n\\t\\t\\t\\t<td>163.67</td>\\n\\t\\t\\t\\t<td>0.127</td>\\n\\t\\t\\t\\t</tr>\\n\\t\\t\\t\\t\\n\\t\\t\\t\\t<tr>\\n\\t\\t\\t\\t<td class=\"tit\"><a href=\"/marketindex/exchangeDetail.naver?marketindexCd=FX_TWDKRW\" target=\"_parent\" onclick=\"parent.clickcr(this, \\'exl.exlist\\', \\'FX_TWDKRW\\', \\'6\\', event);\">\\n\\t\\t\\t\\t\\n\\t\\t\\t\\t\\t\\n\\t\\t\\t\\t\\t\\n\\t\\t\\t\\t\\t\\n\\t\\t\\t\\t\\t대만 TWD\\n\\t\\t\\t\\t\\n\\t\\t\\t\\t</a></td>\\n\\t\\t\\t\\t<td class=\"sale\">43.55</td>\\n\\t\\t\\t\\t<td>49.25</td>\\n\\t\\t\\t\\t<td>40.51</td>\\n\\t\\t\\t\\t<td>0.00</td>\\n\\t\\t\\t\\t<td>0.00</td>\\n\\t\\t\\t\\t<td>0.034</td>\\n\\t\\t\\t\\t</tr>\\n\\t\\t\\t\\t\\n\\t\\t\\t\\t<tr>\\n\\t\\t\\t\\t<td class=\"tit\"><a href=\"/marketindex/exchangeDetail.naver?marketindexCd=FX_GBPKRW\" target=\"_parent\" onclick=\"parent.clickcr(this, \\'exl.exlist\\', \\'FX_GBPKRW\\', \\'7\\', event);\">\\n\\t\\t\\t\\t\\n\\t\\t\\t\\t\\t\\n\\t\\t\\t\\t\\t\\n\\t\\t\\t\\t\\t\\n\\t\\t\\t\\t\\t영국 GBP\\n\\t\\t\\t\\t\\n\\t\\t\\t\\t</a></td>\\n\\t\\t\\t\\t<td class=\"sale\">1,569.53</td>\\n\\t\\t\\t\\t<td>1,600.44</td>\\n\\t\\t\\t\\t<td>1,538.62</td>\\n\\t\\t\\t\\t<td>1,585.22</td>\\n\\t\\t\\t\\t<td>1,553.84</td>\\n\\t\\t\\t\\t<td>1.210</td>\\n\\t\\t\\t\\t</tr>\\n\\t\\t\\t\\t\\n\\t\\t\\t\\t<tr>\\n\\t\\t\\t\\t<td class=\"tit\"><a href=\"/marketindex/exchangeDetail.naver?marketindexCd=FX_OMRKRW\" target=\"_parent\" onclick=\"parent.clickcr(this, \\'exl.exlist\\', \\'FX_OMRKRW\\', \\'8\\', event);\">\\n\\t\\t\\t\\t\\n\\t\\t\\t\\t\\t\\n\\t\\t\\t\\t\\t\\n\\t\\t\\t\\t\\t\\n\\t\\t\\t\\t\\t오만 OMR\\n\\t\\t\\t\\t\\n\\t\\t\\t\\t</a></td>\\n\\t\\t\\t\\t<td class=\"sale\">3,369.78</td>\\n\\t\\t\\t\\t<td>3,669.69</td>\\n\\t\\t\\t\\t<td>3,167.60</td>\\n\\t\\t\\t\\t<td>0.00</td>\\n\\t\\t\\t\\t<td>0.00</td>\\n\\t\\t\\t\\t<td>2.597</td>\\n\\t\\t\\t\\t</tr>\\n\\t\\t\\t\\t\\n\\t\\t\\t\\t<tr>\\n\\t\\t\\t\\t<td class=\"tit\"><a href=\"/marketindex/exchangeDetail.naver?marketindexCd=FX_CADKRW\" target=\"_parent\" onclick=\"parent.clickcr(this, \\'exl.exlist\\', \\'FX_CADKRW\\', \\'9\\', event);\">\\n\\t\\t\\t\\t\\n\\t\\t\\t\\t\\t\\n\\t\\t\\t\\t\\t\\n\\t\\t\\t\\t\\t\\n\\t\\t\\t\\t\\t캐나다 CAD\\n\\t\\t\\t\\t\\n\\t\\t\\t\\t</a></td>\\n\\t\\t\\t\\t<td class=\"sale\">1,006.40</td>\\n\\t\\t\\t\\t<td>1,026.22</td>\\n\\t\\t\\t\\t<td>986.58</td>\\n\\t\\t\\t\\t<td>1,016.46</td>\\n\\t\\t\\t\\t<td>996.34</td>\\n\\t\\t\\t\\t<td>0.776</td>\\n\\t\\t\\t\\t</tr>\\n\\t\\t\\t\\t\\n\\t\\t\\t\\t<tr>\\n\\t\\t\\t\\t<td class=\"tit\"><a href=\"/marketindex/exchangeDetail.naver?marketindexCd=FX_CHFKRW\" target=\"_parent\" onclick=\"parent.clickcr(this, \\'exl.exlist\\', \\'FX_CHFKRW\\', \\'10\\', event);\">\\n\\t\\t\\t\\t\\n\\t\\t\\t\\t\\t\\n\\t\\t\\t\\t\\t\\n\\t\\t\\t\\t\\t\\n\\t\\t\\t\\t\\t스위스 CHF\\n\\t\\t\\t\\t\\n\\t\\t\\t\\t</a></td>\\n\\t\\t\\t\\t<td class=\"sale\">1,353.57</td>\\n\\t\\t\\t\\t<td>1,380.23</td>\\n\\t\\t\\t\\t<td>1,326.91</td>\\n\\t\\t\\t\\t<td>1,367.10</td>\\n\\t\\t\\t\\t<td>1,340.04</td>\\n\\t\\t\\t\\t<td>1.043</td>\\n\\t\\t\\t\\t</tr>\\n\\t\\t\\t\\t\\n\\t\\t\\t\\t<tr>\\n\\t\\t\\t\\t<td class=\"tit\"><a href=\"/marketindex/exchangeDetail.naver?marketindexCd=FX_SEKKRW\" target=\"_parent\" onclick=\"parent.clickcr(this, \\'exl.exlist\\', \\'FX_SEKKRW\\', \\'11\\', event);\">\\n\\t\\t\\t\\t\\n\\t\\t\\t\\t\\t\\n\\t\\t\\t\\t\\t\\n\\t\\t\\t\\t\\t\\n\\t\\t\\t\\t\\t스웨덴 SEK\\n\\t\\t\\t\\t\\n\\t\\t\\t\\t</a></td>\\n\\t\\t\\t\\t<td class=\"sale\">125.74</td>\\n\\t\\t\\t\\t<td>128.82</td>\\n\\t\\t\\t\\t<td>122.66</td>\\n\\t\\t\\t\\t<td>126.99</td>\\n\\t\\t\\t\\t<td>124.49</td>\\n\\t\\t\\t\\t<td>0.097</td>\\n\\t\\t\\t\\t</tr>\\n\\t\\t\\t\\t\\n\\t\\t\\t\\t<tr>\\n\\t\\t\\t\\t<td class=\"tit\"><a href=\"/marketindex/exchangeDetail.naver?marketindexCd=FX_AUDKRW\" target=\"_parent\" onclick=\"parent.clickcr(this, \\'exl.exlist\\', \\'FX_AUDKRW\\', \\'12\\', event);\">\\n\\t\\t\\t\\t\\n\\t\\t\\t\\t\\t\\n\\t\\t\\t\\t\\t\\n\\t\\t\\t\\t\\t\\n\\t\\t\\t\\t\\t호주 AUD\\n\\t\\t\\t\\t\\n\\t\\t\\t\\t</a></td>\\n\\t\\t\\t\\t<td class=\"sale\">883.14</td>\\n\\t\\t\\t\\t<td>900.53</td>\\n\\t\\t\\t\\t<td>865.75</td>\\n\\t\\t\\t\\t<td>891.97</td>\\n\\t\\t\\t\\t<td>874.31</td>\\n\\t\\t\\t\\t<td>0.681</td>\\n\\t\\t\\t\\t</tr>\\n\\t\\t\\t\\t\\n\\t\\t\\t\\t<tr>\\n\\t\\t\\t\\t<td class=\"tit\"><a href=\"/marketindex/exchangeDetail.naver?marketindexCd=FX_NZDKRW\" target=\"_parent\" onclick=\"parent.clickcr(this, \\'exl.exlist\\', \\'FX_NZDKRW\\', \\'13\\', event);\">\\n\\t\\t\\t\\t\\n\\t\\t\\t\\t\\t\\n\\t\\t\\t\\t\\t\\n\\t\\t\\t\\t\\t\\n\\t\\t\\t\\t\\t뉴질랜드 NZD\\n\\t\\t\\t\\t\\n\\t\\t\\t\\t</a></td>\\n\\t\\t\\t\\t<td class=\"sale\">805.17</td>\\n\\t\\t\\t\\t<td>821.03</td>\\n\\t\\t\\t\\t<td>789.31</td>\\n\\t\\t\\t\\t<td>813.22</td>\\n\\t\\t\\t\\t<td>797.12</td>\\n\\t\\t\\t\\t<td>0.621</td>\\n\\t\\t\\t\\t</tr>\\n\\t\\t\\t\\t\\n\\t\\t\\t\\t<tr>\\n\\t\\t\\t\\t<td class=\"tit\"><a href=\"/marketindex/exchangeDetail.naver?marketindexCd=FX_CZKKRW\" target=\"_parent\" onclick=\"parent.clickcr(this, \\'exl.exlist\\', \\'FX_CZKKRW\\', \\'14\\', event);\">\\n\\t\\t\\t\\t\\n\\t\\t\\t\\t\\t\\n\\t\\t\\t\\t\\t\\n\\t\\t\\t\\t\\t\\n\\t\\t\\t\\t\\t체코 CZK\\n\\t\\t\\t\\t\\n\\t\\t\\t\\t</a></td>\\n\\t\\t\\t\\t<td class=\"sale\">54.70</td>\\n\\t\\t\\t\\t<td>59.34</td>\\n\\t\\t\\t\\t<td>49.78</td>\\n\\t\\t\\t\\t<td>55.30</td>\\n\\t\\t\\t\\t<td>54.10</td>\\n\\t\\t\\t\\t<td>0.042</td>\\n\\t\\t\\t\\t</tr>\\n\\t\\t\\t\\t\\n\\t\\t\\t\\t<tr>\\n\\t\\t\\t\\t<td class=\"tit\"><a href=\"/marketindex/exchangeDetail.naver?marketindexCd=FX_CLPKRW\" target=\"_parent\" onclick=\"parent.clickcr(this, \\'exl.exlist\\', \\'FX_CLPKRW\\', \\'15\\', event);\">\\n\\t\\t\\t\\t\\n\\t\\t\\t\\t\\t\\n\\t\\t\\t\\t\\t\\n\\t\\t\\t\\t\\t\\n\\t\\t\\t\\t\\t칠레 CLP\\n\\t\\t\\t\\t\\n\\t\\t\\t\\t</a></td>\\n\\t\\t\\t\\t<td class=\"sale\">1.39</td>\\n\\t\\t\\t\\t<td>1.50</td>\\n\\t\\t\\t\\t<td>1.28</td>\\n\\t\\t\\t\\t<td>0.00</td>\\n\\t\\t\\t\\t<td>0.00</td>\\n\\t\\t\\t\\t<td>0.001</td>\\n\\t\\t\\t\\t</tr>\\n\\t\\t\\t\\t\\n\\t\\t\\t\\t<tr>\\n\\t\\t\\t\\t<td class=\"tit\"><a href=\"/marketindex/exchangeDetail.naver?marketindexCd=FX_TRYKRW\" target=\"_parent\" onclick=\"parent.clickcr(this, \\'exl.exlist\\', \\'FX_TRYKRW\\', \\'16\\', event);\">\\n\\t\\t\\t\\t\\n\\t\\t\\t\\t\\t\\n\\t\\t\\t\\t\\t\\n\\t\\t\\t\\t\\t\\n\\t\\t\\t\\t\\t터키 TRY\\n\\t\\t\\t\\t\\n\\t\\t\\t\\t</a></td>\\n\\t\\t\\t\\t<td class=\"sale\">77.37</td>\\n\\t\\t\\t\\t<td>0.00</td>\\n\\t\\t\\t\\t<td>0.00</td>\\n\\t\\t\\t\\t<td>78.22</td>\\n\\t\\t\\t\\t<td>76.52</td>\\n\\t\\t\\t\\t<td>0.060</td>\\n\\t\\t\\t\\t</tr>\\n\\t\\t\\t\\t\\n\\t\\t\\t\\t<tr>\\n\\t\\t\\t\\t<td class=\"tit\"><a href=\"/marketindex/exchangeDetail.naver?marketindexCd=FX_MNTKRW\" target=\"_parent\" onclick=\"parent.clickcr(this, \\'exl.exlist\\', \\'FX_MNTKRW\\', \\'17\\', event);\">\\n\\t\\t\\t\\t\\n\\t\\t\\t\\t\\t\\n\\t\\t\\t\\t\\t\\n\\t\\t\\t\\t\\t\\n\\t\\t\\t\\t\\t몽골 MNT\\n\\t\\t\\t\\t\\n\\t\\t\\t\\t</a></td>\\n\\t\\t\\t\\t<td class=\"sale\">0.41</td>\\n\\t\\t\\t\\t<td>0.00</td>\\n\\t\\t\\t\\t<td>0.00</td>\\n\\t\\t\\t\\t<td>0.00</td>\\n\\t\\t\\t\\t<td>0.00</td>\\n\\t\\t\\t\\t<td>0.000</td>\\n\\t\\t\\t\\t</tr>\\n\\t\\t\\t\\t\\n\\t\\t\\t\\t<tr>\\n\\t\\t\\t\\t<td class=\"tit\"><a href=\"/marketindex/exchangeDetail.naver?marketindexCd=FX_ILSKRW\" target=\"_parent\" onclick=\"parent.clickcr(this, \\'exl.exlist\\', \\'FX_ILSKRW\\', \\'18\\', event);\">\\n\\t\\t\\t\\t\\n\\t\\t\\t\\t\\t\\n\\t\\t\\t\\t\\t\\n\\t\\t\\t\\t\\t\\n\\t\\t\\t\\t\\t이스라엘 ILS\\n\\t\\t\\t\\t\\n\\t\\t\\t\\t</a></td>\\n\\t\\t\\t\\t<td class=\"sale\">367.81</td>\\n\\t\\t\\t\\t<td>404.59</td>\\n\\t\\t\\t\\t<td>338.39</td>\\n\\t\\t\\t\\t<td>0.00</td>\\n\\t\\t\\t\\t<td>0.00</td>\\n\\t\\t\\t\\t<td>0.284</td>\\n\\t\\t\\t\\t</tr>\\n\\t\\t\\t\\t\\n\\t\\t\\t\\t<tr>\\n\\t\\t\\t\\t<td class=\"tit\"><a href=\"/marketindex/exchangeDetail.naver?marketindexCd=FX_DKKKRW\" target=\"_parent\" onclick=\"parent.clickcr(this, \\'exl.exlist\\', \\'FX_DKKKRW\\', \\'19\\', event);\">\\n\\t\\t\\t\\t\\n\\t\\t\\t\\t\\t\\n\\t\\t\\t\\t\\t\\n\\t\\t\\t\\t\\t\\n\\t\\t\\t\\t\\t덴마크 DKK\\n\\t\\t\\t\\t\\n\\t\\t\\t\\t</a></td>\\n\\t\\t\\t\\t<td class=\"sale\">181.99</td>\\n\\t\\t\\t\\t<td>186.44</td>\\n\\t\\t\\t\\t<td>177.54</td>\\n\\t\\t\\t\\t<td>183.80</td>\\n\\t\\t\\t\\t<td>180.18</td>\\n\\t\\t\\t\\t<td>0.140</td>\\n\\t\\t\\t\\t</tr>\\n\\t\\t\\t\\t\\n\\t\\t\\t\\t<tr>\\n\\t\\t\\t\\t<td class=\"tit\"><a href=\"/marketindex/exchangeDetail.naver?marketindexCd=FX_NOKKRW\" target=\"_parent\" onclick=\"parent.clickcr(this, \\'exl.exlist\\', \\'FX_NOKKRW\\', \\'20\\', event);\">\\n\\t\\t\\t\\t\\n\\t\\t\\t\\t\\t\\n\\t\\t\\t\\t\\t\\n\\t\\t\\t\\t\\t\\n\\t\\t\\t\\t\\t노르웨이 NOK\\n\\t\\t\\t\\t\\n\\t\\t\\t\\t</a></td>\\n\\t\\t\\t\\t<td class=\"sale\">130.47</td>\\n\\t\\t\\t\\t<td>133.66</td>\\n\\t\\t\\t\\t<td>127.28</td>\\n\\t\\t\\t\\t<td>131.77</td>\\n\\t\\t\\t\\t<td>129.17</td>\\n\\t\\t\\t\\t<td>0.101</td>\\n\\t\\t\\t\\t</tr>\\n\\t\\t\\t\\t\\n\\t\\t\\t\\t<tr>\\n\\t\\t\\t\\t<td class=\"tit\"><a href=\"/marketindex/exchangeDetail.naver?marketindexCd=FX_SARKRW\" target=\"_parent\" onclick=\"parent.clickcr(this, \\'exl.exlist\\', \\'FX_SARKRW\\', \\'21\\', event);\">\\n\\t\\t\\t\\t\\n\\t\\t\\t\\t\\t\\n\\t\\t\\t\\t\\t\\n\\t\\t\\t\\t\\t\\n\\t\\t\\t\\t\\t사우디아라비아 SAR\\n\\t\\t\\t\\t\\n\\t\\t\\t\\t</a></td>\\n\\t\\t\\t\\t<td class=\"sale\">345.74</td>\\n\\t\\t\\t\\t<td>367.52</td>\\n\\t\\t\\t\\t<td>321.89</td>\\n\\t\\t\\t\\t<td>349.19</td>\\n\\t\\t\\t\\t<td>342.29</td>\\n\\t\\t\\t\\t<td>0.267</td>\\n\\t\\t\\t\\t</tr>\\n\\t\\t\\t\\t\\n\\t\\t\\t\\t<tr>\\n\\t\\t\\t\\t<td class=\"tit\"><a href=\"/marketindex/exchangeDetail.naver?marketindexCd=FX_KWDKRW\" target=\"_parent\" onclick=\"parent.clickcr(this, \\'exl.exlist\\', \\'FX_KWDKRW\\', \\'22\\', event);\">\\n\\t\\t\\t\\t\\n\\t\\t\\t\\t\\t\\n\\t\\t\\t\\t\\t\\n\\t\\t\\t\\t\\t\\n\\t\\t\\t\\t\\t쿠웨이트 KWD\\n\\t\\t\\t\\t\\n\\t\\t\\t\\t</a></td>\\n\\t\\t\\t\\t<td class=\"sale\">4,227.85</td>\\n\\t\\t\\t\\t<td>4,502.66</td>\\n\\t\\t\\t\\t<td>3,889.63</td>\\n\\t\\t\\t\\t<td>4,270.12</td>\\n\\t\\t\\t\\t<td>4,185.58</td>\\n\\t\\t\\t\\t<td>3.259</td>\\n\\t\\t\\t\\t</tr>\\n\\t\\t\\t\\t\\n\\t\\t\\t\\t<tr>\\n\\t\\t\\t\\t<td class=\"tit\"><a href=\"/marketindex/exchangeDetail.naver?marketindexCd=FX_BHDKRW\" target=\"_parent\" onclick=\"parent.clickcr(this, \\'exl.exlist\\', \\'FX_BHDKRW\\', \\'23\\', event);\">\\n\\t\\t\\t\\t\\n\\t\\t\\t\\t\\t\\n\\t\\t\\t\\t\\t\\n\\t\\t\\t\\t\\t\\n\\t\\t\\t\\t\\t바레인 BHD\\n\\t\\t\\t\\t\\n\\t\\t\\t\\t</a></td>\\n\\t\\t\\t\\t<td class=\"sale\">3,441.20</td>\\n\\t\\t\\t\\t<td>3,661.43</td>\\n\\t\\t\\t\\t<td>3,165.91</td>\\n\\t\\t\\t\\t<td>3,475.61</td>\\n\\t\\t\\t\\t<td>3,406.79</td>\\n\\t\\t\\t\\t<td>2.652</td>\\n\\t\\t\\t\\t</tr>\\n\\t\\t\\t\\t\\n\\t\\t\\t\\t<tr>\\n\\t\\t\\t\\t<td class=\"tit\"><a href=\"/marketindex/exchangeDetail.naver?marketindexCd=FX_AEDKRW\" target=\"_parent\" onclick=\"parent.clickcr(this, \\'exl.exlist\\', \\'FX_AEDKRW\\', \\'24\\', event);\">\\n\\t\\t\\t\\t\\n\\t\\t\\t\\t\\t\\n\\t\\t\\t\\t\\t\\n\\t\\t\\t\\t\\t\\n\\t\\t\\t\\t\\t아랍에미리트 AED\\n\\t\\t\\t\\t\\n\\t\\t\\t\\t</a></td>\\n\\t\\t\\t\\t<td class=\"sale\">353.22</td>\\n\\t\\t\\t\\t<td>372.64</td>\\n\\t\\t\\t\\t<td>328.85</td>\\n\\t\\t\\t\\t<td>356.75</td>\\n\\t\\t\\t\\t<td>349.69</td>\\n\\t\\t\\t\\t<td>0.272</td>\\n\\t\\t\\t\\t</tr>\\n\\t\\t\\t\\t\\n\\t\\t\\t\\t<tr>\\n\\t\\t\\t\\t<td class=\"tit\"><a href=\"/marketindex/exchangeDetail.naver?marketindexCd=FX_JODKRW\" target=\"_parent\" onclick=\"parent.clickcr(this, \\'exl.exlist\\', \\'FX_JODKRW\\', \\'25\\', event);\">\\n\\t\\t\\t\\t\\n\\t\\t\\t\\t\\t\\n\\t\\t\\t\\t\\t\\n\\t\\t\\t\\t\\t\\n\\t\\t\\t\\t\\t요르단 JOD\\n\\t\\t\\t\\t\\n\\t\\t\\t\\t</a></td>\\n\\t\\t\\t\\t<td class=\"sale\">1,829.90</td>\\n\\t\\t\\t\\t<td>1,992.76</td>\\n\\t\\t\\t\\t<td>1,683.51</td>\\n\\t\\t\\t\\t<td>0.00</td>\\n\\t\\t\\t\\t<td>0.00</td>\\n\\t\\t\\t\\t<td>1.410</td>\\n\\t\\t\\t\\t</tr>\\n\\t\\t\\t\\t\\n\\t\\t\\t\\t<tr>\\n\\t\\t\\t\\t<td class=\"tit\"><a href=\"/marketindex/exchangeDetail.naver?marketindexCd=FX_EGPKRW\" target=\"_parent\" onclick=\"parent.clickcr(this, \\'exl.exlist\\', \\'FX_EGPKRW\\', \\'26\\', event);\">\\n\\t\\t\\t\\t\\n\\t\\t\\t\\t\\t\\n\\t\\t\\t\\t\\t\\n\\t\\t\\t\\t\\t\\n\\t\\t\\t\\t\\t이집트 EGP\\n\\t\\t\\t\\t\\n\\t\\t\\t\\t</a></td>\\n\\t\\t\\t\\t<td class=\"sale\">68.97</td>\\n\\t\\t\\t\\t<td>0.00</td>\\n\\t\\t\\t\\t<td>0.00</td>\\n\\t\\t\\t\\t<td>0.00</td>\\n\\t\\t\\t\\t<td>0.00</td>\\n\\t\\t\\t\\t<td>0.053</td>\\n\\t\\t\\t\\t</tr>\\n\\t\\t\\t\\t\\n\\t\\t\\t\\t<tr>\\n\\t\\t\\t\\t<td class=\"tit\"><a href=\"/marketindex/exchangeDetail.naver?marketindexCd=FX_THBKRW\" target=\"_parent\" onclick=\"parent.clickcr(this, \\'exl.exlist\\', \\'FX_THBKRW\\', \\'27\\', event);\">\\n\\t\\t\\t\\t\\n\\t\\t\\t\\t\\t\\n\\t\\t\\t\\t\\t\\n\\t\\t\\t\\t\\t\\n\\t\\t\\t\\t\\t태국 THB\\n\\t\\t\\t\\t\\n\\t\\t\\t\\t</a></td>\\n\\t\\t\\t\\t<td class=\"sale\">36.37</td>\\n\\t\\t\\t\\t<td>38.18</td>\\n\\t\\t\\t\\t<td>34.19</td>\\n\\t\\t\\t\\t<td>36.73</td>\\n\\t\\t\\t\\t<td>36.01</td>\\n\\t\\t\\t\\t<td>0.028</td>\\n\\t\\t\\t\\t</tr>\\n\\t\\t\\t\\t\\n\\t\\t\\t\\t<tr>\\n\\t\\t\\t\\t<td class=\"tit\"><a href=\"/marketindex/exchangeDetail.naver?marketindexCd=FX_SGDKRW\" target=\"_parent\" onclick=\"parent.clickcr(this, \\'exl.exlist\\', \\'FX_SGDKRW\\', \\'28\\', event);\">\\n\\t\\t\\t\\t\\n\\t\\t\\t\\t\\t\\n\\t\\t\\t\\t\\t\\n\\t\\t\\t\\t\\t\\n\\t\\t\\t\\t\\t싱가포르 SGD\\n\\t\\t\\t\\t\\n\\t\\t\\t\\t</a></td>\\n\\t\\t\\t\\t<td class=\"sale\">928.87</td>\\n\\t\\t\\t\\t<td>947.35</td>\\n\\t\\t\\t\\t<td>910.39</td>\\n\\t\\t\\t\\t<td>938.15</td>\\n\\t\\t\\t\\t<td>919.59</td>\\n\\t\\t\\t\\t<td>0.716</td>\\n\\t\\t\\t\\t</tr>\\n\\t\\t\\t\\t\\n\\t\\t\\t\\t<tr>\\n\\t\\t\\t\\t<td class=\"tit\"><a href=\"/marketindex/exchangeDetail.naver?marketindexCd=FX_MYRKRW\" target=\"_parent\" onclick=\"parent.clickcr(this, \\'exl.exlist\\', \\'FX_MYRKRW\\', \\'29\\', event);\">\\n\\t\\t\\t\\t\\n\\t\\t\\t\\t\\t\\n\\t\\t\\t\\t\\t\\n\\t\\t\\t\\t\\t\\n\\t\\t\\t\\t\\t말레이시아 MYR\\n\\t\\t\\t\\t\\n\\t\\t\\t\\t</a></td>\\n\\t\\t\\t\\t<td class=\"sale\">294.16</td>\\n\\t\\t\\t\\t<td>312.69</td>\\n\\t\\t\\t\\t<td>272.40</td>\\n\\t\\t\\t\\t<td>0.00</td>\\n\\t\\t\\t\\t<td>291.22</td>\\n\\t\\t\\t\\t<td>0.227</td>\\n\\t\\t\\t\\t</tr>\\n\\t\\t\\t\\t\\n\\t\\t\\t\\t<tr>\\n\\t\\t\\t\\t<td class=\"tit\"><a href=\"/marketindex/exchangeDetail.naver?marketindexCd=FX_IDRKRW\" target=\"_parent\" onclick=\"parent.clickcr(this, \\'exl.exlist\\', \\'FX_IDRKRW\\', \\'30\\', event);\">\\n\\t\\t\\t\\t\\n\\t\\t\\t\\t\\t\\n\\t\\t\\t\\t\\t인도네시아 IDR 100\\n\\t\\t\\t\\t\\t\\n\\t\\t\\t\\t\\t\\n\\t\\t\\t\\t\\n\\t\\t\\t\\t</a></td>\\n\\t\\t\\t\\t<td class=\"sale\">8.70</td>\\n\\t\\t\\t\\t<td>9.30</td>\\n\\t\\t\\t\\t<td>7.83</td>\\n\\t\\t\\t\\t<td>8.78</td>\\n\\t\\t\\t\\t<td>8.62</td>\\n\\t\\t\\t\\t<td>0.007</td>\\n\\t\\t\\t\\t</tr>\\n\\t\\t\\t\\t\\n\\t\\t\\t\\t<tr>\\n\\t\\t\\t\\t<td class=\"tit\"><a href=\"/marketindex/exchangeDetail.naver?marketindexCd=FX_QARKRW\" target=\"_parent\" onclick=\"parent.clickcr(this, \\'exl.exlist\\', \\'FX_QARKRW\\', \\'31\\', event);\">\\n\\t\\t\\t\\t\\n\\t\\t\\t\\t\\t\\n\\t\\t\\t\\t\\t\\n\\t\\t\\t\\t\\t\\n\\t\\t\\t\\t\\t카타르 QAR\\n\\t\\t\\t\\t\\n\\t\\t\\t\\t</a></td>\\n\\t\\t\\t\\t<td class=\"sale\">354.26</td>\\n\\t\\t\\t\\t<td>0.00</td>\\n\\t\\t\\t\\t<td>0.00</td>\\n\\t\\t\\t\\t<td>0.00</td>\\n\\t\\t\\t\\t<td>0.00</td>\\n\\t\\t\\t\\t<td>0.273</td>\\n\\t\\t\\t\\t</tr>\\n\\t\\t\\t\\t\\n\\t\\t\\t\\t<tr>\\n\\t\\t\\t\\t<td class=\"tit\"><a href=\"/marketindex/exchangeDetail.naver?marketindexCd=FX_KZTKRW\" target=\"_parent\" onclick=\"parent.clickcr(this, \\'exl.exlist\\', \\'FX_KZTKRW\\', \\'32\\', event);\">\\n\\t\\t\\t\\t\\n\\t\\t\\t\\t\\t\\n\\t\\t\\t\\t\\t\\n\\t\\t\\t\\t\\t\\n\\t\\t\\t\\t\\t카자흐스탄 KZT\\n\\t\\t\\t\\t\\n\\t\\t\\t\\t</a></td>\\n\\t\\t\\t\\t<td class=\"sale\">2.79</td>\\n\\t\\t\\t\\t<td>0.00</td>\\n\\t\\t\\t\\t<td>0.00</td>\\n\\t\\t\\t\\t<td>0.00</td>\\n\\t\\t\\t\\t<td>0.00</td>\\n\\t\\t\\t\\t<td>0.002</td>\\n\\t\\t\\t\\t</tr>\\n\\t\\t\\t\\t\\n\\t\\t\\t\\t<tr>\\n\\t\\t\\t\\t<td class=\"tit\"><a href=\"/marketindex/exchangeDetail.naver?marketindexCd=FX_BNDKRW\" target=\"_parent\" onclick=\"parent.clickcr(this, \\'exl.exlist\\', \\'FX_BNDKRW\\', \\'33\\', event);\">\\n\\t\\t\\t\\t\\n\\t\\t\\t\\t\\t\\n\\t\\t\\t\\t\\t\\n\\t\\t\\t\\t\\t\\n\\t\\t\\t\\t\\t브루나이 BND\\n\\t\\t\\t\\t\\n\\t\\t\\t\\t</a></td>\\n\\t\\t\\t\\t<td class=\"sale\">928.87</td>\\n\\t\\t\\t\\t<td>966.02</td>\\n\\t\\t\\t\\t<td>873.14</td>\\n\\t\\t\\t\\t<td>0.00</td>\\n\\t\\t\\t\\t<td>0.00</td>\\n\\t\\t\\t\\t<td>0.716</td>\\n\\t\\t\\t\\t</tr>\\n\\t\\t\\t\\t\\n\\t\\t\\t\\t<tr>\\n\\t\\t\\t\\t<td class=\"tit\"><a href=\"/marketindex/exchangeDetail.naver?marketindexCd=FX_INRKRW\" target=\"_parent\" onclick=\"parent.clickcr(this, \\'exl.exlist\\', \\'FX_INRKRW\\', \\'34\\', event);\">\\n\\t\\t\\t\\t\\n\\t\\t\\t\\t\\t\\n\\t\\t\\t\\t\\t\\n\\t\\t\\t\\t\\t\\n\\t\\t\\t\\t\\t인도 INR\\n\\t\\t\\t\\t\\n\\t\\t\\t\\t</a></td>\\n\\t\\t\\t\\t<td class=\"sale\">16.43</td>\\n\\t\\t\\t\\t<td>0.00</td>\\n\\t\\t\\t\\t<td>0.00</td>\\n\\t\\t\\t\\t<td>0.00</td>\\n\\t\\t\\t\\t<td>0.00</td>\\n\\t\\t\\t\\t<td>0.013</td>\\n\\t\\t\\t\\t</tr>\\n\\t\\t\\t\\t\\n\\t\\t\\t\\t<tr>\\n\\t\\t\\t\\t<td class=\"tit\"><a href=\"/marketindex/exchangeDetail.naver?marketindexCd=FX_PKRKRW\" target=\"_parent\" onclick=\"parent.clickcr(this, \\'exl.exlist\\', \\'FX_PKRKRW\\', \\'35\\', event);\">\\n\\t\\t\\t\\t\\n\\t\\t\\t\\t\\t\\n\\t\\t\\t\\t\\t\\n\\t\\t\\t\\t\\t\\n\\t\\t\\t\\t\\t파키스탄 PKR\\n\\t\\t\\t\\t\\n\\t\\t\\t\\t</a></td>\\n\\t\\t\\t\\t<td class=\"sale\">6.34</td>\\n\\t\\t\\t\\t<td>0.00</td>\\n\\t\\t\\t\\t<td>0.00</td>\\n\\t\\t\\t\\t<td>0.00</td>\\n\\t\\t\\t\\t<td>0.00</td>\\n\\t\\t\\t\\t<td>0.005</td>\\n\\t\\t\\t\\t</tr>\\n\\t\\t\\t\\t\\n\\t\\t\\t\\t<tr>\\n\\t\\t\\t\\t<td class=\"tit\"><a href=\"/marketindex/exchangeDetail.naver?marketindexCd=FX_BDTKRW\" target=\"_parent\" onclick=\"parent.clickcr(this, \\'exl.exlist\\', \\'FX_BDTKRW\\', \\'36\\', event);\">\\n\\t\\t\\t\\t\\n\\t\\t\\t\\t\\t\\n\\t\\t\\t\\t\\t\\n\\t\\t\\t\\t\\t\\n\\t\\t\\t\\t\\t방글라데시 BDT\\n\\t\\t\\t\\t\\n\\t\\t\\t\\t</a></td>\\n\\t\\t\\t\\t<td class=\"sale\">13.88</td>\\n\\t\\t\\t\\t<td>0.00</td>\\n\\t\\t\\t\\t<td>0.00</td>\\n\\t\\t\\t\\t<td>0.00</td>\\n\\t\\t\\t\\t<td>0.00</td>\\n\\t\\t\\t\\t<td>0.011</td>\\n\\t\\t\\t\\t</tr>\\n\\t\\t\\t\\t\\n\\t\\t\\t\\t<tr>\\n\\t\\t\\t\\t<td class=\"tit\"><a href=\"/marketindex/exchangeDetail.naver?marketindexCd=FX_PHPKRW\" target=\"_parent\" onclick=\"parent.clickcr(this, \\'exl.exlist\\', \\'FX_PHPKRW\\', \\'37\\', event);\">\\n\\t\\t\\t\\t\\n\\t\\t\\t\\t\\t\\n\\t\\t\\t\\t\\t\\n\\t\\t\\t\\t\\t\\n\\t\\t\\t\\t\\t필리핀 PHP\\n\\t\\t\\t\\t\\n\\t\\t\\t\\t</a></td>\\n\\t\\t\\t\\t<td class=\"sale\">23.52</td>\\n\\t\\t\\t\\t<td>25.87</td>\\n\\t\\t\\t\\t<td>21.60</td>\\n\\t\\t\\t\\t<td>23.75</td>\\n\\t\\t\\t\\t<td>23.29</td>\\n\\t\\t\\t\\t<td>0.018</td>\\n\\t\\t\\t\\t</tr>\\n\\t\\t\\t\\t\\n\\t\\t\\t\\t<tr>\\n\\t\\t\\t\\t<td class=\"tit\"><a href=\"/marketindex/exchangeDetail.naver?marketindexCd=FX_MXNKRW\" target=\"_parent\" onclick=\"parent.clickcr(this, \\'exl.exlist\\', \\'FX_MXNKRW\\', \\'38\\', event);\">\\n\\t\\t\\t\\t\\n\\t\\t\\t\\t\\t\\n\\t\\t\\t\\t\\t\\n\\t\\t\\t\\t\\t\\n\\t\\t\\t\\t\\t멕시코 MXN\\n\\t\\t\\t\\t\\n\\t\\t\\t\\t</a></td>\\n\\t\\t\\t\\t<td class=\"sale\">63.89</td>\\n\\t\\t\\t\\t<td>70.27</td>\\n\\t\\t\\t\\t<td>58.53</td>\\n\\t\\t\\t\\t<td>64.52</td>\\n\\t\\t\\t\\t<td>63.26</td>\\n\\t\\t\\t\\t<td>0.049</td>\\n\\t\\t\\t\\t</tr>\\n\\t\\t\\t\\t\\n\\t\\t\\t\\t<tr>\\n\\t\\t\\t\\t<td class=\"tit\"><a href=\"/marketindex/exchangeDetail.naver?marketindexCd=FX_BRLKRW\" target=\"_parent\" onclick=\"parent.clickcr(this, \\'exl.exlist\\', \\'FX_BRLKRW\\', \\'39\\', event);\">\\n\\t\\t\\t\\t\\n\\t\\t\\t\\t\\t\\n\\t\\t\\t\\t\\t\\n\\t\\t\\t\\t\\t\\n\\t\\t\\t\\t\\t브라질 BRL\\n\\t\\t\\t\\t\\n\\t\\t\\t\\t</a></td>\\n\\t\\t\\t\\t<td class=\"sale\">243.38</td>\\n\\t\\t\\t\\t<td>268.20</td>\\n\\t\\t\\t\\t<td>223.91</td>\\n\\t\\t\\t\\t<td>0.00</td>\\n\\t\\t\\t\\t<td>240.46</td>\\n\\t\\t\\t\\t<td>0.188</td>\\n\\t\\t\\t\\t</tr>\\n\\t\\t\\t\\t\\n\\t\\t\\t\\t<tr>\\n\\t\\t\\t\\t<td class=\"tit\"><a href=\"/marketindex/exchangeDetail.naver?marketindexCd=FX_VNDKRW\" target=\"_parent\" onclick=\"parent.clickcr(this, \\'exl.exlist\\', \\'FX_VNDKRW\\', \\'40\\', event);\">\\n\\t\\t\\t\\t\\n\\t\\t\\t\\t\\t\\n\\t\\t\\t\\t\\t\\n\\t\\t\\t\\t\\t베트남 VND 100\\n\\t\\t\\t\\t\\t\\n\\t\\t\\t\\t\\n\\t\\t\\t\\t</a></td>\\n\\t\\t\\t\\t<td class=\"sale\">5.56</td>\\n\\t\\t\\t\\t<td>6.21</td>\\n\\t\\t\\t\\t<td>4.91</td>\\n\\t\\t\\t\\t<td>5.61</td>\\n\\t\\t\\t\\t<td>5.51</td>\\n\\t\\t\\t\\t<td>0.004</td>\\n\\t\\t\\t\\t</tr>\\n\\t\\t\\t\\t\\n\\t\\t\\t\\t<tr>\\n\\t\\t\\t\\t<td class=\"tit\"><a href=\"/marketindex/exchangeDetail.naver?marketindexCd=FX_ZARKRW\" target=\"_parent\" onclick=\"parent.clickcr(this, \\'exl.exlist\\', \\'FX_ZARKRW\\', \\'41\\', event);\">\\n\\t\\t\\t\\t\\n\\t\\t\\t\\t\\t\\n\\t\\t\\t\\t\\t\\n\\t\\t\\t\\t\\t\\n\\t\\t\\t\\t\\t남아프리카 공화국 ZAR\\n\\t\\t\\t\\t\\n\\t\\t\\t\\t</a></td>\\n\\t\\t\\t\\t<td class=\"sale\">79.49</td>\\n\\t\\t\\t\\t<td>84.25</td>\\n\\t\\t\\t\\t<td>73.14</td>\\n\\t\\t\\t\\t<td>80.44</td>\\n\\t\\t\\t\\t<td>78.54</td>\\n\\t\\t\\t\\t<td>0.061</td>\\n\\t\\t\\t\\t</tr>\\n\\t\\t\\t\\t\\n\\t\\t\\t\\t<tr>\\n\\t\\t\\t\\t<td class=\"tit\"><a href=\"/marketindex/exchangeDetail.naver?marketindexCd=FX_RUBKRW\" target=\"_parent\" onclick=\"parent.clickcr(this, \\'exl.exlist\\', \\'FX_RUBKRW\\', \\'42\\', event);\">\\n\\t\\t\\t\\t\\n\\t\\t\\t\\t\\t\\n\\t\\t\\t\\t\\t\\n\\t\\t\\t\\t\\t\\n\\t\\t\\t\\t\\t러시아 RUB\\n\\t\\t\\t\\t\\n\\t\\t\\t\\t</a></td>\\n\\t\\t\\t\\t<td class=\"sale\">24.03</td>\\n\\t\\t\\t\\t<td>26.31</td>\\n\\t\\t\\t\\t<td>19.83</td>\\n\\t\\t\\t\\t<td>24.87</td>\\n\\t\\t\\t\\t<td>23.19</td>\\n\\t\\t\\t\\t<td>0.019</td>\\n\\t\\t\\t\\t</tr>\\n\\t\\t\\t\\t\\n\\t\\t\\t\\t<tr>\\n\\t\\t\\t\\t<td class=\"tit\"><a href=\"/marketindex/exchangeDetail.naver?marketindexCd=FX_HUFKRW\" target=\"_parent\" onclick=\"parent.clickcr(this, \\'exl.exlist\\', \\'FX_HUFKRW\\', \\'43\\', event);\">\\n\\t\\t\\t\\t\\n\\t\\t\\t\\t\\t\\n\\t\\t\\t\\t\\t\\n\\t\\t\\t\\t\\t\\n\\t\\t\\t\\t\\t헝가리 HUF\\n\\t\\t\\t\\t\\n\\t\\t\\t\\t</a></td>\\n\\t\\t\\t\\t<td class=\"sale\">3.38</td>\\n\\t\\t\\t\\t<td>3.69</td>\\n\\t\\t\\t\\t<td>3.11</td>\\n\\t\\t\\t\\t<td>3.41</td>\\n\\t\\t\\t\\t<td>3.35</td>\\n\\t\\t\\t\\t<td>0.003</td>\\n\\t\\t\\t\\t</tr>\\n\\t\\t\\t\\t\\n\\t\\t\\t\\t<tr>\\n\\t\\t\\t\\t<td class=\"tit\"><a href=\"/marketindex/exchangeDetail.naver?marketindexCd=FX_PLNKRW\" target=\"_parent\" onclick=\"parent.clickcr(this, \\'exl.exlist\\', \\'FX_PLNKRW\\', \\'44\\', event);\">\\n\\t\\t\\t\\t\\n\\t\\t\\t\\t\\t\\n\\t\\t\\t\\t\\t\\n\\t\\t\\t\\t\\t\\n\\t\\t\\t\\t\\t폴란드 PLN\\n\\t\\t\\t\\t\\n\\t\\t\\t\\t</a></td>\\n\\t\\t\\t\\t<td class=\"sale\">288.67</td>\\n\\t\\t\\t\\t<td>311.76</td>\\n\\t\\t\\t\\t<td>265.58</td>\\n\\t\\t\\t\\t<td>291.84</td>\\n\\t\\t\\t\\t<td>285.50</td>\\n\\t\\t\\t\\t<td>0.223</td>\\n\\t\\t\\t\\t</tr>\\n\\t\\t\\t\\t\\n\\t\\t\\t</tbody>\\n\\t\\t</table>\\n\\t\\t</div>\\n\\t<script type=\"text/javascript\" language=\"javascript\">\\n\\t\\t// 통화명 정렬 - asc, desc\\n\\n\\t\\t// xss 공격 때문에 validation check 추가\\n\\t\\tregex = new RegExp(\"^asc$|^desc$\");\\n\\t\\t\\t\\t\\n\\t\\tif (\"\".match(regex)) {\\n\\t\\t\\tvar CURRENT_SORT_ORDER = \"\";\\n\\t\\t} else {\\n\\t\\t\\tvar CURRENT_SORT_ORDER = \"asc\";\\n\\t\\t}\\n\\t\\t\\n\\t\\tfunction changeOrder(type) {\\n\\t\\tvar sortOrder = null;\\n\\t\\tif (CURRENT_SORT_ORDER == \"asc\") {\\n\\t\\t\\tsortOrder = \"desc\";\\n\\t\\t} else if (CURRENT_SORT_ORDER == \"desc\") {\\n\\t\\t\\tsortOrder = \"asc\";\\n\\t\\t} else {\\n\\t\\t\\tsortOrder = \"desc\";\\n\\t\\t}\\n\\t\\t\\n\\t\\tif(type == \"exchange\") {\\n\\t\\t\\tlocation.href= \"/marketindex/exchangeList.naver?sortOrder=\"+sortOrder;\\n\\t\\t} else {\\t\\t\\n\\t\\t\\tlocation.href= \"/marketindex/worldExchangeList.naver?sortOrder=\"+sortOrder;\\n\\t\\t}\\n\\t}\\n\\t</script>\\n<script type=\"text/javascript\">\\n\\n</script>\\n</body>\\n</html>'"
      ]
     },
     "execution_count": 78,
     "metadata": {},
     "output_type": "execute_result"
    }
   ],
   "source": [
    "res"
   ]
  },
  {
   "cell_type": "code",
   "execution_count": 109,
   "id": "24ead461-dea3-42da-b2a6-21132d4e6f47",
   "metadata": {},
   "outputs": [],
   "source": [
    "soup = BeautifulSoup(res,'lxml')\n",
    "result = soup.select('td.tit > a')"
   ]
  },
  {
   "cell_type": "code",
   "execution_count": 110,
   "id": "9d251104-244f-4a66-9a56-6f1000cd8bfe",
   "metadata": {
    "collapsed": true,
    "jupyter": {
     "outputs_hidden": true
    },
    "tags": []
   },
   "outputs": [
    {
     "data": {
      "text/plain": [
       "[<a href=\"/marketindex/exchangeDetail.naver?marketindexCd=FX_USDKRW\" onclick=\"parent.clickcr(this, 'exl.exlist', 'FX_USDKRW', '1', event);\" target=\"_parent\">\n",
       " \t\t\t\t\n",
       " \t\t\t\t\t\n",
       " \t\t\t\t\t\n",
       " \t\t\t\t\t\n",
       " \t\t\t\t\t미국 USD\n",
       " \t\t\t\t\n",
       " \t\t\t\t</a>,\n",
       " <a href=\"/marketindex/exchangeDetail.naver?marketindexCd=FX_EURKRW\" onclick=\"parent.clickcr(this, 'exl.exlist', 'FX_EURKRW', '2', event);\" target=\"_parent\">\n",
       " \t\t\t\t\n",
       " \t\t\t\t\t\n",
       " \t\t\t\t\t\n",
       " \t\t\t\t\t\n",
       " \t\t\t\t\t유럽연합 EUR\n",
       " \t\t\t\t\n",
       " \t\t\t\t</a>,\n",
       " <a href=\"/marketindex/exchangeDetail.naver?marketindexCd=FX_JPYKRW\" onclick=\"parent.clickcr(this, 'exl.exlist', 'FX_JPYKRW', '3', event);\" target=\"_parent\">\n",
       " \t\t\t\t\n",
       " \t\t\t\t\t일본 JPY (100엔)\n",
       " \t\t\t\t\t\n",
       " \t\t\t\t\t\n",
       " \t\t\t\t\t\n",
       " \t\t\t\t\n",
       " \t\t\t\t</a>,\n",
       " <a href=\"/marketindex/exchangeDetail.naver?marketindexCd=FX_CNYKRW\" onclick=\"parent.clickcr(this, 'exl.exlist', 'FX_CNYKRW', '4', event);\" target=\"_parent\">\n",
       " \t\t\t\t\n",
       " \t\t\t\t\t\n",
       " \t\t\t\t\t\n",
       " \t\t\t\t\t\n",
       " \t\t\t\t\t중국 CNY\n",
       " \t\t\t\t\n",
       " \t\t\t\t</a>,\n",
       " <a href=\"/marketindex/exchangeDetail.naver?marketindexCd=FX_HKDKRW\" onclick=\"parent.clickcr(this, 'exl.exlist', 'FX_HKDKRW', '5', event);\" target=\"_parent\">\n",
       " \t\t\t\t\n",
       " \t\t\t\t\t\n",
       " \t\t\t\t\t\n",
       " \t\t\t\t\t\n",
       " \t\t\t\t\t홍콩 HKD\n",
       " \t\t\t\t\n",
       " \t\t\t\t</a>,\n",
       " <a href=\"/marketindex/exchangeDetail.naver?marketindexCd=FX_TWDKRW\" onclick=\"parent.clickcr(this, 'exl.exlist', 'FX_TWDKRW', '6', event);\" target=\"_parent\">\n",
       " \t\t\t\t\n",
       " \t\t\t\t\t\n",
       " \t\t\t\t\t\n",
       " \t\t\t\t\t\n",
       " \t\t\t\t\t대만 TWD\n",
       " \t\t\t\t\n",
       " \t\t\t\t</a>,\n",
       " <a href=\"/marketindex/exchangeDetail.naver?marketindexCd=FX_GBPKRW\" onclick=\"parent.clickcr(this, 'exl.exlist', 'FX_GBPKRW', '7', event);\" target=\"_parent\">\n",
       " \t\t\t\t\n",
       " \t\t\t\t\t\n",
       " \t\t\t\t\t\n",
       " \t\t\t\t\t\n",
       " \t\t\t\t\t영국 GBP\n",
       " \t\t\t\t\n",
       " \t\t\t\t</a>,\n",
       " <a href=\"/marketindex/exchangeDetail.naver?marketindexCd=FX_OMRKRW\" onclick=\"parent.clickcr(this, 'exl.exlist', 'FX_OMRKRW', '8', event);\" target=\"_parent\">\n",
       " \t\t\t\t\n",
       " \t\t\t\t\t\n",
       " \t\t\t\t\t\n",
       " \t\t\t\t\t\n",
       " \t\t\t\t\t오만 OMR\n",
       " \t\t\t\t\n",
       " \t\t\t\t</a>,\n",
       " <a href=\"/marketindex/exchangeDetail.naver?marketindexCd=FX_CADKRW\" onclick=\"parent.clickcr(this, 'exl.exlist', 'FX_CADKRW', '9', event);\" target=\"_parent\">\n",
       " \t\t\t\t\n",
       " \t\t\t\t\t\n",
       " \t\t\t\t\t\n",
       " \t\t\t\t\t\n",
       " \t\t\t\t\t캐나다 CAD\n",
       " \t\t\t\t\n",
       " \t\t\t\t</a>,\n",
       " <a href=\"/marketindex/exchangeDetail.naver?marketindexCd=FX_CHFKRW\" onclick=\"parent.clickcr(this, 'exl.exlist', 'FX_CHFKRW', '10', event);\" target=\"_parent\">\n",
       " \t\t\t\t\n",
       " \t\t\t\t\t\n",
       " \t\t\t\t\t\n",
       " \t\t\t\t\t\n",
       " \t\t\t\t\t스위스 CHF\n",
       " \t\t\t\t\n",
       " \t\t\t\t</a>,\n",
       " <a href=\"/marketindex/exchangeDetail.naver?marketindexCd=FX_SEKKRW\" onclick=\"parent.clickcr(this, 'exl.exlist', 'FX_SEKKRW', '11', event);\" target=\"_parent\">\n",
       " \t\t\t\t\n",
       " \t\t\t\t\t\n",
       " \t\t\t\t\t\n",
       " \t\t\t\t\t\n",
       " \t\t\t\t\t스웨덴 SEK\n",
       " \t\t\t\t\n",
       " \t\t\t\t</a>,\n",
       " <a href=\"/marketindex/exchangeDetail.naver?marketindexCd=FX_AUDKRW\" onclick=\"parent.clickcr(this, 'exl.exlist', 'FX_AUDKRW', '12', event);\" target=\"_parent\">\n",
       " \t\t\t\t\n",
       " \t\t\t\t\t\n",
       " \t\t\t\t\t\n",
       " \t\t\t\t\t\n",
       " \t\t\t\t\t호주 AUD\n",
       " \t\t\t\t\n",
       " \t\t\t\t</a>,\n",
       " <a href=\"/marketindex/exchangeDetail.naver?marketindexCd=FX_NZDKRW\" onclick=\"parent.clickcr(this, 'exl.exlist', 'FX_NZDKRW', '13', event);\" target=\"_parent\">\n",
       " \t\t\t\t\n",
       " \t\t\t\t\t\n",
       " \t\t\t\t\t\n",
       " \t\t\t\t\t\n",
       " \t\t\t\t\t뉴질랜드 NZD\n",
       " \t\t\t\t\n",
       " \t\t\t\t</a>,\n",
       " <a href=\"/marketindex/exchangeDetail.naver?marketindexCd=FX_CZKKRW\" onclick=\"parent.clickcr(this, 'exl.exlist', 'FX_CZKKRW', '14', event);\" target=\"_parent\">\n",
       " \t\t\t\t\n",
       " \t\t\t\t\t\n",
       " \t\t\t\t\t\n",
       " \t\t\t\t\t\n",
       " \t\t\t\t\t체코 CZK\n",
       " \t\t\t\t\n",
       " \t\t\t\t</a>,\n",
       " <a href=\"/marketindex/exchangeDetail.naver?marketindexCd=FX_CLPKRW\" onclick=\"parent.clickcr(this, 'exl.exlist', 'FX_CLPKRW', '15', event);\" target=\"_parent\">\n",
       " \t\t\t\t\n",
       " \t\t\t\t\t\n",
       " \t\t\t\t\t\n",
       " \t\t\t\t\t\n",
       " \t\t\t\t\t칠레 CLP\n",
       " \t\t\t\t\n",
       " \t\t\t\t</a>,\n",
       " <a href=\"/marketindex/exchangeDetail.naver?marketindexCd=FX_TRYKRW\" onclick=\"parent.clickcr(this, 'exl.exlist', 'FX_TRYKRW', '16', event);\" target=\"_parent\">\n",
       " \t\t\t\t\n",
       " \t\t\t\t\t\n",
       " \t\t\t\t\t\n",
       " \t\t\t\t\t\n",
       " \t\t\t\t\t터키 TRY\n",
       " \t\t\t\t\n",
       " \t\t\t\t</a>,\n",
       " <a href=\"/marketindex/exchangeDetail.naver?marketindexCd=FX_MNTKRW\" onclick=\"parent.clickcr(this, 'exl.exlist', 'FX_MNTKRW', '17', event);\" target=\"_parent\">\n",
       " \t\t\t\t\n",
       " \t\t\t\t\t\n",
       " \t\t\t\t\t\n",
       " \t\t\t\t\t\n",
       " \t\t\t\t\t몽골 MNT\n",
       " \t\t\t\t\n",
       " \t\t\t\t</a>,\n",
       " <a href=\"/marketindex/exchangeDetail.naver?marketindexCd=FX_ILSKRW\" onclick=\"parent.clickcr(this, 'exl.exlist', 'FX_ILSKRW', '18', event);\" target=\"_parent\">\n",
       " \t\t\t\t\n",
       " \t\t\t\t\t\n",
       " \t\t\t\t\t\n",
       " \t\t\t\t\t\n",
       " \t\t\t\t\t이스라엘 ILS\n",
       " \t\t\t\t\n",
       " \t\t\t\t</a>,\n",
       " <a href=\"/marketindex/exchangeDetail.naver?marketindexCd=FX_DKKKRW\" onclick=\"parent.clickcr(this, 'exl.exlist', 'FX_DKKKRW', '19', event);\" target=\"_parent\">\n",
       " \t\t\t\t\n",
       " \t\t\t\t\t\n",
       " \t\t\t\t\t\n",
       " \t\t\t\t\t\n",
       " \t\t\t\t\t덴마크 DKK\n",
       " \t\t\t\t\n",
       " \t\t\t\t</a>,\n",
       " <a href=\"/marketindex/exchangeDetail.naver?marketindexCd=FX_NOKKRW\" onclick=\"parent.clickcr(this, 'exl.exlist', 'FX_NOKKRW', '20', event);\" target=\"_parent\">\n",
       " \t\t\t\t\n",
       " \t\t\t\t\t\n",
       " \t\t\t\t\t\n",
       " \t\t\t\t\t\n",
       " \t\t\t\t\t노르웨이 NOK\n",
       " \t\t\t\t\n",
       " \t\t\t\t</a>,\n",
       " <a href=\"/marketindex/exchangeDetail.naver?marketindexCd=FX_SARKRW\" onclick=\"parent.clickcr(this, 'exl.exlist', 'FX_SARKRW', '21', event);\" target=\"_parent\">\n",
       " \t\t\t\t\n",
       " \t\t\t\t\t\n",
       " \t\t\t\t\t\n",
       " \t\t\t\t\t\n",
       " \t\t\t\t\t사우디아라비아 SAR\n",
       " \t\t\t\t\n",
       " \t\t\t\t</a>,\n",
       " <a href=\"/marketindex/exchangeDetail.naver?marketindexCd=FX_KWDKRW\" onclick=\"parent.clickcr(this, 'exl.exlist', 'FX_KWDKRW', '22', event);\" target=\"_parent\">\n",
       " \t\t\t\t\n",
       " \t\t\t\t\t\n",
       " \t\t\t\t\t\n",
       " \t\t\t\t\t\n",
       " \t\t\t\t\t쿠웨이트 KWD\n",
       " \t\t\t\t\n",
       " \t\t\t\t</a>,\n",
       " <a href=\"/marketindex/exchangeDetail.naver?marketindexCd=FX_BHDKRW\" onclick=\"parent.clickcr(this, 'exl.exlist', 'FX_BHDKRW', '23', event);\" target=\"_parent\">\n",
       " \t\t\t\t\n",
       " \t\t\t\t\t\n",
       " \t\t\t\t\t\n",
       " \t\t\t\t\t\n",
       " \t\t\t\t\t바레인 BHD\n",
       " \t\t\t\t\n",
       " \t\t\t\t</a>,\n",
       " <a href=\"/marketindex/exchangeDetail.naver?marketindexCd=FX_AEDKRW\" onclick=\"parent.clickcr(this, 'exl.exlist', 'FX_AEDKRW', '24', event);\" target=\"_parent\">\n",
       " \t\t\t\t\n",
       " \t\t\t\t\t\n",
       " \t\t\t\t\t\n",
       " \t\t\t\t\t\n",
       " \t\t\t\t\t아랍에미리트 AED\n",
       " \t\t\t\t\n",
       " \t\t\t\t</a>,\n",
       " <a href=\"/marketindex/exchangeDetail.naver?marketindexCd=FX_JODKRW\" onclick=\"parent.clickcr(this, 'exl.exlist', 'FX_JODKRW', '25', event);\" target=\"_parent\">\n",
       " \t\t\t\t\n",
       " \t\t\t\t\t\n",
       " \t\t\t\t\t\n",
       " \t\t\t\t\t\n",
       " \t\t\t\t\t요르단 JOD\n",
       " \t\t\t\t\n",
       " \t\t\t\t</a>,\n",
       " <a href=\"/marketindex/exchangeDetail.naver?marketindexCd=FX_EGPKRW\" onclick=\"parent.clickcr(this, 'exl.exlist', 'FX_EGPKRW', '26', event);\" target=\"_parent\">\n",
       " \t\t\t\t\n",
       " \t\t\t\t\t\n",
       " \t\t\t\t\t\n",
       " \t\t\t\t\t\n",
       " \t\t\t\t\t이집트 EGP\n",
       " \t\t\t\t\n",
       " \t\t\t\t</a>,\n",
       " <a href=\"/marketindex/exchangeDetail.naver?marketindexCd=FX_THBKRW\" onclick=\"parent.clickcr(this, 'exl.exlist', 'FX_THBKRW', '27', event);\" target=\"_parent\">\n",
       " \t\t\t\t\n",
       " \t\t\t\t\t\n",
       " \t\t\t\t\t\n",
       " \t\t\t\t\t\n",
       " \t\t\t\t\t태국 THB\n",
       " \t\t\t\t\n",
       " \t\t\t\t</a>,\n",
       " <a href=\"/marketindex/exchangeDetail.naver?marketindexCd=FX_SGDKRW\" onclick=\"parent.clickcr(this, 'exl.exlist', 'FX_SGDKRW', '28', event);\" target=\"_parent\">\n",
       " \t\t\t\t\n",
       " \t\t\t\t\t\n",
       " \t\t\t\t\t\n",
       " \t\t\t\t\t\n",
       " \t\t\t\t\t싱가포르 SGD\n",
       " \t\t\t\t\n",
       " \t\t\t\t</a>,\n",
       " <a href=\"/marketindex/exchangeDetail.naver?marketindexCd=FX_MYRKRW\" onclick=\"parent.clickcr(this, 'exl.exlist', 'FX_MYRKRW', '29', event);\" target=\"_parent\">\n",
       " \t\t\t\t\n",
       " \t\t\t\t\t\n",
       " \t\t\t\t\t\n",
       " \t\t\t\t\t\n",
       " \t\t\t\t\t말레이시아 MYR\n",
       " \t\t\t\t\n",
       " \t\t\t\t</a>,\n",
       " <a href=\"/marketindex/exchangeDetail.naver?marketindexCd=FX_IDRKRW\" onclick=\"parent.clickcr(this, 'exl.exlist', 'FX_IDRKRW', '30', event);\" target=\"_parent\">\n",
       " \t\t\t\t\n",
       " \t\t\t\t\t\n",
       " \t\t\t\t\t인도네시아 IDR 100\n",
       " \t\t\t\t\t\n",
       " \t\t\t\t\t\n",
       " \t\t\t\t\n",
       " \t\t\t\t</a>,\n",
       " <a href=\"/marketindex/exchangeDetail.naver?marketindexCd=FX_QARKRW\" onclick=\"parent.clickcr(this, 'exl.exlist', 'FX_QARKRW', '31', event);\" target=\"_parent\">\n",
       " \t\t\t\t\n",
       " \t\t\t\t\t\n",
       " \t\t\t\t\t\n",
       " \t\t\t\t\t\n",
       " \t\t\t\t\t카타르 QAR\n",
       " \t\t\t\t\n",
       " \t\t\t\t</a>,\n",
       " <a href=\"/marketindex/exchangeDetail.naver?marketindexCd=FX_KZTKRW\" onclick=\"parent.clickcr(this, 'exl.exlist', 'FX_KZTKRW', '32', event);\" target=\"_parent\">\n",
       " \t\t\t\t\n",
       " \t\t\t\t\t\n",
       " \t\t\t\t\t\n",
       " \t\t\t\t\t\n",
       " \t\t\t\t\t카자흐스탄 KZT\n",
       " \t\t\t\t\n",
       " \t\t\t\t</a>,\n",
       " <a href=\"/marketindex/exchangeDetail.naver?marketindexCd=FX_BNDKRW\" onclick=\"parent.clickcr(this, 'exl.exlist', 'FX_BNDKRW', '33', event);\" target=\"_parent\">\n",
       " \t\t\t\t\n",
       " \t\t\t\t\t\n",
       " \t\t\t\t\t\n",
       " \t\t\t\t\t\n",
       " \t\t\t\t\t브루나이 BND\n",
       " \t\t\t\t\n",
       " \t\t\t\t</a>,\n",
       " <a href=\"/marketindex/exchangeDetail.naver?marketindexCd=FX_INRKRW\" onclick=\"parent.clickcr(this, 'exl.exlist', 'FX_INRKRW', '34', event);\" target=\"_parent\">\n",
       " \t\t\t\t\n",
       " \t\t\t\t\t\n",
       " \t\t\t\t\t\n",
       " \t\t\t\t\t\n",
       " \t\t\t\t\t인도 INR\n",
       " \t\t\t\t\n",
       " \t\t\t\t</a>,\n",
       " <a href=\"/marketindex/exchangeDetail.naver?marketindexCd=FX_PKRKRW\" onclick=\"parent.clickcr(this, 'exl.exlist', 'FX_PKRKRW', '35', event);\" target=\"_parent\">\n",
       " \t\t\t\t\n",
       " \t\t\t\t\t\n",
       " \t\t\t\t\t\n",
       " \t\t\t\t\t\n",
       " \t\t\t\t\t파키스탄 PKR\n",
       " \t\t\t\t\n",
       " \t\t\t\t</a>,\n",
       " <a href=\"/marketindex/exchangeDetail.naver?marketindexCd=FX_BDTKRW\" onclick=\"parent.clickcr(this, 'exl.exlist', 'FX_BDTKRW', '36', event);\" target=\"_parent\">\n",
       " \t\t\t\t\n",
       " \t\t\t\t\t\n",
       " \t\t\t\t\t\n",
       " \t\t\t\t\t\n",
       " \t\t\t\t\t방글라데시 BDT\n",
       " \t\t\t\t\n",
       " \t\t\t\t</a>,\n",
       " <a href=\"/marketindex/exchangeDetail.naver?marketindexCd=FX_PHPKRW\" onclick=\"parent.clickcr(this, 'exl.exlist', 'FX_PHPKRW', '37', event);\" target=\"_parent\">\n",
       " \t\t\t\t\n",
       " \t\t\t\t\t\n",
       " \t\t\t\t\t\n",
       " \t\t\t\t\t\n",
       " \t\t\t\t\t필리핀 PHP\n",
       " \t\t\t\t\n",
       " \t\t\t\t</a>,\n",
       " <a href=\"/marketindex/exchangeDetail.naver?marketindexCd=FX_MXNKRW\" onclick=\"parent.clickcr(this, 'exl.exlist', 'FX_MXNKRW', '38', event);\" target=\"_parent\">\n",
       " \t\t\t\t\n",
       " \t\t\t\t\t\n",
       " \t\t\t\t\t\n",
       " \t\t\t\t\t\n",
       " \t\t\t\t\t멕시코 MXN\n",
       " \t\t\t\t\n",
       " \t\t\t\t</a>,\n",
       " <a href=\"/marketindex/exchangeDetail.naver?marketindexCd=FX_BRLKRW\" onclick=\"parent.clickcr(this, 'exl.exlist', 'FX_BRLKRW', '39', event);\" target=\"_parent\">\n",
       " \t\t\t\t\n",
       " \t\t\t\t\t\n",
       " \t\t\t\t\t\n",
       " \t\t\t\t\t\n",
       " \t\t\t\t\t브라질 BRL\n",
       " \t\t\t\t\n",
       " \t\t\t\t</a>,\n",
       " <a href=\"/marketindex/exchangeDetail.naver?marketindexCd=FX_VNDKRW\" onclick=\"parent.clickcr(this, 'exl.exlist', 'FX_VNDKRW', '40', event);\" target=\"_parent\">\n",
       " \t\t\t\t\n",
       " \t\t\t\t\t\n",
       " \t\t\t\t\t\n",
       " \t\t\t\t\t베트남 VND 100\n",
       " \t\t\t\t\t\n",
       " \t\t\t\t\n",
       " \t\t\t\t</a>,\n",
       " <a href=\"/marketindex/exchangeDetail.naver?marketindexCd=FX_ZARKRW\" onclick=\"parent.clickcr(this, 'exl.exlist', 'FX_ZARKRW', '41', event);\" target=\"_parent\">\n",
       " \t\t\t\t\n",
       " \t\t\t\t\t\n",
       " \t\t\t\t\t\n",
       " \t\t\t\t\t\n",
       " \t\t\t\t\t남아프리카 공화국 ZAR\n",
       " \t\t\t\t\n",
       " \t\t\t\t</a>,\n",
       " <a href=\"/marketindex/exchangeDetail.naver?marketindexCd=FX_RUBKRW\" onclick=\"parent.clickcr(this, 'exl.exlist', 'FX_RUBKRW', '42', event);\" target=\"_parent\">\n",
       " \t\t\t\t\n",
       " \t\t\t\t\t\n",
       " \t\t\t\t\t\n",
       " \t\t\t\t\t\n",
       " \t\t\t\t\t러시아 RUB\n",
       " \t\t\t\t\n",
       " \t\t\t\t</a>,\n",
       " <a href=\"/marketindex/exchangeDetail.naver?marketindexCd=FX_HUFKRW\" onclick=\"parent.clickcr(this, 'exl.exlist', 'FX_HUFKRW', '43', event);\" target=\"_parent\">\n",
       " \t\t\t\t\n",
       " \t\t\t\t\t\n",
       " \t\t\t\t\t\n",
       " \t\t\t\t\t\n",
       " \t\t\t\t\t헝가리 HUF\n",
       " \t\t\t\t\n",
       " \t\t\t\t</a>,\n",
       " <a href=\"/marketindex/exchangeDetail.naver?marketindexCd=FX_PLNKRW\" onclick=\"parent.clickcr(this, 'exl.exlist', 'FX_PLNKRW', '44', event);\" target=\"_parent\">\n",
       " \t\t\t\t\n",
       " \t\t\t\t\t\n",
       " \t\t\t\t\t\n",
       " \t\t\t\t\t\n",
       " \t\t\t\t\t폴란드 PLN\n",
       " \t\t\t\t\n",
       " \t\t\t\t</a>]"
      ]
     },
     "execution_count": 110,
     "metadata": {},
     "output_type": "execute_result"
    }
   ],
   "source": [
    "result"
   ]
  },
  {
   "cell_type": "code",
   "execution_count": 111,
   "id": "906a19d9-98a2-4d6a-9cb2-94bdb1482b55",
   "metadata": {},
   "outputs": [],
   "source": [
    "name = []\n",
    "for item in result:\n",
    "    name.append(item.string.strip()) #strip으로 공백 제거"
   ]
  },
  {
   "cell_type": "code",
   "execution_count": 112,
   "id": "97c92ec4-7e92-4b8d-84c5-ef87ba3fa97c",
   "metadata": {
    "collapsed": true,
    "jupyter": {
     "outputs_hidden": true
    },
    "tags": []
   },
   "outputs": [
    {
     "data": {
      "text/plain": [
       "['미국 USD',\n",
       " '유럽연합 EUR',\n",
       " '일본 JPY (100엔)',\n",
       " '중국 CNY',\n",
       " '홍콩 HKD',\n",
       " '대만 TWD',\n",
       " '영국 GBP',\n",
       " '오만 OMR',\n",
       " '캐나다 CAD',\n",
       " '스위스 CHF',\n",
       " '스웨덴 SEK',\n",
       " '호주 AUD',\n",
       " '뉴질랜드 NZD',\n",
       " '체코 CZK',\n",
       " '칠레 CLP',\n",
       " '터키 TRY',\n",
       " '몽골 MNT',\n",
       " '이스라엘 ILS',\n",
       " '덴마크 DKK',\n",
       " '노르웨이 NOK',\n",
       " '사우디아라비아 SAR',\n",
       " '쿠웨이트 KWD',\n",
       " '바레인 BHD',\n",
       " '아랍에미리트 AED',\n",
       " '요르단 JOD',\n",
       " '이집트 EGP',\n",
       " '태국 THB',\n",
       " '싱가포르 SGD',\n",
       " '말레이시아 MYR',\n",
       " '인도네시아 IDR 100',\n",
       " '카타르 QAR',\n",
       " '카자흐스탄 KZT',\n",
       " '브루나이 BND',\n",
       " '인도 INR',\n",
       " '파키스탄 PKR',\n",
       " '방글라데시 BDT',\n",
       " '필리핀 PHP',\n",
       " '멕시코 MXN',\n",
       " '브라질 BRL',\n",
       " '베트남 VND 100',\n",
       " '남아프리카 공화국 ZAR',\n",
       " '러시아 RUB',\n",
       " '헝가리 HUF',\n",
       " '폴란드 PLN']"
      ]
     },
     "execution_count": 112,
     "metadata": {},
     "output_type": "execute_result"
    }
   ],
   "source": [
    "name"
   ]
  },
  {
   "cell_type": "code",
   "execution_count": 93,
   "id": "8dcec121-1f0f-4d17-a7cf-3ca0f5ea7baa",
   "metadata": {
    "collapsed": true,
    "jupyter": {
     "outputs_hidden": true
    },
    "tags": []
   },
   "outputs": [
    {
     "data": {
      "text/plain": [
       "[<td class=\"sale\">1,296.30</td>,\n",
       " <td class=\"sale\">1,352.82</td>,\n",
       " <td class=\"sale\">960.12</td>,\n",
       " <td class=\"sale\">193.50</td>,\n",
       " <td class=\"sale\">165.19</td>,\n",
       " <td class=\"sale\">43.51</td>,\n",
       " <td class=\"sale\">1,568.52</td>,\n",
       " <td class=\"sale\">3,366.93</td>,\n",
       " <td class=\"sale\">1,005.90</td>,\n",
       " <td class=\"sale\">1,352.64</td>,\n",
       " <td class=\"sale\">125.67</td>,\n",
       " <td class=\"sale\">883.17</td>,\n",
       " <td class=\"sale\">804.74</td>,\n",
       " <td class=\"sale\">54.67</td>,\n",
       " <td class=\"sale\">1.39</td>,\n",
       " <td class=\"sale\">77.33</td>,\n",
       " <td class=\"sale\">0.41</td>,\n",
       " <td class=\"sale\">367.50</td>,\n",
       " <td class=\"sale\">181.88</td>,\n",
       " <td class=\"sale\">130.40</td>,\n",
       " <td class=\"sale\">345.45</td>,\n",
       " <td class=\"sale\">4,224.26</td>,\n",
       " <td class=\"sale\">3,438.28</td>,\n",
       " <td class=\"sale\">352.92</td>,\n",
       " <td class=\"sale\">1,828.35</td>,\n",
       " <td class=\"sale\">68.92</td>,\n",
       " <td class=\"sale\">36.35</td>,\n",
       " <td class=\"sale\">928.48</td>,\n",
       " <td class=\"sale\">293.91</td>,\n",
       " <td class=\"sale\">8.70</td>,\n",
       " <td class=\"sale\">353.96</td>,\n",
       " <td class=\"sale\">2.79</td>,\n",
       " <td class=\"sale\">928.48</td>,\n",
       " <td class=\"sale\">16.41</td>,\n",
       " <td class=\"sale\">6.34</td>,\n",
       " <td class=\"sale\">13.87</td>,\n",
       " <td class=\"sale\">23.51</td>,\n",
       " <td class=\"sale\">63.86</td>,\n",
       " <td class=\"sale\">243.17</td>,\n",
       " <td class=\"sale\">5.56</td>,\n",
       " <td class=\"sale\">79.43</td>,\n",
       " <td class=\"sale\">24.01</td>,\n",
       " <td class=\"sale\">3.38</td>,\n",
       " <td class=\"sale\">288.52</td>]"
      ]
     },
     "execution_count": 93,
     "metadata": {},
     "output_type": "execute_result"
    }
   ],
   "source": [
    "result2 = soup.select('td.sale')\n",
    "result2"
   ]
  },
  {
   "cell_type": "code",
   "execution_count": 103,
   "id": "f0d1b26a-0422-4801-a2de-7623d81e758e",
   "metadata": {
    "collapsed": true,
    "jupyter": {
     "outputs_hidden": true
    },
    "tags": []
   },
   "outputs": [
    {
     "data": {
      "text/plain": [
       "['1,296.30',\n",
       " '1,352.82',\n",
       " '960.12',\n",
       " '193.50',\n",
       " '165.19',\n",
       " '43.51',\n",
       " '1,568.52',\n",
       " '3,366.93',\n",
       " '1,005.90',\n",
       " '1,352.64',\n",
       " '125.67',\n",
       " '883.17',\n",
       " '804.74',\n",
       " '54.67',\n",
       " '1.39',\n",
       " '77.33',\n",
       " '0.41',\n",
       " '367.50',\n",
       " '181.88',\n",
       " '130.40',\n",
       " '345.45',\n",
       " '4,224.26',\n",
       " '3,438.28',\n",
       " '352.92',\n",
       " '1,828.35',\n",
       " '68.92',\n",
       " '36.35',\n",
       " '928.48',\n",
       " '293.91',\n",
       " '8.70',\n",
       " '353.96',\n",
       " '2.79',\n",
       " '928.48',\n",
       " '16.41',\n",
       " '6.34',\n",
       " '13.87',\n",
       " '23.51',\n",
       " '63.86',\n",
       " '243.17',\n",
       " '5.56',\n",
       " '79.43',\n",
       " '24.01',\n",
       " '3.38',\n",
       " '288.52']"
      ]
     },
     "execution_count": 103,
     "metadata": {},
     "output_type": "execute_result"
    }
   ],
   "source": [
    "name2 = []\n",
    "for item in result2:\n",
    "    name2.append(item.string)\n",
    "name2"
   ]
  },
  {
   "cell_type": "code",
   "execution_count": 100,
   "id": "c598a004-02e5-46e1-9fc5-fc2162239b75",
   "metadata": {
    "collapsed": true,
    "jupyter": {
     "outputs_hidden": true
    },
    "tags": []
   },
   "outputs": [
    {
     "data": {
      "text/plain": [
       "[<td class=\"sale\">1,296.30</td>,\n",
       " <td class=\"sale\">1,352.82</td>,\n",
       " <td class=\"sale\">960.12</td>,\n",
       " <td class=\"sale\">193.50</td>,\n",
       " <td class=\"sale\">165.19</td>,\n",
       " <td class=\"sale\">43.51</td>,\n",
       " <td class=\"sale\">1,568.52</td>,\n",
       " <td class=\"sale\">3,366.93</td>,\n",
       " <td class=\"sale\">1,005.90</td>,\n",
       " <td class=\"sale\">1,352.64</td>,\n",
       " <td class=\"sale\">125.67</td>,\n",
       " <td class=\"sale\">883.17</td>,\n",
       " <td class=\"sale\">804.74</td>,\n",
       " <td class=\"sale\">54.67</td>,\n",
       " <td class=\"sale\">1.39</td>,\n",
       " <td class=\"sale\">77.33</td>,\n",
       " <td class=\"sale\">0.41</td>,\n",
       " <td class=\"sale\">367.50</td>,\n",
       " <td class=\"sale\">181.88</td>,\n",
       " <td class=\"sale\">130.40</td>,\n",
       " <td class=\"sale\">345.45</td>,\n",
       " <td class=\"sale\">4,224.26</td>,\n",
       " <td class=\"sale\">3,438.28</td>,\n",
       " <td class=\"sale\">352.92</td>,\n",
       " <td class=\"sale\">1,828.35</td>,\n",
       " <td class=\"sale\">68.92</td>,\n",
       " <td class=\"sale\">36.35</td>,\n",
       " <td class=\"sale\">928.48</td>,\n",
       " <td class=\"sale\">293.91</td>,\n",
       " <td class=\"sale\">8.70</td>,\n",
       " <td class=\"sale\">353.96</td>,\n",
       " <td class=\"sale\">2.79</td>,\n",
       " <td class=\"sale\">928.48</td>,\n",
       " <td class=\"sale\">16.41</td>,\n",
       " <td class=\"sale\">6.34</td>,\n",
       " <td class=\"sale\">13.87</td>,\n",
       " <td class=\"sale\">23.51</td>,\n",
       " <td class=\"sale\">63.86</td>,\n",
       " <td class=\"sale\">243.17</td>,\n",
       " <td class=\"sale\">5.56</td>,\n",
       " <td class=\"sale\">79.43</td>,\n",
       " <td class=\"sale\">24.01</td>,\n",
       " <td class=\"sale\">3.38</td>,\n",
       " <td class=\"sale\">288.52</td>]"
      ]
     },
     "execution_count": 100,
     "metadata": {},
     "output_type": "execute_result"
    }
   ],
   "source": [
    "result3 = soup.select('td.sale')\n",
    "result3"
   ]
  },
  {
   "cell_type": "code",
   "execution_count": 101,
   "id": "c06d524d-a614-4a49-9050-80d7ec00bc68",
   "metadata": {
    "collapsed": true,
    "jupyter": {
     "outputs_hidden": true
    },
    "tags": []
   },
   "outputs": [
    {
     "data": {
      "text/plain": [
       "[1296.3,\n",
       " 1352.82,\n",
       " 960.12,\n",
       " 193.5,\n",
       " 165.19,\n",
       " 43.51,\n",
       " 1568.52,\n",
       " 3366.93,\n",
       " 1005.9,\n",
       " 1352.64,\n",
       " 125.67,\n",
       " 883.17,\n",
       " 804.74,\n",
       " 54.67,\n",
       " 1.39,\n",
       " 77.33,\n",
       " 0.41,\n",
       " 367.5,\n",
       " 181.88,\n",
       " 130.4,\n",
       " 345.45,\n",
       " 4224.26,\n",
       " 3438.28,\n",
       " 352.92,\n",
       " 1828.35,\n",
       " 68.92,\n",
       " 36.35,\n",
       " 928.48,\n",
       " 293.91,\n",
       " 8.7,\n",
       " 353.96,\n",
       " 2.79,\n",
       " 928.48,\n",
       " 16.41,\n",
       " 6.34,\n",
       " 13.87,\n",
       " 23.51,\n",
       " 63.86,\n",
       " 243.17,\n",
       " 5.56,\n",
       " 79.43,\n",
       " 24.01,\n",
       " 3.38,\n",
       " 288.52]"
      ]
     },
     "execution_count": 101,
     "metadata": {},
     "output_type": "execute_result"
    }
   ],
   "source": [
    "# 위의 결과값 숫자로 표기\n",
    "price = []\n",
    "for item in result3:\n",
    "    price.append(float(item.string.replace(',',''))) # string에 ',' 콤마를 찾아서 '' 지우고 대체해라\n",
    "price"
   ]
  },
  {
   "cell_type": "code",
   "execution_count": 113,
   "id": "73928d68-9da8-497e-932d-21344b2a4c6c",
   "metadata": {
    "collapsed": true,
    "jupyter": {
     "outputs_hidden": true
    },
    "tags": []
   },
   "outputs": [
    {
     "data": {
      "text/plain": [
       "[('미국 USD', 1296.3),\n",
       " ('유럽연합 EUR', 1352.82),\n",
       " ('일본 JPY (100엔)', 960.12),\n",
       " ('중국 CNY', 193.5),\n",
       " ('홍콩 HKD', 165.19),\n",
       " ('대만 TWD', 43.51),\n",
       " ('영국 GBP', 1568.52),\n",
       " ('오만 OMR', 3366.93),\n",
       " ('캐나다 CAD', 1005.9),\n",
       " ('스위스 CHF', 1352.64),\n",
       " ('스웨덴 SEK', 125.67),\n",
       " ('호주 AUD', 883.17),\n",
       " ('뉴질랜드 NZD', 804.74),\n",
       " ('체코 CZK', 54.67),\n",
       " ('칠레 CLP', 1.39),\n",
       " ('터키 TRY', 77.33),\n",
       " ('몽골 MNT', 0.41),\n",
       " ('이스라엘 ILS', 367.5),\n",
       " ('덴마크 DKK', 181.88),\n",
       " ('노르웨이 NOK', 130.4),\n",
       " ('사우디아라비아 SAR', 345.45),\n",
       " ('쿠웨이트 KWD', 4224.26),\n",
       " ('바레인 BHD', 3438.28),\n",
       " ('아랍에미리트 AED', 352.92),\n",
       " ('요르단 JOD', 1828.35),\n",
       " ('이집트 EGP', 68.92),\n",
       " ('태국 THB', 36.35),\n",
       " ('싱가포르 SGD', 928.48),\n",
       " ('말레이시아 MYR', 293.91),\n",
       " ('인도네시아 IDR 100', 8.7),\n",
       " ('카타르 QAR', 353.96),\n",
       " ('카자흐스탄 KZT', 2.79),\n",
       " ('브루나이 BND', 928.48),\n",
       " ('인도 INR', 16.41),\n",
       " ('파키스탄 PKR', 6.34),\n",
       " ('방글라데시 BDT', 13.87),\n",
       " ('필리핀 PHP', 23.51),\n",
       " ('멕시코 MXN', 63.86),\n",
       " ('브라질 BRL', 243.17),\n",
       " ('베트남 VND 100', 5.56),\n",
       " ('남아프리카 공화국 ZAR', 79.43),\n",
       " ('러시아 RUB', 24.01),\n",
       " ('헝가리 HUF', 3.38),\n",
       " ('폴란드 PLN', 288.52)]"
      ]
     },
     "execution_count": 113,
     "metadata": {},
     "output_type": "execute_result"
    }
   ],
   "source": [
    "list(zip(name, price)) #zip으로 묶어서 list로 리턴"
   ]
  },
  {
   "cell_type": "code",
   "execution_count": null,
   "id": "34d98263-dc6a-4bf5-8023-b1475b10e550",
   "metadata": {},
   "outputs": [],
   "source": []
  }
 ],
 "metadata": {
  "kernelspec": {
   "display_name": "Python 3 (ipykernel)",
   "language": "python",
   "name": "python3"
  },
  "language_info": {
   "codemirror_mode": {
    "name": "ipython",
    "version": 3
   },
   "file_extension": ".py",
   "mimetype": "text/x-python",
   "name": "python",
   "nbconvert_exporter": "python",
   "pygments_lexer": "ipython3",
   "version": "3.9.12"
  }
 },
 "nbformat": 4,
 "nbformat_minor": 5
}
