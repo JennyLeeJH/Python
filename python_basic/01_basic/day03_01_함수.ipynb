{
 "cells": [
  {
   "cell_type": "markdown",
   "id": "a2ba77ba-f14e-4c63-a10b-e188bebf00f7",
   "metadata": {},
   "source": [
    "## 집합 자료형 (set)"
   ]
  },
  {
   "cell_type": "code",
   "execution_count": 1,
   "id": "9cc71eaa-6cfd-4a33-9a1c-963820f06cab",
   "metadata": {},
   "outputs": [],
   "source": [
    "a = [1,2,1,4,3,1,2,3,2,1,3,6]"
   ]
  },
  {
   "cell_type": "code",
   "execution_count": 3,
   "id": "58435f08-2b17-422d-b45d-7a9de759dfeb",
   "metadata": {},
   "outputs": [
    {
     "data": {
      "text/plain": [
       "{1, 2, 3, 4, 6}"
      ]
     },
     "execution_count": 3,
     "metadata": {},
     "output_type": "execute_result"
    }
   ],
   "source": [
    "set(a)\n",
    "#중복으로 되어 있는 값은 지운다. 중복되지 않는 key 값들만!"
   ]
  },
  {
   "cell_type": "markdown",
   "id": "58c56439-a71e-4e12-b359-9ffad26a60ab",
   "metadata": {},
   "source": [
    "## 불 자료형 (bool)"
   ]
  },
  {
   "cell_type": "raw",
   "id": "56a19a55-5775-43cf-b26e-468413941194",
   "metadata": {},
   "source": [
    "내용이 있으면 참으로, 내용이 없으면 거짓으로 구분된다.\n",
    "숫자값일 땐 0과 None은 거짓, 그 외의 숫자들은 참으로 구분\n",
    "whiled을 사용하여 pop을 print할 경우 [ ] 비어있는 값으로 최종 출력되어 거짓으로 된다.\n",
    "\n",
    "\n",
    "++ 자료형의 값을 저장하... (보기!!!!)"
   ]
  },
  {
   "cell_type": "markdown",
   "id": "bb9acc15-afa2-4bf8-96fc-f5db27bba8ce",
   "metadata": {},
   "source": [
    "# 함수"
   ]
  },
  {
   "cell_type": "raw",
   "id": "46fe6a88-299b-484c-a868-98cd15f322c9",
   "metadata": {},
   "source": [
    "기능을 모아놓은 단위라고 생각하면된다.\n",
    "똑같은 내뇽을 반복해서 사용하거나 자주 사용하는, 쓰기 불편한 것들을 함수로 묶어서 쓰기 편하게 사용하게 해준다."
   ]
  },
  {
   "cell_type": "raw",
   "id": "7dd4cdb0-4546-4b82-a27f-9f6ac630c2a9",
   "metadata": {},
   "source": [
    "함수의 구조\n",
    "def 함수명(매개변수):\n",
    "    #함수에 포함되어있는 것\n",
    "    <수행할 문장1>\n",
    "    <수행할 문장2>\n",
    "    \n",
    "매개변수는 사용 범위가 해당 함수 안에서 사용가능하다.\n",
    "들어오는 값은 있는데, 나가는 값이 없는\n",
    "들어오는 값은 없는데, 나가는 값은 있는\n",
    "둘다 없거나, 있거나 4가지 유형으로 나뉜다."
   ]
  },
  {
   "cell_type": "code",
   "execution_count": 4,
   "id": "c4f34582-0711-4d17-b04e-3b622831812f",
   "metadata": {},
   "outputs": [],
   "source": [
    "def add(a,b):\n",
    "    return a+b"
   ]
  },
  {
   "cell_type": "code",
   "execution_count": 6,
   "id": "911cc2ec-578a-4b23-a137-15c979ecdd54",
   "metadata": {},
   "outputs": [
    {
     "data": {
      "text/plain": [
       "3"
      ]
     },
     "execution_count": 6,
     "metadata": {},
     "output_type": "execute_result"
    }
   ],
   "source": [
    "add(1,2) #2개의 매개변수를 선언했기에 1개만 사용할 경우 에러가 뜬다."
   ]
  },
  {
   "cell_type": "code",
   "execution_count": 8,
   "id": "fed6fa00-f82e-40aa-a637-a690dc9c0037",
   "metadata": {},
   "outputs": [],
   "source": [
    "def add2(a,b):\n",
    "    return a,b"
   ]
  },
  {
   "cell_type": "code",
   "execution_count": 10,
   "id": "517eefc2-1946-40fb-99a7-ece94d032cd3",
   "metadata": {},
   "outputs": [
    {
     "data": {
      "text/plain": [
       "(1, 2)"
      ]
     },
     "execution_count": 10,
     "metadata": {},
     "output_type": "execute_result"
    }
   ],
   "source": [
    "add2(1,2) #파이썬은 여러개를 내보내면 자기가 알아서 묶어서 실제 나가는 값은 하나다. 결과값으로 튜플로 묶어 데이터를 하나로 리턴을 시킨다. 자동으로 묶어서 처리를 해주기에 쓰는 입장에서 편하다. \n",
    "# 기본적인 리턴값은 하나이지만, 여러개를 작업 할 경우 묶어서 내보내준다."
   ]
  },
  {
   "cell_type": "code",
   "execution_count": 12,
   "id": "858a18ed-1223-443b-a1d4-fb4e616b489f",
   "metadata": {},
   "outputs": [],
   "source": [
    "# 입력값이 없는 함수\n",
    "def say():\n",
    "    return 'hi'"
   ]
  },
  {
   "cell_type": "code",
   "execution_count": 14,
   "id": "3905c696-83aa-46cd-9da5-fd2669475304",
   "metadata": {},
   "outputs": [
    {
     "data": {
      "text/plain": [
       "'hi'"
      ]
     },
     "execution_count": 14,
     "metadata": {},
     "output_type": "execute_result"
    }
   ],
   "source": [
    "say()"
   ]
  },
  {
   "cell_type": "code",
   "execution_count": 23,
   "id": "94789f2c-94f6-4470-bd9c-729dcb0f8492",
   "metadata": {},
   "outputs": [],
   "source": [
    "def add3(a,b):\n",
    "    return a/b"
   ]
  },
  {
   "cell_type": "code",
   "execution_count": 28,
   "id": "711ee489-cd49-40ef-af47-375b09ff6a45",
   "metadata": {},
   "outputs": [
    {
     "data": {
      "text/plain": [
       "1.6666666666666667"
      ]
     },
     "execution_count": 28,
     "metadata": {},
     "output_type": "execute_result"
    }
   ],
   "source": [
    "add3(b=3,a=5) #매개변수를 지정 가능하다"
   ]
  },
  {
   "cell_type": "code",
   "execution_count": 25,
   "id": "87f9be88-bd90-4fdf-92d7-1cf114b7bacc",
   "metadata": {},
   "outputs": [
    {
     "data": {
      "text/plain": [
       "0.6"
      ]
     },
     "execution_count": 25,
     "metadata": {},
     "output_type": "execute_result"
    }
   ],
   "source": [
    "add3(3,5)"
   ]
  },
  {
   "cell_type": "code",
   "execution_count": 29,
   "id": "34a92fe2-a66d-4345-ba0c-829f09218eeb",
   "metadata": {},
   "outputs": [],
   "source": [
    "def add4(a=1, b=1): #디폴트 갑 잡아놓는 거\n",
    "    return a/b"
   ]
  },
  {
   "cell_type": "code",
   "execution_count": 27,
   "id": "151987fd-7b26-490a-9c59-fc8ebd39beeb",
   "metadata": {},
   "outputs": [
    {
     "data": {
      "text/plain": [
       "1.0"
      ]
     },
     "execution_count": 27,
     "metadata": {},
     "output_type": "execute_result"
    }
   ],
   "source": [
    "add4()"
   ]
  },
  {
   "cell_type": "markdown",
   "id": "492a5d96-32ba-4ca3-8877-521eb3e91d96",
   "metadata": {},
   "source": [
    "### 여러개의 입력값을 받는 함수"
   ]
  },
  {
   "cell_type": "code",
   "execution_count": 38,
   "id": "7db7b0e8-c73c-4ac4-bc7d-556c71c7699d",
   "metadata": {},
   "outputs": [],
   "source": [
    "def add_many(*args):# *을 사용하면 데이터를 묶어서 하나로 내보내준다. (튜블 형태) -> 몇개인지 모르는 데이터를 받아온다.\n",
    "    print(args) # -> 입력받은 값 확인\n",
    "    print(type)\n",
    "    result = 0\n",
    "    for i in args:\n",
    "        result = result + i\n",
    "    return result"
   ]
  },
  {
   "cell_type": "code",
   "execution_count": 36,
   "id": "b895a10c-8f7e-4ff4-91ed-d2da77948fed",
   "metadata": {},
   "outputs": [
    {
     "name": "stdout",
     "output_type": "stream",
     "text": [
      "(1, 2, 3, 4, 5, 6, 7, 8, 9, 10)\n",
      "<class 'type'>\n"
     ]
    },
    {
     "data": {
      "text/plain": [
       "55"
      ]
     },
     "execution_count": 36,
     "metadata": {},
     "output_type": "execute_result"
    }
   ],
   "source": [
    "add_many(1,2,3,4,5,6,7,8,9,10)"
   ]
  },
  {
   "cell_type": "code",
   "execution_count": 39,
   "id": "781a872b-e0fd-464c-9365-aaac57754d6f",
   "metadata": {},
   "outputs": [],
   "source": [
    "def add_mul(choice, *args): # 주의 할 점은 순서가 바뀌면 안된다. 하나씩 적는게 있을 경우 하나를 앞으로 but 디폴트 값을 줄 경우 뒤에 적어도 무방! ex> (*args, choice='add')\n",
    "    if choice == 'add':\n",
    "        result =0\n",
    "        for i in args:\n",
    "            result = result + i\n",
    "    elif choice == 'mul':\n",
    "        result = 1\n",
    "        for i in args:\n",
    "            result = result * i\n",
    "    return result"
   ]
  },
  {
   "cell_type": "code",
   "execution_count": 40,
   "id": "119c5dd9-db28-447d-a328-1ab1632b425e",
   "metadata": {},
   "outputs": [
    {
     "data": {
      "text/plain": [
       "19"
      ]
     },
     "execution_count": 40,
     "metadata": {},
     "output_type": "execute_result"
    }
   ],
   "source": [
    "add_mul('add',1,1,2,3,2,3,2,3,2)"
   ]
  },
  {
   "cell_type": "code",
   "execution_count": 45,
   "id": "47310ae1-5f4b-4f2e-b6be-3733073ca20b",
   "metadata": {},
   "outputs": [],
   "source": [
    "def add_mul2(*args, choice='add'): # 주의 할 점은 순서가 바뀌면 안된다. 하나씩 적는게 있을 경우 하나를 앞으로 but 디폴트 값을 줄 경우 뒤에 적어도 무방! ex> (*args, choice='add')\n",
    "    if choice == 'add':\n",
    "        result =0\n",
    "        for i in args:\n",
    "            result = result + i\n",
    "    elif choice == 'mul':\n",
    "        result = 1\n",
    "        for i in args:\n",
    "            result = result * i\n",
    "    return result"
   ]
  },
  {
   "cell_type": "code",
   "execution_count": 46,
   "id": "a52c9b80-edec-4c9b-92e3-9c6d2e2b663b",
   "metadata": {},
   "outputs": [
    {
     "data": {
      "text/plain": [
       "432"
      ]
     },
     "execution_count": 46,
     "metadata": {},
     "output_type": "execute_result"
    }
   ],
   "source": [
    "add_mul2(1,1,2,3,2,3,2,3,2,choice='mul')"
   ]
  },
  {
   "cell_type": "code",
   "execution_count": 47,
   "id": "a3b302ef-2093-4e5b-a17f-b0e8ec3634ed",
   "metadata": {},
   "outputs": [],
   "source": [
    "# 키워드 파라미터 -> 매개변수 앞에 별 두개 를 붙인다."
   ]
  },
  {
   "cell_type": "code",
   "execution_count": 48,
   "id": "8f28203e-ae65-418e-81b5-e543b5d35688",
   "metadata": {},
   "outputs": [],
   "source": [
    "# global 사용은 가능하지만 웬만하면 안쓰는게 좋다."
   ]
  },
  {
   "cell_type": "code",
   "execution_count": null,
   "id": "2f8f425a-3ccf-4f56-817a-a09cab258be4",
   "metadata": {},
   "outputs": [],
   "source": []
  }
 ],
 "metadata": {
  "kernelspec": {
   "display_name": "Python 3 (ipykernel)",
   "language": "python",
   "name": "python3"
  },
  "language_info": {
   "codemirror_mode": {
    "name": "ipython",
    "version": 3
   },
   "file_extension": ".py",
   "mimetype": "text/x-python",
   "name": "python",
   "nbconvert_exporter": "python",
   "pygments_lexer": "ipython3",
   "version": "3.9.12"
  }
 },
 "nbformat": 4,
 "nbformat_minor": 5
}
