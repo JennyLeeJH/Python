{
 "cells": [
  {
   "cell_type": "markdown",
   "id": "a2ba77ba-f14e-4c63-a10b-e188bebf00f7",
   "metadata": {},
   "source": [
    "## 집합 자료형 (set)"
   ]
  },
  {
   "cell_type": "code",
   "execution_count": 1,
   "id": "9cc71eaa-6cfd-4a33-9a1c-963820f06cab",
   "metadata": {},
   "outputs": [],
   "source": [
    "a = [1,2,1,4,3,1,2,3,2,1,3,6]"
   ]
  },
  {
   "cell_type": "code",
   "execution_count": 3,
   "id": "58435f08-2b17-422d-b45d-7a9de759dfeb",
   "metadata": {},
   "outputs": [
    {
     "data": {
      "text/plain": [
       "{1, 2, 3, 4, 6}"
      ]
     },
     "execution_count": 3,
     "metadata": {},
     "output_type": "execute_result"
    }
   ],
   "source": [
    "set(a)\n",
    "#중복으로 되어 있는 값은 지운다. 중복되지 않는 key 값들만!"
   ]
  },
  {
   "cell_type": "markdown",
   "id": "58c56439-a71e-4e12-b359-9ffad26a60ab",
   "metadata": {},
   "source": [
    "## 불 자료형 (bool)"
   ]
  },
  {
   "cell_type": "raw",
   "id": "56a19a55-5775-43cf-b26e-468413941194",
   "metadata": {},
   "source": [
    "내용이 있으면 참으로, 내용이 없으면 거짓으로 구분된다.\n",
    "숫자값일 땐 0과 None은 거짓, 그 외의 숫자들은 참으로 구분\n",
    "whiled을 사용하여 pop을 print할 경우 [ ] 비어있는 값으로 최종 출력되어 거짓으로 된다.\n",
    "\n",
    "\n",
    "++ 자료형의 값을 저장하... (보기!!!!)"
   ]
  },
  {
   "cell_type": "markdown",
   "id": "bb9acc15-afa2-4bf8-96fc-f5db27bba8ce",
   "metadata": {},
   "source": [
    "# 함수"
   ]
  },
  {
   "cell_type": "raw",
   "id": "46fe6a88-299b-484c-a868-98cd15f322c9",
   "metadata": {},
   "source": [
    "기능을 모아놓은 단위라고 생각하면된다.\n",
    "똑같은 내뇽을 반복해서 사용하거나 자주 사용하는, 쓰기 불편한 것들을 함수로 묶어서 쓰기 편하게 사용하게 해준다."
   ]
  },
  {
   "cell_type": "raw",
   "id": "7dd4cdb0-4546-4b82-a27f-9f6ac630c2a9",
   "metadata": {},
   "source": [
    "함수의 구조\n",
    "def 함수명(매개변수):\n",
    "    #함수에 포함되어있는 것\n",
    "    <수행할 문장1>\n",
    "    <수행할 문장2>\n",
    "    \n",
    "매개변수는 사용 범위가 해당 함수 안에서 사용가능하다.\n",
    "들어오는 값은 있는데, 나가는 값이 없는\n",
    "들어오는 값은 없는데, 나가는 값은 있는\n",
    "둘다 없거나, 있거나 4가지 유형으로 나뉜다."
   ]
  },
  {
   "cell_type": "code",
   "execution_count": 4,
   "id": "c4f34582-0711-4d17-b04e-3b622831812f",
   "metadata": {},
   "outputs": [],
   "source": [
    "def add(a,b):\n",
    "    return a+b"
   ]
  },
  {
   "cell_type": "code",
   "execution_count": 6,
   "id": "911cc2ec-578a-4b23-a137-15c979ecdd54",
   "metadata": {},
   "outputs": [
    {
     "data": {
      "text/plain": [
       "3"
      ]
     },
     "execution_count": 6,
     "metadata": {},
     "output_type": "execute_result"
    }
   ],
   "source": [
    "add(1,2) #2개의 매개변수를 선언했기에 1개만 사용할 경우 에러가 뜬다."
   ]
  },
  {
   "cell_type": "code",
   "execution_count": 8,
   "id": "fed6fa00-f82e-40aa-a637-a690dc9c0037",
   "metadata": {},
   "outputs": [],
   "source": [
    "def add2(a,b):\n",
    "    return a,b"
   ]
  },
  {
   "cell_type": "code",
   "execution_count": 9,
   "id": "517eefc2-1946-40fb-99a7-ece94d032cd3",
   "metadata": {},
   "outputs": [
    {
     "data": {
      "text/plain": [
       "(1, 2)"
      ]
     },
     "execution_count": 9,
     "metadata": {},
     "output_type": "execute_result"
    }
   ],
   "source": [
    "add2(1,2) #파이썬은 여러개를 내보내면 자기가 알아서 묶어서 실제 나가는 값은 하나다. 결과값으로 튜플로 묶어 데이터를 하나로 리턴을 시킨다. 자동으로 묶어서 처리를 해주기에 쓰는 입장에서 편하다. \n",
    "# 기본적인 리턴값은 하나이지만, 여러개를 작업 할 경우 묶어서 내보내준다."
   ]
  },
  {
   "cell_type": "code",
   "execution_count": null,
   "id": "858a18ed-1223-443b-a1d4-fb4e616b489f",
   "metadata": {},
   "outputs": [],
   "source": []
  }
 ],
 "metadata": {
  "kernelspec": {
   "display_name": "Python 3 (ipykernel)",
   "language": "python",
   "name": "python3"
  },
  "language_info": {
   "codemirror_mode": {
    "name": "ipython",
    "version": 3
   },
   "file_extension": ".py",
   "mimetype": "text/x-python",
   "name": "python",
   "nbconvert_exporter": "python",
   "pygments_lexer": "ipython3",
   "version": "3.9.12"
  }
 },
 "nbformat": 4,
 "nbformat_minor": 5
}
