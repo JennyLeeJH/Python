{
 "cells": [
  {
   "cell_type": "markdown",
   "id": "a8e10055-da91-4394-acd2-beea55275681",
   "metadata": {},
   "source": [
    "# 클래스"
   ]
  },
  {
   "cell_type": "raw",
   "id": "800c73ef-27cd-4216-8850-e116f54f6ce2",
   "metadata": {},
   "source": [
    "클래스는 객체를 만들 수 있는 설계도이다. \n",
    "메써드, 속성값은 뭐가 필요한지 정의해놓은 것.\n",
    "만들어서 쓰고자 하는 무언가의 기본 범위 가이드라인이라고 생각하면 된다.\n",
    "클래스를 이용해서 객체를 만든다.\n",
    "\n",
    "객체와 인스턴스 차이\n",
    "클래스로 만든 객체를 해당 클래스의 인스턴스라고도 한다. "
   ]
  },
  {
   "cell_type": "markdown",
   "id": "887ccf71-0040-4444-8fbe-445568c4187a",
   "metadata": {},
   "source": [
    "## 클래스 구조 만들기 - 사칙연산"
   ]
  },
  {
   "cell_type": "code",
   "execution_count": 9,
   "id": "f8e7f40e-8e14-45cd-9e6d-c1990000ddd0",
   "metadata": {},
   "outputs": [],
   "source": [
    "# 기본 구조\n",
    "class FourCal:\n",
    "    pass"
   ]
  },
  {
   "cell_type": "code",
   "execution_count": 2,
   "id": "4ee662ad-f611-4d0e-97f0-ad042e5d80c9",
   "metadata": {},
   "outputs": [],
   "source": [
    "a = FourCal()"
   ]
  },
  {
   "cell_type": "code",
   "execution_count": 3,
   "id": "eb0ac73b-2363-42ed-aad9-9bf80e592b4c",
   "metadata": {},
   "outputs": [
    {
     "data": {
      "text/plain": [
       "__main__.FourCal"
      ]
     },
     "execution_count": 3,
     "metadata": {},
     "output_type": "execute_result"
    }
   ],
   "source": [
    "type(a)"
   ]
  },
  {
   "cell_type": "code",
   "execution_count": 10,
   "id": "33d156ed-cce0-41c7-b1a0-63e674ee57ed",
   "metadata": {},
   "outputs": [],
   "source": [
    "# 메써드 정의\n",
    "class FourCal:\n",
    "    def setdata(self,first,second): # first, second는 매개변수, 지역변수\n",
    "        self.first = first # self. 이 붙었기에 인스턴스 변수 이다. 인스턴스 클래스는 self 키워드를 사용해서 쓴다.\n",
    "        self.second = second"
   ]
  },
  {
   "cell_type": "code",
   "execution_count": 5,
   "id": "cb4f0719-5ac0-4c62-a17e-078b8b95087c",
   "metadata": {},
   "outputs": [],
   "source": [
    "a = FourCal()"
   ]
  },
  {
   "cell_type": "code",
   "execution_count": 6,
   "id": "8eb90abd-9a6d-4e78-9279-cd35bdfe8cc4",
   "metadata": {},
   "outputs": [
    {
     "data": {
      "text/plain": [
       "__main__.FourCal"
      ]
     },
     "execution_count": 6,
     "metadata": {},
     "output_type": "execute_result"
    }
   ],
   "source": [
    "type(a)"
   ]
  },
  {
   "cell_type": "code",
   "execution_count": 14,
   "id": "c7587a9b-9c60-4045-a216-06de286c1b3f",
   "metadata": {},
   "outputs": [],
   "source": [
    "a.setdata(2,5) # a는 주소값을 가지고 있고 self로 들어간다."
   ]
  },
  {
   "cell_type": "code",
   "execution_count": 13,
   "id": "d661cb2c-68de-4e79-8ea1-ade83b73617b",
   "metadata": {},
   "outputs": [
    {
     "name": "stdout",
     "output_type": "stream",
     "text": [
      "2\n"
     ]
    },
    {
     "data": {
      "text/plain": [
       "5"
      ]
     },
     "execution_count": 13,
     "metadata": {},
     "output_type": "execute_result"
    }
   ],
   "source": [
    "print(a.first)\n",
    "a.second"
   ]
  },
  {
   "cell_type": "code",
   "execution_count": 15,
   "id": "d19d46be-73e0-461f-afd0-fa12963e7c27",
   "metadata": {},
   "outputs": [],
   "source": [
    "a.first = 6"
   ]
  },
  {
   "cell_type": "code",
   "execution_count": 16,
   "id": "ac60e81f-53dc-4abc-aa7c-12e76d7a4286",
   "metadata": {},
   "outputs": [
    {
     "data": {
      "text/plain": [
       "6"
      ]
     },
     "execution_count": 16,
     "metadata": {},
     "output_type": "execute_result"
    }
   ],
   "source": [
    "a.first"
   ]
  },
  {
   "cell_type": "code",
   "execution_count": 17,
   "id": "be3310b1-2816-4ecd-a9ad-adcd25d6e085",
   "metadata": {},
   "outputs": [],
   "source": [
    "b = FourCal()"
   ]
  },
  {
   "cell_type": "code",
   "execution_count": 18,
   "id": "4bf21232-8521-4be9-b19b-f365ec66a340",
   "metadata": {},
   "outputs": [
    {
     "ename": "AttributeError",
     "evalue": "'FourCal' object has no attribute 'first'",
     "output_type": "error",
     "traceback": [
      "\u001b[0;31m---------------------------------------------------------------------------\u001b[0m",
      "\u001b[0;31mAttributeError\u001b[0m                            Traceback (most recent call last)",
      "Input \u001b[0;32mIn [18]\u001b[0m, in \u001b[0;36m<cell line: 1>\u001b[0;34m()\u001b[0m\n\u001b[0;32m----> 1\u001b[0m \u001b[43mb\u001b[49m\u001b[38;5;241;43m.\u001b[39;49m\u001b[43mfirst\u001b[49m\n",
      "\u001b[0;31mAttributeError\u001b[0m: 'FourCal' object has no attribute 'first'"
     ]
    }
   ],
   "source": [
    "b.first #실행이 안되어 오류 발생"
   ]
  },
  {
   "cell_type": "code",
   "execution_count": 19,
   "id": "1577d641-3266-49c7-8f9a-762421f5ff10",
   "metadata": {},
   "outputs": [
    {
     "data": {
      "text/plain": [
       "9"
      ]
     },
     "execution_count": 19,
     "metadata": {},
     "output_type": "execute_result"
    }
   ],
   "source": [
    "b.setdata(9,9)\n",
    "b.first"
   ]
  },
  {
   "cell_type": "code",
   "execution_count": 20,
   "id": "f0cbf86d-1c99-49df-8b51-788f03bac4ef",
   "metadata": {},
   "outputs": [
    {
     "data": {
      "text/plain": [
       "6"
      ]
     },
     "execution_count": 20,
     "metadata": {},
     "output_type": "execute_result"
    }
   ],
   "source": [
    "a.first"
   ]
  },
  {
   "cell_type": "markdown",
   "id": "ffdcc0af-da95-47ab-9169-02c0ad5f5dfa",
   "metadata": {},
   "source": [
    "### 더하기 기능 만들기"
   ]
  },
  {
   "cell_type": "code",
   "execution_count": 67,
   "id": "20d5fb38-125b-4bea-9462-301c1f08234d",
   "metadata": {},
   "outputs": [],
   "source": [
    "class FourCal:\n",
    "    def setdata(self,first,second): # first, second는 매개변수, 지역변수\n",
    "        self.first = first # self. 이 붙었기에 인스턴스 변수 이다. 인스턴스 클래스는 self 키워드를 사용해서 쓴다.\n",
    "        self.second = second\n",
    "    \n",
    "    def add(self):\n",
    "        result = self.first + self.second\n",
    "        return result #return을 해줘야 함수 바깥에서도 사용할 수 있다."
   ]
  },
  {
   "cell_type": "code",
   "execution_count": 68,
   "id": "f4b2ce87-2edb-4f6e-b213-3e9ce56cf2f5",
   "metadata": {},
   "outputs": [],
   "source": [
    "a = FourCal()"
   ]
  },
  {
   "cell_type": "code",
   "execution_count": 69,
   "id": "49647fb4-29ed-4cc3-9c9e-ce35ffc65dc1",
   "metadata": {},
   "outputs": [
    {
     "data": {
      "text/plain": [
       "<__main__.FourCal at 0x7fdfb2973820>"
      ]
     },
     "execution_count": 69,
     "metadata": {},
     "output_type": "execute_result"
    }
   ],
   "source": [
    "a"
   ]
  },
  {
   "cell_type": "code",
   "execution_count": 70,
   "id": "d8a7b250-1fe9-44de-81ed-93438d90507f",
   "metadata": {},
   "outputs": [],
   "source": [
    "a.setdata(4,8)"
   ]
  },
  {
   "cell_type": "code",
   "execution_count": 71,
   "id": "ab0e73de-42ce-4852-91e7-b13ff49fcea0",
   "metadata": {},
   "outputs": [],
   "source": [
    "result = a.add()"
   ]
  },
  {
   "cell_type": "markdown",
   "id": "e44c9cfc-f88d-4cfe-9d28-58b80f9fab12",
   "metadata": {},
   "source": [
    "## 생성자"
   ]
  },
  {
   "cell_type": "raw",
   "id": "5063ad30-8247-4427-9c05-c60ae9dd9429",
   "metadata": {},
   "source": [
    "생성자 = 메써드 , 객체가 생성될 때 동작하는 메써드라고 한다.\n",
    "동작하는 시점은 객체 생성 시에 동작한다.\n"
   ]
  },
  {
   "cell_type": "code",
   "execution_count": 76,
   "id": "6a5e4a8a-f702-4ccc-951f-9d47e081cfaf",
   "metadata": {},
   "outputs": [],
   "source": [
    "class FourCal:\n",
    "    def setdata(self,first,second): # first, second는 매개변수, 지역변수\n",
    "        self.first = first # self. 이 붙었기에 인스턴스 변수 이다. 인스턴스 클래스는 self 키워드를 사용해서 쓴다.\n",
    "        self.second = second\n",
    "    \n",
    "    def add(self):\n",
    "        result = self.first + self.second\n",
    "        return result\n",
    "    \n",
    "    def __init__(self, first=0, second=0):\n",
    "        self.first = first\n",
    "        self.second = second"
   ]
  },
  {
   "cell_type": "code",
   "execution_count": 77,
   "id": "91e970ef-f041-4e19-8722-2e721a2c4adc",
   "metadata": {},
   "outputs": [],
   "source": [
    "a = FourCal(0,0)"
   ]
  },
  {
   "cell_type": "code",
   "execution_count": 78,
   "id": "0866356f-bfbb-4686-9f5c-3ff2d7dcfc34",
   "metadata": {},
   "outputs": [
    {
     "name": "stdout",
     "output_type": "stream",
     "text": [
      "0\n"
     ]
    },
    {
     "data": {
      "text/plain": [
       "0"
      ]
     },
     "execution_count": 78,
     "metadata": {},
     "output_type": "execute_result"
    }
   ],
   "source": [
    "print(a.first)\n",
    "a.second"
   ]
  },
  {
   "cell_type": "code",
   "execution_count": 79,
   "id": "cfb18088-cb2a-420d-9988-4db4ee43c3b9",
   "metadata": {},
   "outputs": [],
   "source": [
    "b = FourCal()"
   ]
  },
  {
   "cell_type": "code",
   "execution_count": 80,
   "id": "1fc26219-1433-4105-828a-6159d5e58861",
   "metadata": {},
   "outputs": [
    {
     "data": {
      "text/plain": [
       "0"
      ]
     },
     "execution_count": 80,
     "metadata": {},
     "output_type": "execute_result"
    }
   ],
   "source": [
    "b.first"
   ]
  },
  {
   "cell_type": "code",
   "execution_count": 81,
   "id": "c67258bf-b8b5-4526-b7ba-171fca27337c",
   "metadata": {},
   "outputs": [
    {
     "name": "stdout",
     "output_type": "stream",
     "text": [
      "5\n"
     ]
    },
    {
     "data": {
      "text/plain": [
       "0"
      ]
     },
     "execution_count": 81,
     "metadata": {},
     "output_type": "execute_result"
    }
   ],
   "source": [
    "c = FourCal(5)\n",
    "print(c.first)\n",
    "c.second"
   ]
  },
  {
   "cell_type": "code",
   "execution_count": 82,
   "id": "263a3215-e45b-4bf7-9475-160b946e27b7",
   "metadata": {},
   "outputs": [
    {
     "name": "stdout",
     "output_type": "stream",
     "text": [
      "0\n"
     ]
    },
    {
     "data": {
      "text/plain": [
       "7"
      ]
     },
     "execution_count": 82,
     "metadata": {},
     "output_type": "execute_result"
    }
   ],
   "source": [
    "d = FourCal(second=7)\n",
    "print(d.first)\n",
    "d.second"
   ]
  },
  {
   "cell_type": "markdown",
   "id": "f701673f-ed6f-40e1-a10e-2e0bd2515805",
   "metadata": {},
   "source": [
    "## 클래스의 상속"
   ]
  },
  {
   "cell_type": "raw",
   "id": "321f257b-d41a-4656-93a5-897ffcb0253e",
   "metadata": {},
   "source": [
    "파이썬에서는 다중 상속이 가능하다"
   ]
  },
  {
   "cell_type": "code",
   "execution_count": 83,
   "id": "f3d78959-839b-434a-8547-9d771e74d482",
   "metadata": {},
   "outputs": [],
   "source": [
    "class PrintFourCal:\n",
    "    def data_print(self):\n",
    "        print('data')\n",
    "        \n",
    "class MoreFourCal(FourCal,PrintFourCal):\n",
    "    pass"
   ]
  },
  {
   "cell_type": "code",
   "execution_count": 84,
   "id": "ece73ca2-1010-4598-939b-e99568dc6b83",
   "metadata": {},
   "outputs": [],
   "source": [
    "call = MoreFourCal()"
   ]
  },
  {
   "cell_type": "code",
   "execution_count": 85,
   "id": "865a8230-e1ce-4d8a-b3b2-9f320d73de6c",
   "metadata": {},
   "outputs": [
    {
     "name": "stdout",
     "output_type": "stream",
     "text": [
      "0\n"
     ]
    },
    {
     "data": {
      "text/plain": [
       "0"
      ]
     },
     "execution_count": 85,
     "metadata": {},
     "output_type": "execute_result"
    }
   ],
   "source": [
    "print(call.first)\n",
    "call.second"
   ]
  },
  {
   "cell_type": "code",
   "execution_count": 86,
   "id": "df4c2505-5fc2-432c-ae20-ca9d9129d1fc",
   "metadata": {},
   "outputs": [
    {
     "name": "stdout",
     "output_type": "stream",
     "text": [
      "data\n"
     ]
    }
   ],
   "source": [
    "call.data_print()"
   ]
  },
  {
   "cell_type": "markdown",
   "id": "eb21d07f-f1e6-4a0f-ad5a-c8c7df8dbce9",
   "metadata": {},
   "source": [
    "## 메서드 오버라이딩"
   ]
  },
  {
   "cell_type": "raw",
   "id": "9e6b14bc-686d-4a50-b5a8-fdd887907501",
   "metadata": {},
   "source": [
    "부모한테 상속 받은 것을 재정의해서 사용하는 것"
   ]
  },
  {
   "cell_type": "code",
   "execution_count": 87,
   "id": "4ead10f9-412f-42ae-8bab-03284cba486b",
   "metadata": {},
   "outputs": [],
   "source": [
    "class OverCal(FourCal):\n",
    "    def add(self):\n",
    "        print('add')\n",
    "        return self.first + self.second"
   ]
  },
  {
   "cell_type": "code",
   "execution_count": 88,
   "id": "5ce9a33d-f14b-49fc-9962-fc267aaa22e6",
   "metadata": {},
   "outputs": [],
   "source": [
    "c = OverCal()"
   ]
  },
  {
   "cell_type": "code",
   "execution_count": 89,
   "id": "a6891b4c-942f-4c70-bf5d-293c7dbdef80",
   "metadata": {},
   "outputs": [
    {
     "name": "stdout",
     "output_type": "stream",
     "text": [
      "add\n"
     ]
    },
    {
     "data": {
      "text/plain": [
       "0"
      ]
     },
     "execution_count": 89,
     "metadata": {},
     "output_type": "execute_result"
    }
   ],
   "source": [
    "c.add()"
   ]
  },
  {
   "cell_type": "code",
   "execution_count": 93,
   "id": "49ec7c10-a278-4761-a51e-7d722a1eefd1",
   "metadata": {},
   "outputs": [],
   "source": [
    "class OverCal(FourCal): #이름만 같으면 뒤쪽 매개변수 목록은 굳이 따지지 않는다.\n",
    "    lastname = '김'\n",
    "    def add(self,first=9,second=9):\n",
    "        print('add')\n",
    "        self.first = first\n",
    "        self.second = second\n",
    "        return self.first + self.second"
   ]
  },
  {
   "cell_type": "code",
   "execution_count": 94,
   "id": "f25724eb-26b1-4a37-96fe-05204da412dc",
   "metadata": {},
   "outputs": [],
   "source": [
    "c = OverCal()"
   ]
  },
  {
   "cell_type": "code",
   "execution_count": 95,
   "id": "3e11ab4e-5cc1-4f6b-a940-b0a49df2a0f5",
   "metadata": {},
   "outputs": [
    {
     "name": "stdout",
     "output_type": "stream",
     "text": [
      "add\n"
     ]
    },
    {
     "data": {
      "text/plain": [
       "18"
      ]
     },
     "execution_count": 95,
     "metadata": {},
     "output_type": "execute_result"
    }
   ],
   "source": [
    "c.add()"
   ]
  },
  {
   "cell_type": "code",
   "execution_count": 100,
   "id": "e06bce9f-615e-437f-b6ee-cecb4cce4e2b",
   "metadata": {},
   "outputs": [
    {
     "data": {
      "text/plain": [
       "'김'"
      ]
     },
     "execution_count": 100,
     "metadata": {},
     "output_type": "execute_result"
    }
   ],
   "source": [
    "OverCal.lastname"
   ]
  },
  {
   "cell_type": "code",
   "execution_count": 101,
   "id": "bd17903c-63bd-440c-96f5-1ca5a5c352ed",
   "metadata": {},
   "outputs": [
    {
     "data": {
      "text/plain": [
       "'김'"
      ]
     },
     "execution_count": 101,
     "metadata": {},
     "output_type": "execute_result"
    }
   ],
   "source": [
    "c.lastname"
   ]
  },
  {
   "cell_type": "code",
   "execution_count": 102,
   "id": "9324a6c9-79ab-4ad3-8356-9c7cad0c72eb",
   "metadata": {},
   "outputs": [],
   "source": [
    "c1 = OverCal()"
   ]
  },
  {
   "cell_type": "code",
   "execution_count": 103,
   "id": "0be4a5a9-f370-41a7-94ef-7f0ddaab0b86",
   "metadata": {},
   "outputs": [
    {
     "data": {
      "text/plain": [
       "'김'"
      ]
     },
     "execution_count": 103,
     "metadata": {},
     "output_type": "execute_result"
    }
   ],
   "source": [
    "c1.lastname"
   ]
  },
  {
   "cell_type": "code",
   "execution_count": 104,
   "id": "933b2707-10f2-404b-8ea3-79689b326f7b",
   "metadata": {},
   "outputs": [],
   "source": [
    "OverCal.lastname = '박'"
   ]
  },
  {
   "cell_type": "code",
   "execution_count": 105,
   "id": "79fd0df2-6377-45f0-a495-73e128e550ba",
   "metadata": {},
   "outputs": [
    {
     "data": {
      "text/plain": [
       "'박'"
      ]
     },
     "execution_count": 105,
     "metadata": {},
     "output_type": "execute_result"
    }
   ],
   "source": [
    "c1.lastname"
   ]
  },
  {
   "cell_type": "code",
   "execution_count": 106,
   "id": "510295a3-737b-4840-b7d6-bc816479e511",
   "metadata": {},
   "outputs": [
    {
     "data": {
      "text/plain": [
       "'박'"
      ]
     },
     "execution_count": 106,
     "metadata": {},
     "output_type": "execute_result"
    }
   ],
   "source": [
    "c.lastname"
   ]
  },
  {
   "cell_type": "markdown",
   "id": "6c593ee9-556b-49ae-9254-44e9225ca78d",
   "metadata": {},
   "source": [
    "# 모듈"
   ]
  },
  {
   "cell_type": "code",
   "execution_count": null,
   "id": "04756384-f15f-448b-b3d7-fd02fc2bca06",
   "metadata": {},
   "outputs": [],
   "source": []
  },
  {
   "cell_type": "markdown",
   "id": "f210ad43-605a-4167-95e5-d65a3002fbc3",
   "metadata": {},
   "source": [
    "# 패키지"
   ]
  },
  {
   "cell_type": "code",
   "execution_count": 107,
   "id": "a686e653-d169-4b11-a3f6-729755d6ca2f",
   "metadata": {},
   "outputs": [],
   "source": [
    "# 파이썬 3.3. 이후 버전 부터는 .py 없어도 무방하다. 하지만 그 전 버전에는 무조건 적어줘야 함!!!\n"
   ]
  },
  {
   "cell_type": "markdown",
   "id": "d40f2604-5307-41d3-bb5d-f6bd87d8a873",
   "metadata": {},
   "source": [
    "# 예외처리"
   ]
  },
  {
   "cell_type": "code",
   "execution_count": 108,
   "id": "e0f8ecc5-75ea-4c5c-a91e-cec5a2495f6a",
   "metadata": {},
   "outputs": [
    {
     "data": {
      "text/plain": [
       "140599244286320"
      ]
     },
     "execution_count": 108,
     "metadata": {},
     "output_type": "execute_result"
    }
   ],
   "source": [
    "a = 3\n",
    "id(3)"
   ]
  },
  {
   "cell_type": "code",
   "execution_count": null,
   "id": "3ccf6982-4d1f-498f-9d83-1f6ec4580bf0",
   "metadata": {},
   "outputs": [],
   "source": []
  }
 ],
 "metadata": {
  "kernelspec": {
   "display_name": "Python 3 (ipykernel)",
   "language": "python",
   "name": "python3"
  },
  "language_info": {
   "codemirror_mode": {
    "name": "ipython",
    "version": 3
   },
   "file_extension": ".py",
   "mimetype": "text/x-python",
   "name": "python",
   "nbconvert_exporter": "python",
   "pygments_lexer": "ipython3",
   "version": "3.9.12"
  }
 },
 "nbformat": 4,
 "nbformat_minor": 5
}
