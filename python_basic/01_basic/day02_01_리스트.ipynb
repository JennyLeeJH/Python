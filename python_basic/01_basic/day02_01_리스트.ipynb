{
 "cells": [
  {
   "cell_type": "markdown",
   "id": "65a50eb1-2114-465d-b675-6fbc9e0f0866",
   "metadata": {},
   "source": [
    "# 리스트"
   ]
  },
  {
   "cell_type": "code",
   "execution_count": 8,
   "id": "9d97c4b8-9ef0-4c84-8c1f-6b3e621755fc",
   "metadata": {},
   "outputs": [],
   "source": [
    "#if와 같이 쓸 경우 비어 있는 값이면 false, 아니면 true\n",
    "#리스트 안에는 어떠한 자료형도 포함시킬 수 있다. 즉, 타입이 달라도 상관 없다\n",
    "#비어있는 리스트는 a = list()로 생성할 수도 있다."
   ]
  },
  {
   "cell_type": "markdown",
   "id": "31db9001-e1ee-4fa7-a164-7bca813d3b42",
   "metadata": {},
   "source": [
    "## 인덱싱과 슬라이싱"
   ]
  },
  {
   "cell_type": "code",
   "execution_count": 3,
   "id": "72e99527-c996-4a78-9819-1ba3f0f6c3c8",
   "metadata": {},
   "outputs": [],
   "source": [
    "odd = [1,3,5,7,9]"
   ]
  },
  {
   "cell_type": "code",
   "execution_count": 4,
   "id": "9e09ff7c-a2b3-4c7f-b695-e8c20d811cfe",
   "metadata": {},
   "outputs": [
    {
     "data": {
      "text/plain": [
       "[1, 3, 5, 7, 9]"
      ]
     },
     "execution_count": 4,
     "metadata": {},
     "output_type": "execute_result"
    }
   ],
   "source": [
    "odd"
   ]
  },
  {
   "cell_type": "code",
   "execution_count": 5,
   "id": "806ac87e-51f2-4419-80cf-474c7b748d5d",
   "metadata": {},
   "outputs": [
    {
     "data": {
      "text/plain": [
       "1"
      ]
     },
     "execution_count": 5,
     "metadata": {},
     "output_type": "execute_result"
    }
   ],
   "source": [
    "odd[0]"
   ]
  },
  {
   "cell_type": "code",
   "execution_count": 7,
   "id": "6e3d29f3-0779-498a-b10f-71b035604723",
   "metadata": {},
   "outputs": [
    {
     "name": "stdout",
     "output_type": "stream",
     "text": [
      "1\n",
      "3\n",
      "5\n",
      "7\n",
      "9\n"
     ]
    }
   ],
   "source": [
    "for i in odd:\n",
    "    print(i) #for문과 같이 사용하면 순차적으로 접근이 가능하다"
   ]
  },
  {
   "cell_type": "code",
   "execution_count": 10,
   "id": "bdaf352c-dcd4-4bdb-9428-13a44d2b1567",
   "metadata": {},
   "outputs": [],
   "source": [
    "a = [1,2,3,['a','b','c']]"
   ]
  },
  {
   "cell_type": "code",
   "execution_count": 12,
   "id": "0c48d59f-7647-4f6c-869c-26d82fa00312",
   "metadata": {},
   "outputs": [
    {
     "data": {
      "text/plain": [
       "'b'"
      ]
     },
     "execution_count": 12,
     "metadata": {},
     "output_type": "execute_result"
    }
   ],
   "source": [
    "a[3][1] #대괄호 안에 대괄호"
   ]
  },
  {
   "cell_type": "code",
   "execution_count": 14,
   "id": "8e29e3aa-00af-40bb-a0d6-d219f46b93d3",
   "metadata": {},
   "outputs": [
    {
     "data": {
      "text/plain": [
       "[2, 3]"
      ]
     },
     "execution_count": 14,
     "metadata": {},
     "output_type": "execute_result"
    }
   ],
   "source": [
    "a[1:3]"
   ]
  },
  {
   "cell_type": "markdown",
   "id": "d169d23f-2dfd-4aa0-b7d6-0f7495f1d19d",
   "metadata": {},
   "source": [
    "## 리스트 연산하기"
   ]
  },
  {
   "cell_type": "markdown",
   "id": "be968b60-90b7-4264-b830-04b1daecfb8d",
   "metadata": {},
   "source": [
    "### 리스트 더하기, 곱하기"
   ]
  },
  {
   "cell_type": "code",
   "execution_count": 18,
   "id": "08d7ee35-7f5e-4535-a596-0c61a309c3ed",
   "metadata": {},
   "outputs": [],
   "source": [
    "# 리스트 끼리 지원한다\n",
    "# 리스트 길이를 구할 때는 대괄호 안에 대괄호는 하나로 묶어서 생각 한다."
   ]
  },
  {
   "cell_type": "code",
   "execution_count": null,
   "id": "523d38e5-213c-4ec3-8028-f65b266f6ccb",
   "metadata": {},
   "outputs": [],
   "source": []
  },
  {
   "cell_type": "markdown",
   "id": "a58456bd-3544-4978-99e7-7760f36e87ef",
   "metadata": {},
   "source": [
    "## 리스트 수정과 삭제"
   ]
  },
  {
   "cell_type": "code",
   "execution_count": 19,
   "id": "a080d572-060f-4f99-b9a0-4eeaba1fc9b6",
   "metadata": {},
   "outputs": [],
   "source": [
    "#a = [1,2,3,['a','b','c']] 에서 안쪽 대괄호를 문자열로 바꾸고 싶을 경우\n",
    "a[3] = 'abc'"
   ]
  },
  {
   "cell_type": "code",
   "execution_count": 20,
   "id": "e26817b1-ef0d-4172-9f56-a27af75dfb40",
   "metadata": {},
   "outputs": [
    {
     "data": {
      "text/plain": [
       "[1, 2, 3, 'abc']"
      ]
     },
     "execution_count": 20,
     "metadata": {},
     "output_type": "execute_result"
    }
   ],
   "source": [
    "a"
   ]
  },
  {
   "cell_type": "code",
   "execution_count": 24,
   "id": "fa264df3-1f87-4534-85d7-ae9f7d8fcbde",
   "metadata": {},
   "outputs": [],
   "source": [
    "# 삭제 , del은 빌트인 함수\n",
    "# del의 경우 괄호가 없는 이유는 초창기 파이썬에서 활용될 때 괄호 없이 그냥 사용하던게 그대로 사용되어 와서 그런 것임!\n",
    "del a[1]"
   ]
  },
  {
   "cell_type": "code",
   "execution_count": 22,
   "id": "3e8d0e4e-0fc3-4a9b-a5db-a5be47fdfda8",
   "metadata": {},
   "outputs": [
    {
     "data": {
      "text/plain": [
       "[1, 3, 'abc']"
      ]
     },
     "execution_count": 22,
     "metadata": {},
     "output_type": "execute_result"
    }
   ],
   "source": [
    "a"
   ]
  },
  {
   "cell_type": "code",
   "execution_count": 30,
   "id": "094dccaa-4de5-48f4-bd1d-a9aea6618503",
   "metadata": {},
   "outputs": [],
   "source": [
    "# a 전체 삭제할 경우 -> del a\n",
    "# 슬라이싱 기법으로 [4:] 처럼 여러개를 한꺼번에 삭제할 수도 있다.\n",
    "# 리스트의 경우 del 말고도 다른걸로도 삭제함수 사용 가능하다"
   ]
  },
  {
   "cell_type": "markdown",
   "id": "a0e397cc-74da-4d5f-bbf0-b2a3bbc54738",
   "metadata": {},
   "source": [
    "## 리스트 관련 함수들"
   ]
  },
  {
   "cell_type": "markdown",
   "id": "1abef30d-cb47-4980-b7db-a841594dc926",
   "metadata": {},
   "source": [
    "### 리스트에 요소 추가 append"
   ]
  },
  {
   "cell_type": "code",
   "execution_count": 31,
   "id": "2d37e26d-0fcd-4607-b45b-01b12468b404",
   "metadata": {},
   "outputs": [],
   "source": [
    "# 덧붙이다, 첨부하다 라는 뜻으로 append(x)를 사용하면 리스트의 맨 마지막에 x를 추가하는 함수\n",
    "a = [1,2,3]"
   ]
  },
  {
   "cell_type": "code",
   "execution_count": 32,
   "id": "7052bd1d-7289-4eab-b15b-b70a17ad0028",
   "metadata": {},
   "outputs": [],
   "source": [
    "a.append(4)"
   ]
  },
  {
   "cell_type": "code",
   "execution_count": 33,
   "id": "867ed7a3-ec43-4d96-86df-38c54a43b0e3",
   "metadata": {},
   "outputs": [
    {
     "data": {
      "text/plain": [
       "[1, 2, 3, 4]"
      ]
     },
     "execution_count": 33,
     "metadata": {},
     "output_type": "execute_result"
    }
   ],
   "source": [
    "a"
   ]
  },
  {
   "cell_type": "markdown",
   "id": "b8067521-f446-4207-b963-5733910442d5",
   "metadata": {},
   "source": [
    "### 리스트 정렬 sort"
   ]
  },
  {
   "cell_type": "code",
   "execution_count": 34,
   "id": "e3f89e1e-505b-4e13-8f94-272ec9454be6",
   "metadata": {},
   "outputs": [],
   "source": [
    "# 리스트의 요소를 순서대로 정렬해준다."
   ]
  },
  {
   "cell_type": "code",
   "execution_count": 35,
   "id": "9838d15a-5ce3-4515-a452-13e2bd2d7cd3",
   "metadata": {},
   "outputs": [],
   "source": [
    "a = [1,4,3,2]"
   ]
  },
  {
   "cell_type": "code",
   "execution_count": 36,
   "id": "eb706409-bf9f-4750-b64e-5eb021135f10",
   "metadata": {},
   "outputs": [
    {
     "data": {
      "text/plain": [
       "[1, 4, 3, 2]"
      ]
     },
     "execution_count": 36,
     "metadata": {},
     "output_type": "execute_result"
    }
   ],
   "source": [
    "a"
   ]
  },
  {
   "cell_type": "code",
   "execution_count": 37,
   "id": "51e08025-9ce8-4b1b-9224-36570b6814d6",
   "metadata": {},
   "outputs": [],
   "source": [
    "a.sort()"
   ]
  },
  {
   "cell_type": "code",
   "execution_count": 38,
   "id": "dec590bd-bbbd-4d25-ac05-5fd3cdc0445c",
   "metadata": {},
   "outputs": [
    {
     "data": {
      "text/plain": [
       "[1, 2, 3, 4]"
      ]
     },
     "execution_count": 38,
     "metadata": {},
     "output_type": "execute_result"
    }
   ],
   "source": [
    "a"
   ]
  },
  {
   "cell_type": "markdown",
   "id": "a93a230b-27ee-4cd8-820d-286a2f552bf8",
   "metadata": {},
   "source": [
    "### 리스트 뒤집기 reverse"
   ]
  },
  {
   "cell_type": "code",
   "execution_count": 39,
   "id": "a541e36b-cf8f-4720-92d3-4ee76b24468b",
   "metadata": {},
   "outputs": [],
   "source": [
    "# 정렬과 상관 없이 리스트를 역순으로 뒤집어 준다. 현재의 리스트를 그대로 거꾸로 뒤집는다."
   ]
  },
  {
   "cell_type": "code",
   "execution_count": 41,
   "id": "a5d7ba3d-df95-4182-9d62-1e469cec8785",
   "metadata": {},
   "outputs": [],
   "source": [
    "a = [1,4,3,2]\n",
    "a.reverse()"
   ]
  },
  {
   "cell_type": "code",
   "execution_count": 42,
   "id": "df1ed360-2172-40af-954e-7bd51a7662eb",
   "metadata": {},
   "outputs": [
    {
     "data": {
      "text/plain": [
       "[2, 3, 4, 1]"
      ]
     },
     "execution_count": 42,
     "metadata": {},
     "output_type": "execute_result"
    }
   ],
   "source": [
    "a"
   ]
  },
  {
   "cell_type": "markdown",
   "id": "4dd34fb6-e06a-4fb5-ae14-8e646b10dd02",
   "metadata": {},
   "source": [
    "### 리스트 위치 반환 index"
   ]
  },
  {
   "cell_type": "code",
   "execution_count": 43,
   "id": "4017ad3a-bf69-4ffe-9e9b-cd9a9f569835",
   "metadata": {},
   "outputs": [
    {
     "data": {
      "text/plain": [
       "3"
      ]
     },
     "execution_count": 43,
     "metadata": {},
     "output_type": "execute_result"
    }
   ],
   "source": [
    "a.index(1)"
   ]
  },
  {
   "cell_type": "markdown",
   "id": "bb374327-a19f-4fe5-98ea-8154a9e0524a",
   "metadata": {},
   "source": [
    "### 리스트의 요소 삽입 insert"
   ]
  },
  {
   "cell_type": "code",
   "execution_count": 49,
   "id": "cf12f595-cc31-4f50-b3fd-bdff2af95c71",
   "metadata": {},
   "outputs": [],
   "source": [
    "#insert(인덱스, 삽입을 원하는 것)\n",
    "a.insert(0,0) # a의 0번째에 0을 삽입"
   ]
  },
  {
   "cell_type": "code",
   "execution_count": 48,
   "id": "e0562dbe-fdd8-4d25-a086-e6100073b002",
   "metadata": {},
   "outputs": [
    {
     "data": {
      "text/plain": [
       "[0, 2, 3, 4, 1]"
      ]
     },
     "execution_count": 48,
     "metadata": {},
     "output_type": "execute_result"
    }
   ],
   "source": [
    "a"
   ]
  },
  {
   "cell_type": "markdown",
   "id": "4afb096d-23e7-4e80-9efa-069d927cfd86",
   "metadata": {},
   "source": [
    "### 리스트 요소 제거 remove"
   ]
  },
  {
   "cell_type": "code",
   "execution_count": 65,
   "id": "81d6bfe6-4ce0-48b0-b706-d4aa39cb7dd4",
   "metadata": {},
   "outputs": [],
   "source": [
    "# del a[2] 위치를 제거\n",
    "a.remove(1) # 위치는 중요하지 않고 값을 주고, 해당 값을 제거하는 것\n",
    "#여러 줄이 있을 경우 줄 분리를 원하면 원하는 줄에서 control + shift + -"
   ]
  },
  {
   "cell_type": "markdown",
   "id": "cf8843f1-2a88-45a1-9ce0-0970ef4fd2d4",
   "metadata": {},
   "source": [
    "### 리스트 요소 끄집어내기 pop"
   ]
  },
  {
   "cell_type": "code",
   "execution_count": 102,
   "id": "87708ada-d0e5-4213-9ab7-3c88ac430534",
   "metadata": {},
   "outputs": [
    {
     "data": {
      "text/plain": [
       "[2, 3, 4, 5]"
      ]
     },
     "execution_count": 102,
     "metadata": {},
     "output_type": "execute_result"
    }
   ],
   "source": [
    "a"
   ]
  },
  {
   "cell_type": "code",
   "execution_count": 103,
   "id": "6122c21e-1021-45fc-bd42-2c7a219c6918",
   "metadata": {},
   "outputs": [
    {
     "data": {
      "text/plain": [
       "5"
      ]
     },
     "execution_count": 103,
     "metadata": {},
     "output_type": "execute_result"
    }
   ],
   "source": [
    "a.pop() # 리스트의 맨 마지막 요소를 돌려주고 해당 요소는 삭제, 삭제 하기 전에 값을 리턴해주고 삭제"
   ]
  },
  {
   "cell_type": "code",
   "execution_count": 104,
   "id": "86f7a6bd-b7a8-4cf4-93c8-3202b6f78c53",
   "metadata": {},
   "outputs": [
    {
     "data": {
      "text/plain": [
       "[2, 3, 4]"
      ]
     },
     "execution_count": 104,
     "metadata": {},
     "output_type": "execute_result"
    }
   ],
   "source": [
    "a"
   ]
  },
  {
   "cell_type": "markdown",
   "id": "816e634e-199c-4aee-b42b-c8b0d9fb00cc",
   "metadata": {},
   "source": [
    "### 리스트에 포함된 요소 x의 개수 세기 count"
   ]
  },
  {
   "cell_type": "code",
   "execution_count": 57,
   "id": "d52803c7-9c49-4831-9668-4cb008cec213",
   "metadata": {},
   "outputs": [
    {
     "data": {
      "text/plain": [
       "2"
      ]
     },
     "execution_count": 57,
     "metadata": {},
     "output_type": "execute_result"
    }
   ],
   "source": [
    "a.count(0) # 데이터를 주고 해당 데이터가 몇 개가 있는지 출력"
   ]
  },
  {
   "cell_type": "markdown",
   "id": "6f8a151a-40a7-4d82-9e5a-61bfd1320595",
   "metadata": {},
   "source": [
    "### 리스트 확장 extend"
   ]
  },
  {
   "cell_type": "code",
   "execution_count": 60,
   "id": "322d4b5f-a392-40ec-bd82-36f57293dc3c",
   "metadata": {},
   "outputs": [],
   "source": [
    "a = [1,2,3]\n",
    "b = [4,5]\n",
    "a.extend(b) # a+b한 결과와 같다."
   ]
  },
  {
   "cell_type": "code",
   "execution_count": 59,
   "id": "508ea090-b4f0-4429-9dbe-88c3ee6ef200",
   "metadata": {},
   "outputs": [
    {
     "data": {
      "text/plain": [
       "[1, 2, 3, 4, 5]"
      ]
     },
     "execution_count": 59,
     "metadata": {},
     "output_type": "execute_result"
    }
   ],
   "source": [
    "a"
   ]
  },
  {
   "cell_type": "code",
   "execution_count": 61,
   "id": "1623b3c5-e728-4b07-a581-92c8f9cc32c3",
   "metadata": {},
   "outputs": [],
   "source": [
    "a.append(b)"
   ]
  },
  {
   "cell_type": "code",
   "execution_count": 62,
   "id": "7924fe05-539b-45ab-b7d8-f58488994e51",
   "metadata": {},
   "outputs": [
    {
     "data": {
      "text/plain": [
       "[1, 2, 3, 4, 5, [4, 5]]"
      ]
     },
     "execution_count": 62,
     "metadata": {},
     "output_type": "execute_result"
    }
   ],
   "source": [
    "a"
   ]
  },
  {
   "cell_type": "code",
   "execution_count": 63,
   "id": "c3632429-c581-45f5-94fe-60e4a26d9b1a",
   "metadata": {},
   "outputs": [],
   "source": [
    "# append 는 리스트 안에 리스트를 넣는다. \n",
    "# 반면에 extend는 리스트는 빼고 데이터 값만 집어 넣는다."
   ]
  },
  {
   "cell_type": "raw",
   "id": "3ae2278f-618d-4e5f-9df2-80b7fc68c94d",
   "metadata": {},
   "source": [
    "타자게임\n",
    "데이터 저장 : word = []\n",
    "word리스트에서 문제를 추출하여 제출하면 맞추는 게임\n",
    "- 한번 출제된 문제는 맞출 때 까지 반복\n",
    "- 전체 5문제 출제, 다 맞추면 종료"
   ]
  },
  {
   "cell_type": "code",
   "execution_count": 68,
   "id": "2ef64915-2bc1-4e78-a7d9-3d63978f15d7",
   "metadata": {},
   "outputs": [],
   "source": [
    "import random # random이라는 라이브러리를 불러 쓸거다. 라는 의미"
   ]
  },
  {
   "cell_type": "code",
   "execution_count": 94,
   "id": "1fdbad8f-c6b8-40c5-b54e-ae2b9ee566ae",
   "metadata": {},
   "outputs": [
    {
     "data": {
      "text/plain": [
       "'강아지'"
      ]
     },
     "execution_count": 94,
     "metadata": {},
     "output_type": "execute_result"
    }
   ],
   "source": [
    "word = ['고양이','강아지','북극페럿','사막여우']\n",
    "random.choice(word)"
   ]
  },
  {
   "cell_type": "code",
   "execution_count": 75,
   "id": "e92f941f-7427-471b-8b9a-37bd2f5e3764",
   "metadata": {
    "collapsed": true,
    "jupyter": {
     "outputs_hidden": true
    },
    "tags": []
   },
   "outputs": [
    {
     "name": "stdout",
     "output_type": "stream",
     "text": [
      "1번\n",
      "고양이\n"
     ]
    },
    {
     "name": "stdin",
     "output_type": "stream",
     "text": [
      ">>> sk\n"
     ]
    },
    {
     "name": "stdout",
     "output_type": "stream",
     "text": [
      "땡! 다시 도전!\n",
      "1번\n",
      "고양이\n"
     ]
    },
    {
     "name": "stdin",
     "output_type": "stream",
     "text": [
      ">>> ei\n"
     ]
    },
    {
     "name": "stdout",
     "output_type": "stream",
     "text": [
      "땡! 다시 도전!\n",
      "1번\n",
      "고양이\n"
     ]
    },
    {
     "name": "stdin",
     "output_type": "stream",
     "text": [
      ">>> 고양\n"
     ]
    },
    {
     "name": "stdout",
     "output_type": "stream",
     "text": [
      "땡! 다시 도전!\n",
      "1번\n",
      "고양이\n"
     ]
    },
    {
     "name": "stdin",
     "output_type": "stream",
     "text": [
      ">>> 고양이\n"
     ]
    },
    {
     "name": "stdout",
     "output_type": "stream",
     "text": [
      "정답입니다.\n",
      "2번\n",
      "dog\n"
     ]
    },
    {
     "name": "stdin",
     "output_type": "stream",
     "text": [
      ">>> dog\n"
     ]
    },
    {
     "name": "stdout",
     "output_type": "stream",
     "text": [
      "정답입니다.\n",
      "3번\n",
      "고양이\n"
     ]
    },
    {
     "name": "stdin",
     "output_type": "stream",
     "text": [
      ">>> 고양이\n"
     ]
    },
    {
     "name": "stdout",
     "output_type": "stream",
     "text": [
      "정답입니다.\n",
      "4번\n",
      "dog\n"
     ]
    },
    {
     "name": "stdin",
     "output_type": "stream",
     "text": [
      ">>> bog\n"
     ]
    },
    {
     "name": "stdout",
     "output_type": "stream",
     "text": [
      "땡! 다시 도전!\n",
      "4번\n",
      "dog\n"
     ]
    },
    {
     "name": "stdin",
     "output_type": "stream",
     "text": [
      ">>> dog\n"
     ]
    },
    {
     "name": "stdout",
     "output_type": "stream",
     "text": [
      "정답입니다.\n",
      "5번\n",
      "cat\n"
     ]
    },
    {
     "name": "stdin",
     "output_type": "stream",
     "text": [
      ">>> cat\n"
     ]
    },
    {
     "name": "stdout",
     "output_type": "stream",
     "text": [
      "정답입니다.\n"
     ]
    }
   ],
   "source": [
    "n = 1\n",
    "quiz = random.choice(word)\n",
    "while n <= 5:\n",
    "    print(f'{n}번')\n",
    "    print(quiz)\n",
    "    result = input('>>>')\n",
    "    if quiz == result:\n",
    "        print('정답입니다.')\n",
    "        n += 1\n",
    "        quiz = random.choice(word)\n",
    "    else:\n",
    "        print('땡! 다시 도전!')\n",
    "print('5문제 완료!!')"
   ]
  },
  {
   "cell_type": "code",
   "execution_count": 80,
   "id": "eb2ec7f9-d552-46e6-b592-9871bc86d99a",
   "metadata": {},
   "outputs": [],
   "source": [
    "# 저장\n",
    "# 파일 읽고 쓰기....r, w, a에 텍스트 기반의 경우 그냥 쓰고, b가 붙을 경우.... 뭐였지\n",
    "import json, pickle"
   ]
  },
  {
   "cell_type": "raw",
   "id": "f58b5e56-ced8-4aed-a210-11bac7762af7",
   "metadata": {},
   "source": [
    "JSON\n",
    "포멧을 정해 놓는 것.\n",
    "json은 텍스트 기반\n",
    "pickle은 byte 기반"
   ]
  },
  {
   "cell_type": "code",
   "execution_count": 95,
   "id": "a0d37f9a-05d8-48c9-aada-0ce26eda6214",
   "metadata": {},
   "outputs": [],
   "source": [
    "f = open('word.json','w')\n",
    "json.dump(word,f) # dump // dumps 파일에서 읽고 쓰고 할 땐 s 안 붙이고 메모리에서는 s 를 붙인다.\n",
    "f.close()"
   ]
  },
  {
   "cell_type": "code",
   "execution_count": 96,
   "id": "76b4dac7-6091-4a89-8698-dba64ad23365",
   "metadata": {},
   "outputs": [],
   "source": [
    "# 다시 읽어오고 싶다\n",
    "f = open('word.json','r')#open 으로\n",
    "word_1 = json.load(f)\n",
    "f.close()"
   ]
  },
  {
   "cell_type": "code",
   "execution_count": 99,
   "id": "3d290b4c-ad19-479d-b412-938bfc0db373",
   "metadata": {},
   "outputs": [
    {
     "data": {
      "text/plain": [
       "['고양이', '강아지', '북극페럿', '사막여우']"
      ]
     },
     "execution_count": 99,
     "metadata": {},
     "output_type": "execute_result"
    }
   ],
   "source": [
    "word_1"
   ]
  },
  {
   "cell_type": "code",
   "execution_count": 97,
   "id": "690d4db4-2b5c-4bce-8737-e1501df6e05f",
   "metadata": {},
   "outputs": [],
   "source": [
    "f = open('word.pickle','wb') #텍스트 기반이 아니기에 b를 붙여준다.\n",
    "pickle.dump(word,f)\n",
    "f.close()"
   ]
  },
  {
   "cell_type": "code",
   "execution_count": 98,
   "id": "f556b449-c29c-4285-af76-e07a27a271a7",
   "metadata": {},
   "outputs": [],
   "source": [
    "# 다시 읽어오고 싶다\n",
    "f = open('word.pickle','rb')#open 으로\n",
    "word_2 = pickle.load(f)\n",
    "f.close()"
   ]
  },
  {
   "cell_type": "code",
   "execution_count": 100,
   "id": "a4a910c1-67f9-4f43-8f15-13aef9e85505",
   "metadata": {},
   "outputs": [
    {
     "data": {
      "text/plain": [
       "['고양이', '강아지', '북극페럿', '사막여우']"
      ]
     },
     "execution_count": 100,
     "metadata": {},
     "output_type": "execute_result"
    }
   ],
   "source": [
    "word_2"
   ]
  },
  {
   "cell_type": "code",
   "execution_count": 3,
   "id": "4e106206-356c-4576-829c-346a81ff59d1",
   "metadata": {},
   "outputs": [],
   "source": [
    "import time"
   ]
  },
  {
   "cell_type": "code",
   "execution_count": 4,
   "id": "511848c6-2b1b-4693-b3ca-5e305d412754",
   "metadata": {},
   "outputs": [
    {
     "data": {
      "text/plain": [
       "1656471501.0339189"
      ]
     },
     "execution_count": 4,
     "metadata": {},
     "output_type": "execute_result"
    }
   ],
   "source": [
    "time.time() # 특정일자로 부터 해서 지나간 초 값을 리턴한다. 즉, 얼마나 지났는지 확인 가능"
   ]
  },
  {
   "cell_type": "code",
   "execution_count": 5,
   "id": "e9411f98-12e0-4a57-aa6d-4f9a6ab4ff8d",
   "metadata": {},
   "outputs": [
    {
     "data": {
      "text/plain": [
       "['test', 'test2', '정화']"
      ]
     },
     "execution_count": 5,
     "metadata": {},
     "output_type": "execute_result"
    }
   ],
   "source": [
    "rank = {'정화': 15.286213159561157, 'test': 13.855111360549927, 'test2': 9.588076114654541}\n",
    "sorted(rank) #key값에 대해서만 정렬"
   ]
  },
  {
   "cell_type": "code",
   "execution_count": 3,
   "id": "5456d7f2-07c1-43f6-91af-1cb17662c8a5",
   "metadata": {},
   "outputs": [
    {
     "data": {
      "text/plain": [
       "dict_items([('정화', 15.286213159561157), ('test', 13.855111360549927), ('test2', 9.588076114654541)])"
      ]
     },
     "execution_count": 3,
     "metadata": {},
     "output_type": "execute_result"
    }
   ],
   "source": [
    "rank.items()"
   ]
  },
  {
   "cell_type": "code",
   "execution_count": 5,
   "id": "d6d43cb6-d948-472f-8a35-65f57e0ee151",
   "metadata": {},
   "outputs": [
    {
     "data": {
      "text/plain": [
       "[('test2', 9.588076114654541),\n",
       " ('test', 13.855111360549927),\n",
       " ('정화', 15.286213159561157)]"
      ]
     },
     "execution_count": 5,
     "metadata": {},
     "output_type": "execute_result"
    }
   ],
   "source": [
    "sorted(rank.items(),key=lambda x : x[1])"
   ]
  },
  {
   "cell_type": "code",
   "execution_count": 9,
   "id": "7a8f16d4-c4ef-42c3-a384-f6fbab2544a9",
   "metadata": {
    "tags": []
   },
   "outputs": [
    {
     "name": "stdin",
     "output_type": "stream",
     "text": [
      "\n",
      "---------------------------------------------------------\n",
      "1. 게임    2. 문제추가    3. 문제저장   4. 등수 리스트    5. 종료\n",
      "=========================================================\n",
      ">>>  4\n"
     ]
    },
    {
     "name": "stdout",
     "output_type": "stream",
     "text": [
      "등수 리스트\n",
      "1등 test2 시간 : 10\n",
      "2등 test 시간 : 14\n",
      "3등 정화 시간 : 15\n"
     ]
    },
    {
     "ename": "KeyboardInterrupt",
     "evalue": "Interrupted by user",
     "output_type": "error",
     "traceback": [
      "\u001b[0;31m---------------------------------------------------------------------------\u001b[0m",
      "\u001b[0;31mKeyboardInterrupt\u001b[0m                         Traceback (most recent call last)",
      "Input \u001b[0;32mIn [9]\u001b[0m, in \u001b[0;36m<cell line: 15>\u001b[0;34m()\u001b[0m\n\u001b[1;32m     13\u001b[0m \u001b[38;5;66;03m#무한반복 되도록\u001b[39;00m\n\u001b[1;32m     14\u001b[0m \u001b[38;5;28;01mwhile\u001b[39;00m \u001b[38;5;28;01mTrue\u001b[39;00m:\n\u001b[0;32m---> 15\u001b[0m     menu \u001b[38;5;241m=\u001b[39m \u001b[38;5;28;43minput\u001b[39;49m\u001b[43m(\u001b[49m\u001b[43mmenu_display\u001b[49m\u001b[43m)\u001b[49m\n\u001b[1;32m     16\u001b[0m     \u001b[38;5;28;01mif\u001b[39;00m menu \u001b[38;5;241m==\u001b[39m \u001b[38;5;124m'\u001b[39m\u001b[38;5;124m1\u001b[39m\u001b[38;5;124m'\u001b[39m:\n\u001b[1;32m     17\u001b[0m         \u001b[38;5;28mprint\u001b[39m(\u001b[38;5;124m'\u001b[39m\u001b[38;5;124mGame Start!\u001b[39m\u001b[38;5;124m'\u001b[39m)\n",
      "File \u001b[0;32m~/opt/anaconda3/lib/python3.9/site-packages/ipykernel/kernelbase.py:1075\u001b[0m, in \u001b[0;36mKernel.raw_input\u001b[0;34m(self, prompt)\u001b[0m\n\u001b[1;32m   1071\u001b[0m \u001b[38;5;28;01mif\u001b[39;00m \u001b[38;5;129;01mnot\u001b[39;00m \u001b[38;5;28mself\u001b[39m\u001b[38;5;241m.\u001b[39m_allow_stdin:\n\u001b[1;32m   1072\u001b[0m     \u001b[38;5;28;01mraise\u001b[39;00m StdinNotImplementedError(\n\u001b[1;32m   1073\u001b[0m         \u001b[38;5;124m\"\u001b[39m\u001b[38;5;124mraw_input was called, but this frontend does not support input requests.\u001b[39m\u001b[38;5;124m\"\u001b[39m\n\u001b[1;32m   1074\u001b[0m     )\n\u001b[0;32m-> 1075\u001b[0m \u001b[38;5;28;01mreturn\u001b[39;00m \u001b[38;5;28;43mself\u001b[39;49m\u001b[38;5;241;43m.\u001b[39;49m\u001b[43m_input_request\u001b[49m\u001b[43m(\u001b[49m\n\u001b[1;32m   1076\u001b[0m \u001b[43m    \u001b[49m\u001b[38;5;28;43mstr\u001b[39;49m\u001b[43m(\u001b[49m\u001b[43mprompt\u001b[49m\u001b[43m)\u001b[49m\u001b[43m,\u001b[49m\n\u001b[1;32m   1077\u001b[0m \u001b[43m    \u001b[49m\u001b[38;5;28;43mself\u001b[39;49m\u001b[38;5;241;43m.\u001b[39;49m\u001b[43m_parent_ident\u001b[49m\u001b[43m[\u001b[49m\u001b[38;5;124;43m\"\u001b[39;49m\u001b[38;5;124;43mshell\u001b[39;49m\u001b[38;5;124;43m\"\u001b[39;49m\u001b[43m]\u001b[49m\u001b[43m,\u001b[49m\n\u001b[1;32m   1078\u001b[0m \u001b[43m    \u001b[49m\u001b[38;5;28;43mself\u001b[39;49m\u001b[38;5;241;43m.\u001b[39;49m\u001b[43mget_parent\u001b[49m\u001b[43m(\u001b[49m\u001b[38;5;124;43m\"\u001b[39;49m\u001b[38;5;124;43mshell\u001b[39;49m\u001b[38;5;124;43m\"\u001b[39;49m\u001b[43m)\u001b[49m\u001b[43m,\u001b[49m\n\u001b[1;32m   1079\u001b[0m \u001b[43m    \u001b[49m\u001b[43mpassword\u001b[49m\u001b[38;5;241;43m=\u001b[39;49m\u001b[38;5;28;43;01mFalse\u001b[39;49;00m\u001b[43m,\u001b[49m\n\u001b[1;32m   1080\u001b[0m \u001b[43m\u001b[49m\u001b[43m)\u001b[49m\n",
      "File \u001b[0;32m~/opt/anaconda3/lib/python3.9/site-packages/ipykernel/kernelbase.py:1120\u001b[0m, in \u001b[0;36mKernel._input_request\u001b[0;34m(self, prompt, ident, parent, password)\u001b[0m\n\u001b[1;32m   1117\u001b[0m             \u001b[38;5;28;01mbreak\u001b[39;00m\n\u001b[1;32m   1118\u001b[0m \u001b[38;5;28;01mexcept\u001b[39;00m \u001b[38;5;167;01mKeyboardInterrupt\u001b[39;00m:\n\u001b[1;32m   1119\u001b[0m     \u001b[38;5;66;03m# re-raise KeyboardInterrupt, to truncate traceback\u001b[39;00m\n\u001b[0;32m-> 1120\u001b[0m     \u001b[38;5;28;01mraise\u001b[39;00m \u001b[38;5;167;01mKeyboardInterrupt\u001b[39;00m(\u001b[38;5;124m\"\u001b[39m\u001b[38;5;124mInterrupted by user\u001b[39m\u001b[38;5;124m\"\u001b[39m) \u001b[38;5;28;01mfrom\u001b[39;00m \u001b[38;5;28mNone\u001b[39m\n\u001b[1;32m   1121\u001b[0m \u001b[38;5;28;01mexcept\u001b[39;00m \u001b[38;5;167;01mException\u001b[39;00m:\n\u001b[1;32m   1122\u001b[0m     \u001b[38;5;28mself\u001b[39m\u001b[38;5;241m.\u001b[39mlog\u001b[38;5;241m.\u001b[39mwarning(\u001b[38;5;124m\"\u001b[39m\u001b[38;5;124mInvalid Message:\u001b[39m\u001b[38;5;124m\"\u001b[39m, exc_info\u001b[38;5;241m=\u001b[39m\u001b[38;5;28;01mTrue\u001b[39;00m)\n",
      "\u001b[0;31mKeyboardInterrupt\u001b[0m: Interrupted by user"
     ]
    }
   ],
   "source": [
    "import json,time,random\n",
    "f = open('word.json','r')\n",
    "word = json.load(f)\n",
    "f.close()\n",
    "rank = {'정화': 15.286213159561157, 'test': 13.855111360549927, 'test2': 9.588076114654541} #rank 라는 이름으로 딕셔너리 저장한다고 선언\n",
    "\n",
    "menu_display = '''\n",
    "---------------------------------------------------------\n",
    "1. 게임    2. 문제추가    3. 문제저장   4. 등수 리스트    5. 종료\n",
    "=========================================================\n",
    ">>> '''\n",
    "\n",
    "#무한반복 되도록\n",
    "while True:\n",
    "    menu = input(menu_display)\n",
    "    if menu == '1':\n",
    "        print('Game Start!')\n",
    "        start = time.time()\n",
    "        n = 1\n",
    "        quiz = random.choice(word)\n",
    "        while n <= 5:\n",
    "            print(f'{n}번')\n",
    "            print(quiz)\n",
    "            result = input('>>>')\n",
    "            if quiz == result:\n",
    "                print('딩동댕!')\n",
    "                n += 1\n",
    "                quiz = random.choice(word)\n",
    "            else:\n",
    "                print('땡! 다시 도전!')\n",
    "        print('5문제 완료!!')\n",
    "        end = time.time()\n",
    "        print(f'걸린 시간 : {end-start:.0f}초') # 소수점 이하 값은 표시하지 않기 위해 :.0f 를 사용한다.\n",
    "        name = input('이름을 입력하세요 >>>')\n",
    "        rank[name] = end-start #name을 key로\n",
    "        print(rank)\n",
    "    elif menu == '2':\n",
    "        print('문제 추가') # 추가작업한 것을 저장 하고 싶으면 프로그램 끝낼 때 저장, 시작할 때 로드 해주면 된다.\n",
    "        while True:\n",
    "            data = input('(종료:Enter) >>>')\n",
    "            if data == '':\n",
    "                break\n",
    "            word.append(data)\n",
    "            print(word)\n",
    "    elif menu == '3':\n",
    "        print('문제 저장') # word는 메모리 상에 저장되기에 데이터 저장은 안된다.\n",
    "    elif menu == '4':\n",
    "        print('등수 리스트')\n",
    "        for index,(k,v) in enumerate(sorted(rank.items(),key=lambda x : x[1])):\n",
    "            print(f'{index+1}등 {k} 시간 : {v:.0f}') #v의 값에 소수점 0 자리까지\n",
    "    elif menu == '5':\n",
    "        print('프로그램 종료!')\n",
    "        f = open('word.json','w')\n",
    "        json.dump(word,f)\n",
    "        f.close()\n",
    "        break\n",
    "    else:\n",
    "        print('메뉴를 잘못 선택하셨습니다.')"
   ]
  },
  {
   "cell_type": "raw",
   "id": "746e04bc-4977-45dd-bf08-1968bdd8387d",
   "metadata": {},
   "source": [
    "# 커피자판기\n",
    "1. 커피자판기  2. 메뉴추가  3. 메뉴삭제  4. 메뉴목록  5. 종료\n",
    "- 프로그램이 시작될 때 필요한 정보를 읽어서 시작합니다.\n",
    "- 커피자판기 무한반목하면서 돈을 입력받고, 메뉴를 선택해서 처리\n",
    "- 메뉴추가 자판기에서 판매하는 메뉴를 추가하는 기능(메뉴명, 가격)\n",
    "- 메뉴삭제는 전체목록을 보여주고 삭제하고자하는 항목을 선택하도록 해서 삭제 처리\n",
    "- 메뉴목록은 메뉴이름순, 메뉴가격순으로 정렬해서 보여줌\n",
    "- 종료는 저장할 정보가 있으면 저장하고 종료합니다"
   ]
  },
  {
   "cell_type": "code",
   "execution_count": null,
   "id": "12392aad-c0f1-4039-a441-cee78a234c1b",
   "metadata": {},
   "outputs": [
    {
     "name": "stdin",
     "output_type": "stream",
     "text": [
      "\n",
      "----------------------------------------------------------\n",
      "1. 커피자판기    2. 메뉴추가    3. 메뉴삭제   4. 메뉴목록    5. 종료\n",
      "==========================================================\n",
      ">>>  1\n"
     ]
    },
    {
     "name": "stdout",
     "output_type": "stream",
     "text": [
      "아메리카노:1,500원 카페라떼:2,500원 바닐라라떼:2,500원 \n"
     ]
    }
   ],
   "source": [
    "item = {'아메리카노':1500,\n",
    "        '카페라떼':2500,\n",
    "        '바닐라라떼':2500\n",
    "       }\n",
    "menu_display = '''\n",
    "----------------------------------------------------------\n",
    "1. 커피자판기    2. 메뉴추가    3. 메뉴삭제   4. 메뉴목록    5. 종료\n",
    "==========================================================\n",
    ">>> '''\n",
    "\n",
    "#무한반복 되도록\n",
    "while True:\n",
    "    menu = input(menu_display)\n",
    "    if menu == '1':\n",
    "        choice = '선택한 메뉴'\n",
    "        while choice:\n",
    "            for k,v in item.items():\n",
    "                print(f'{k}:{v:,}원',end=' ')\n",
    "            print()\n",
    "            choice = input('메뉴선택(종료:Enter) >>>')\n",
    "            if choice == '':\n",
    "                break\n",
    "            money = int(input('금액 투입 >>>'))\n",
    "            if choice in item.keys():\n",
    "                if money >= item[choice]:\n",
    "                    money -= item[choice]\n",
    "                    print(f'{choice} 서비스 합니다. 거스름돈은 {money}')\n",
    "                elif money < item[choice]:\n",
    "                    print('금액이 부족합니다.')\n",
    "            else:\n",
    "                print('해당 메뉴가 없습니다.')\n",
    "                \n",
    "    elif menu == '2':\n",
    "        menu_name = input('메뉴명 >>>')\n",
    "        menu_price = ''\n",
    "        while not menu_price.isdigit(): #숫자값이면 나오고 숫자값이 아니면 계속 입력(진입)\n",
    "            menu_price = input('메뉴가격 >>>') #숫자형태가 들어올 때 까지 반복\n",
    "        menu_price = int(menu_price)\n",
    "        \n",
    "        if menu_name in item.keys():\n",
    "            print(f'{menu_name} 메뉴 중복, 다른 메뉴를 추가하세요.')\n",
    "        else:\n",
    "            print(f'{menu_name} 메뉴를 추가합니다.')\n",
    "        item[menu_name] = menu_price\n",
    "        print(item)\n",
    "    elif menu == '3':\n",
    "        menu_name = input('삭제할 메뉴명 >>>')\n",
    "        if menu_name in item.keys():\n",
    "            print(f'{menu_name} 메뉴 삭제')\n",
    "            del item[menu_name]\n",
    "        else:\n",
    "            print(f'{menu_name} 메뉴가 없습니다.')\n",
    "        print(item)\n",
    "    elif menu == '4':\n",
    "        menu_1 = input('이름순: 1 가격순: 2 >>>')\n",
    "        if menu_1 == '1':\n",
    "            for k,v in sorted(item.items(),key=lambda x : x[0]):\n",
    "                print(f'{k:10} : {v:10,}원') #k값은 10자리 확보 // v 값은 천단위 구분, 10자리 확보\n",
    "        elif menu_1 == '2':\n",
    "            for k,v in sorted(item.items(),key=lambda x : x[1]):\n",
    "                print(f'{k:10} : {v:10,}원')\n",
    "    elif menu == '5':\n",
    "        print('자판기 프로그램을 종료합니다')\n",
    "        \n",
    "        break\n",
    "    else:\n",
    "        print('정확한 메뉴를 선택해주세요')"
   ]
  },
  {
   "cell_type": "markdown",
   "id": "81cb5613-4a1d-452a-becb-4a813bdb5d6b",
   "metadata": {},
   "source": [
    "# 튜플"
   ]
  },
  {
   "cell_type": "raw",
   "id": "89faf19e-d20c-421e-901b-2ca93e0716a7",
   "metadata": {},
   "source": [
    "리스트와 거의 비슷하지만, \n",
    "리스트는 []로 둘러싸지만, 튜플은 ()로 둘러싼다.\n",
    "리스트는 그 값을 생성, 삭제, 수정이 가능 // 튜플은 정해진 값을 주고 그 값을 수정하지 못 하게 할 때 사용한다. 즉, 가져와서 보기만 해라~\n",
    "부분 수정, 부분 삭제는 불가능 하지만 전체 삭제는 가능하다~ (del 사용)\n",
    "튜플의 기본적인 모양은 값이 하나일 경우 뒤에 , 가 붙는다 \n",
    "ex) (1,)\n",
    "하나 짜리 일 때 괄호가 없는 형태도 존재한다."
   ]
  },
  {
   "cell_type": "markdown",
   "id": "720d8523-4903-422a-bf7c-2a402d02237f",
   "metadata": {},
   "source": [
    "# 딕셔너리"
   ]
  },
  {
   "cell_type": "raw",
   "id": "b5a221db-fa43-4de6-9052-6be862402d31",
   "metadata": {},
   "source": [
    "순서가 없기에 인덱싱, 슬라이싱이 불가능하다\n",
    "데이터 구분 시 Key 와 Value 한 쌍으로 구분한다.\n",
    "{Key1:Value1, Key2:Value2, Key3:Value3 ...}\n",
    "ex) dic = {'name':'pey', 'phone':'0101221324', 'birth':'23952'}"
   ]
  },
  {
   "cell_type": "markdown",
   "id": "56cfe000-12ae-4cc9-bfac-b976f67062f2",
   "metadata": {},
   "source": [
    "## 딕셔너리 쌍 추가하기"
   ]
  },
  {
   "cell_type": "raw",
   "id": "0435eb17-550f-4151-9e02-dde37355fb7c",
   "metadata": {},
   "source": [
    "없는 키 값을 이용해서 데이터를 입력, 있는 키 값을 이용해서 수정 가능\n",
    "\n",
    "삭제.....\n",
    "del 은 딕셔너리 자체를 지워버리고\n",
    "clear를 하면 데이터를 한번에 지우고 딕셔너리는 빈값으로 만든다.\n",
    "\n"
   ]
  },
  {
   "cell_type": "markdown",
   "id": "db3037f8-0605-4165-aff3-a92930ba14e9",
   "metadata": {},
   "source": [
    "# 내장함수"
   ]
  },
  {
   "cell_type": "markdown",
   "id": "f85dd5cd-d504-476e-8f29-24322b79b327",
   "metadata": {},
   "source": [
    "## sorted"
   ]
  },
  {
   "cell_type": "raw",
   "id": "89fd06c0-adce-41cb-93d4-b313987411b9",
   "metadata": {},
   "source": [
    "입력값을 정렬한 후 그 결과를 리스트로 돌려주는 함수"
   ]
  },
  {
   "cell_type": "markdown",
   "id": "3e8c5db0-cc88-4763-8461-1a909b9c125d",
   "metadata": {},
   "source": [
    "# 정규표현식"
   ]
  },
  {
   "cell_type": "raw",
   "id": "1bc1eb93-55a5-4904-87cc-2d07186ab2a1",
   "metadata": {},
   "source": [
    "복잡한 문자열을 처리할 때 사용하는 기법으로, 파이썬만의 고유 문법이 아니라 문자열을 처리하는 모든 곳에서 사용한다.\n"
   ]
  },
  {
   "cell_type": "markdown",
   "id": "c619edf5-47aa-4c65-a44a-2e8e30025cce",
   "metadata": {},
   "source": [
    "## 메타문자"
   ]
  },
  {
   "cell_type": "code",
   "execution_count": null,
   "id": "d3779c43-3fa1-4275-b20a-5ed72c3877ba",
   "metadata": {},
   "outputs": [],
   "source": [
    "# 원래 그 문자가 가진 뜻이 아닌 특별한 용도로 사용하는 문자\n",
    "# . ^ $ * + ? { } [ ] \\ | ( )"
   ]
  },
  {
   "cell_type": "markdown",
   "id": "fa106a11-b8c5-4743-b18a-025093bb8a09",
   "metadata": {},
   "source": [
    "## 문자 클래스 [ ]"
   ]
  },
  {
   "cell_type": "code",
   "execution_count": 1,
   "id": "3cbd15e3-473a-4055-a58d-dc6a445cdf42",
   "metadata": {},
   "outputs": [],
   "source": [
    "# [^0-9] -> 숫자 빼고 다 라는 의미"
   ]
  },
  {
   "cell_type": "code",
   "execution_count": 2,
   "id": "cf67553d-ad66-4991-b68b-19c47742bf8b",
   "metadata": {},
   "outputs": [],
   "source": [
    "import re"
   ]
  },
  {
   "cell_type": "code",
   "execution_count": 10,
   "id": "bd9f220b-e259-45c1-836e-0ee1b15c4e49",
   "metadata": {},
   "outputs": [
    {
     "data": {
      "text/plain": [
       "<re.Match object; span=(0, 6), match='python'>"
      ]
     },
     "execution_count": 10,
     "metadata": {},
     "output_type": "execute_result"
    }
   ],
   "source": [
    "p = re.compile('[a-z]+') #컴파일 하면 반복적으로 사용가능하며, 안하면 그때 그때 패턴을 넣고 해줘야 한다.\n",
    "m = p.match('python') #match는 처음부터 찾음\n",
    "m"
   ]
  },
  {
   "cell_type": "code",
   "execution_count": 5,
   "id": "7c2f77c8-4252-4cb3-81a2-8aa5a193eb13",
   "metadata": {},
   "outputs": [
    {
     "data": {
      "text/plain": [
       "<re.Match object; span=(0, 6), match='python'>"
      ]
     },
     "execution_count": 5,
     "metadata": {},
     "output_type": "execute_result"
    }
   ],
   "source": [
    "m2 = p.match('python1python')\n",
    "m2"
   ]
  },
  {
   "cell_type": "code",
   "execution_count": 6,
   "id": "3a5cc2ac-275c-4d7e-96ed-1c7acdac417e",
   "metadata": {},
   "outputs": [],
   "source": [
    "m2 = p.match('Python1python')\n",
    "m2"
   ]
  },
  {
   "cell_type": "code",
   "execution_count": 11,
   "id": "da79c851-7303-4e3b-a122-c2861d2e036c",
   "metadata": {},
   "outputs": [
    {
     "data": {
      "text/plain": [
       "<re.Match object; span=(1, 6), match='ython'>"
      ]
     },
     "execution_count": 11,
     "metadata": {},
     "output_type": "execute_result"
    }
   ],
   "source": [
    "p = re.compile('[a-z]+')\n",
    "m3 = p.search('Python1python') # search는 중간부터 찾음\n",
    "m3"
   ]
  },
  {
   "cell_type": "code",
   "execution_count": 12,
   "id": "3cd4ec52-84f7-411c-af29-a5f553c8b2b6",
   "metadata": {},
   "outputs": [
    {
     "data": {
      "text/plain": [
       "['life', 'is', 'too', 'short']"
      ]
     },
     "execution_count": 12,
     "metadata": {},
     "output_type": "execute_result"
    }
   ],
   "source": [
    "result = p.findall(\"life is too short\") #띄어쓰기가 있으면 띄어쓰기 다음부터 또 찾는다.\n",
    "result"
   ]
  },
  {
   "cell_type": "code",
   "execution_count": 14,
   "id": "1ad39547-2c55-4af2-9b97-bd321296fd96",
   "metadata": {},
   "outputs": [],
   "source": [
    "p = re.compile('[a-z][a-z0-9]{4,}@[a-z][.](kr|com|org|net)$')\n",
    "email = input('이메일 >>>')\n",
    "result = p.match(email)\n",
    "result"
   ]
  },
  {
   "cell_type": "code",
   "execution_count": null,
   "id": "23d26850-55a2-4063-b8ec-2a92acc22ab4",
   "metadata": {},
   "outputs": [],
   "source": []
  }
 ],
 "metadata": {
  "kernelspec": {
   "display_name": "Python 3 (ipykernel)",
   "language": "python",
   "name": "python3"
  },
  "language_info": {
   "codemirror_mode": {
    "name": "ipython",
    "version": 3
   },
   "file_extension": ".py",
   "mimetype": "text/x-python",
   "name": "python",
   "nbconvert_exporter": "python",
   "pygments_lexer": "ipython3",
   "version": "3.9.12"
  }
 },
 "nbformat": 4,
 "nbformat_minor": 5
}
