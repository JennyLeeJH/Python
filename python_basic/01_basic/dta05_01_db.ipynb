{
 "cells": [
  {
   "cell_type": "markdown",
   "id": "fb51fa6b-7b5a-4b4a-8231-2a3b6072d8ee",
   "metadata": {},
   "source": [
    "# map"
   ]
  },
  {
   "cell_type": "code",
   "execution_count": 5,
   "id": "43d84c88-c900-47a1-afec-194c8f8cdf9b",
   "metadata": {},
   "outputs": [],
   "source": [
    "def two_times(numberList):\n",
    "    result = []\n",
    "    for number in numberList:\n",
    "        result.append(number*2)\n",
    "    return result"
   ]
  },
  {
   "cell_type": "code",
   "execution_count": 16,
   "id": "dd0debe4-c83e-4531-a107-68339ca849f4",
   "metadata": {},
   "outputs": [],
   "source": [
    "del numberList"
   ]
  },
  {
   "cell_type": "code",
   "execution_count": 18,
   "id": "73c9e782-7c89-408c-8d40-6f4cce205398",
   "metadata": {},
   "outputs": [],
   "source": [
    "numberList = [1,2,3,4,5]"
   ]
  },
  {
   "cell_type": "code",
   "execution_count": 19,
   "id": "0075e497-6fb3-4808-8b87-7fbe594247ab",
   "metadata": {},
   "outputs": [
    {
     "data": {
      "text/plain": [
       "[1, 2, 3, 4, 5, 1, 2, 3, 4, 5]"
      ]
     },
     "execution_count": 19,
     "metadata": {},
     "output_type": "execute_result"
    }
   ],
   "source": [
    "tow_times(numberList)"
   ]
  },
  {
   "cell_type": "code",
   "execution_count": 10,
   "id": "007a6dec-1c27-46c6-96a6-72055f390467",
   "metadata": {},
   "outputs": [],
   "source": [
    "def two_times(x): #map 에서 쓰는 함수는 데이터 1건\n",
    "    return x*2"
   ]
  },
  {
   "cell_type": "code",
   "execution_count": 11,
   "id": "53d342af-4d64-466b-ac87-8a8670fccb84",
   "metadata": {},
   "outputs": [
    {
     "data": {
      "text/plain": [
       "[2, 4, 6, 8, 10]"
      ]
     },
     "execution_count": 11,
     "metadata": {},
     "output_type": "execute_result"
    }
   ],
   "source": [
    "list(map(two_times, numberList))"
   ]
  },
  {
   "cell_type": "code",
   "execution_count": 20,
   "id": "d2c9f9e5-43b5-49a2-956b-1a6c0cbf2de8",
   "metadata": {},
   "outputs": [],
   "source": [
    "names = ['홍길동','박철수','김나리']\n",
    "# 안녕하세요! ㅇㅇㅇ고객님!"
   ]
  },
  {
   "cell_type": "code",
   "execution_count": 23,
   "id": "1d8f68e5-82dd-4ede-8a93-2f797bafa935",
   "metadata": {},
   "outputs": [],
   "source": [
    "def hello(x):\n",
    "    return '안녕하세요! ' + x + ' 고객님~'"
   ]
  },
  {
   "cell_type": "code",
   "execution_count": 24,
   "id": "a9e8cb62-d5a1-43d4-a39c-8021b4483b9c",
   "metadata": {},
   "outputs": [
    {
     "data": {
      "text/plain": [
       "['안녕하세요! 홍길동 고객님~', '안녕하세요! 박철수 고객님~', '안녕하세요! 김나리 고객님~']"
      ]
     },
     "execution_count": 24,
     "metadata": {},
     "output_type": "execute_result"
    }
   ],
   "source": [
    "list(map(hello,names))"
   ]
  },
  {
   "cell_type": "markdown",
   "id": "e4402eec-ba87-4c3e-9406-5ac8016e9f5c",
   "metadata": {},
   "source": [
    "# zip"
   ]
  },
  {
   "cell_type": "raw",
   "id": "3b338280-1e6d-42f9-913d-78bd59ec0142",
   "metadata": {},
   "source": []
  },
  {
   "cell_type": "code",
   "execution_count": 25,
   "id": "411edcff-7398-461f-930e-6eb6715b499b",
   "metadata": {},
   "outputs": [],
   "source": [
    "names = ['홍길동','박철수','김나리']\n",
    "score = [40,50,76,45]\n",
    "score1 = [50,65,89,75]"
   ]
  },
  {
   "cell_type": "code",
   "execution_count": 27,
   "id": "79c21a54-1d74-49dd-ba1e-949159b321ca",
   "metadata": {},
   "outputs": [
    {
     "data": {
      "text/plain": [
       "[('홍길동', 40, 50), ('박철수', 50, 65), ('김나리', 76, 89)]"
      ]
     },
     "execution_count": 27,
     "metadata": {},
     "output_type": "execute_result"
    }
   ],
   "source": [
    "list(zip(names,score,score1))"
   ]
  },
  {
   "cell_type": "markdown",
   "id": "605a1d5e-91f2-4f8d-b86d-49eeb87c009e",
   "metadata": {},
   "source": [
    "# 라이브러리"
   ]
  },
  {
   "cell_type": "code",
   "execution_count": null,
   "id": "a84fc8ea-b82b-4bf9-975c-1a6f1670fec1",
   "metadata": {},
   "outputs": [],
   "source": []
  }
 ],
 "metadata": {
  "kernelspec": {
   "display_name": "Python 3 (ipykernel)",
   "language": "python",
   "name": "python3"
  },
  "language_info": {
   "codemirror_mode": {
    "name": "ipython",
    "version": 3
   },
   "file_extension": ".py",
   "mimetype": "text/x-python",
   "name": "python",
   "nbconvert_exporter": "python",
   "pygments_lexer": "ipython3",
   "version": "3.9.12"
  }
 },
 "nbformat": 4,
 "nbformat_minor": 5
}
